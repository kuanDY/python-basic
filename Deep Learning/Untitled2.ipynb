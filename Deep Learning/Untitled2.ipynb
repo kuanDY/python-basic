{
 "cells": [
  {
   "cell_type": "code",
   "execution_count": 1,
   "id": "a4d8a06e",
   "metadata": {},
   "outputs": [],
   "source": [
    "import os\n",
    "import numpy as np\n",
    "import pandas as pd\n",
    "import requests\n",
    "\n",
    "from requests import get\n",
    "from bs4 import BeautifulSoup as bs\n",
    "\n",
    "import selenium\n",
    "from selenium.webdriver.common.by import By\n",
    "\n",
    "driver = selenium.webdriver.Chrome()\n",
    "url =\"https://www.naver.com/\"\n",
    "driver.get(url)\n",
    "\n",
    "driver.find_element('xpath', '//*[@id=\"NM_FAVORITE\"]/div[1]/a').click()\n",
    "driver.find_element('xpath', '//*[@id=\"gnb\"]/div[2]/div[1]/dl[3]/dd[2]/a').click()\n",
    "driver.find_element('xpath', '//*[@id=\"noti_popup\"]/div[1]/div/div[4]/input').click()\n",
    "driver.find_element('xpath', '//*[@id=\"noti_popup\"]/div[1]/button').click()\n",
    "driver.find_element('xpath', '//*[@id=\"scrollbar\"]/div[1]/div/div/ul/li[3]/a').click()\n",
    "driver.find_element('xpath', '//*[@id=\"old_content\"]/div[1]/ul/li[3]/a/img').click()\n"
   ]
  },
  {
   "cell_type": "code",
   "execution_count": null,
   "id": "955f8a3b",
   "metadata": {},
   "outputs": [],
   "source": []
  },
  {
   "cell_type": "code",
   "execution_count": null,
   "id": "ac7735e3",
   "metadata": {},
   "outputs": [],
   "source": []
  },
  {
   "cell_type": "code",
   "execution_count": null,
   "id": "5db5d3d4",
   "metadata": {},
   "outputs": [],
   "source": []
  },
  {
   "cell_type": "code",
   "execution_count": null,
   "id": "56c5250f",
   "metadata": {},
   "outputs": [],
   "source": []
  },
  {
   "cell_type": "code",
   "execution_count": null,
   "id": "b1e8e77b",
   "metadata": {},
   "outputs": [],
   "source": []
  },
  {
   "cell_type": "code",
   "execution_count": null,
   "id": "a7663766",
   "metadata": {},
   "outputs": [],
   "source": []
  },
  {
   "cell_type": "code",
   "execution_count": null,
   "id": "16183c15",
   "metadata": {},
   "outputs": [],
   "source": []
  }
 ],
 "metadata": {
  "kernelspec": {
   "display_name": "Python 3 (ipykernel)",
   "language": "python",
   "name": "python3"
  },
  "language_info": {
   "codemirror_mode": {
    "name": "ipython",
    "version": 3
   },
   "file_extension": ".py",
   "mimetype": "text/x-python",
   "name": "python",
   "nbconvert_exporter": "python",
   "pygments_lexer": "ipython3",
   "version": "3.9.13"
  }
 },
 "nbformat": 4,
 "nbformat_minor": 5
}
