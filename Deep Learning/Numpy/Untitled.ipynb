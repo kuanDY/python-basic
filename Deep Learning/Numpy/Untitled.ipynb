{
 "cells": [
  {
   "cell_type": "markdown",
   "id": "51334101-6b82-452b-8bc1-bbcaf8d86b9d",
   "metadata": {},
   "source": [
    "# Numpy"
   ]
  },
  {
   "cell_type": "markdown",
   "id": "097cc79f-2542-4d2b-b5a5-f2adc1f32d43",
   "metadata": {},
   "source": [
    "Numpy란 무엇인가?"
   ]
  },
  {
   "cell_type": "markdown",
   "id": "95c1b6a1-a2e7-410a-837b-17a6c5ab408d",
   "metadata": {},
   "source": [
    "Numpy는 C언어로 구현된 파이썬 라이브러리로써, 고성능의 수치계산을 위해 제작되었습니다. Numerical Python의 줄임말이기도 한 Numpy는 벡터 및 행렬 연산에 있어서 매우 편리한 기능을 제공합니다.\n",
    "\n",
    "또한 이는 데이터분석을 할 때 사용되는 라이브러리인 pandas와 matplotlib의 기반으로 사용되기도 합니다"
   ]
  },
  {
   "cell_type": "markdown",
   "id": "0880a730-ed03-4b87-b6ed-8ca587e0c2c7",
   "metadata": {},
   "source": [
    "Numpy 설치법"
   ]
  },
  {
   "cell_type": "markdown",
   "id": "ffe039ce-d7ce-448e-83ec-45d6b66c7fba",
   "metadata": {
    "tags": []
   },
   "source": [
    "conda install numpy 또는 pip install numpy"
   ]
  },
  {
   "cell_type": "markdown",
   "id": "bcf2b47f-e3c8-4650-a590-619a23ea089f",
   "metadata": {
    "tags": []
   },
   "source": [
    "* Numpy를 가져오는 방법"
   ]
  },
  {
   "cell_type": "code",
   "execution_count": 1,
   "id": "b13da0c5-d432-4d68-bc82-24edf3b122c0",
   "metadata": {},
   "outputs": [],
   "source": [
    "import numpy as np # 넘파이를 쓸 때 관레적으로 np를 쓴다."
   ]
  },
  {
   "cell_type": "markdown",
   "id": "370148c0-8a51-400e-a93a-981e04299fb5",
   "metadata": {},
   "source": [
    "# 백터와 행렬"
   ]
  },
  {
   "cell_type": "markdown",
   "id": "885fadcf-96a5-4db1-b235-7dd9ab42ede9",
   "metadata": {},
   "source": [
    " * 백터는 숫자를 원소로 가지는 리스트(list) 또는 배열(array)입니다. np.array()는 행 백터로 나오게 됩니다.   백터는 공간에서 한 점을 나타냅니다. 1차원 공간에서는 백터는 수직선상에 놓인 숫자로 표현하게 됩니다. 2차원 공간에서의 백터는 x축과 y축으로 이뤄진 좌표평면의 한 점을 나타내는 것입니다. 백터는 원점으로부터 상대적 위치를 표현합니다."
   ]
  },
  {
   "cell_type": "markdown",
   "id": "2735dbbf-2ff2-4d74-8261-9b57a605656f",
   "metadata": {},
   "source": [
    "* 벡터는 스칼라의 모임입니다"
   ]
  },
  {
   "cell_type": "markdown",
   "id": "7e779050-b852-4005-90a9-4bd407ca5f3d",
   "metadata": {},
   "source": [
    "* 스칼라는 단순하게 측정한 하나의 값이다."
   ]
  },
  {
   "cell_type": "markdown",
   "id": "2237045d-8182-4c16-b894-ea28033910a8",
   "metadata": {},
   "source": [
    "* 행렬은 벡터를 원소로 가지는 2차원 배열입니다.  numpy에서는 행이 기본 단위입니다. 행렬은 행과 열이라는 인덱스를 가집니다.   \n",
    "X=(xij)는 i번째 행, j번째 열에 있는 원소를 표현하는 것이라고 보면 됩니다. 전치행렬(Transpose matrix)은 행과 열의 인덱스가 바뀐 행렬입니다. "
   ]
  },
  {
   "cell_type": "markdown",
   "id": "20a71bf2-9765-454a-85d1-b4b5860c4d89",
   "metadata": {},
   "source": [
    "* 백터를 만들어 보자"
   ]
  },
  {
   "cell_type": "code",
   "execution_count": 3,
   "id": "59cccbc5-0d65-490e-9377-a19346a6b918",
   "metadata": {},
   "outputs": [
    {
     "data": {
      "text/plain": [
       "array([1, 2, 3, 4, 5])"
      ]
     },
     "execution_count": 3,
     "metadata": {},
     "output_type": "execute_result"
    }
   ],
   "source": [
    "ar = np.array([1,2,3,4,5])\n",
    "ar"
   ]
  },
  {
   "cell_type": "markdown",
   "id": "30e3f9ad-f002-418e-8ee2-1e688aac6969",
   "metadata": {},
   "source": [
    "* 행렬을 만들어 보자"
   ]
  },
  {
   "cell_type": "markdown",
   "id": "99c796ef-9b46-4923-b977-5d601f14f32f",
   "metadata": {},
   "source": [
    "### 1차원"
   ]
  },
  {
   "cell_type": "code",
   "execution_count": 12,
   "id": "4598ea10-1be4-443b-8598-5b8143db7fa3",
   "metadata": {},
   "outputs": [
    {
     "data": {
      "text/plain": [
       "array([1, 2, 3, 4])"
      ]
     },
     "execution_count": 12,
     "metadata": {},
     "output_type": "execute_result"
    }
   ],
   "source": [
    "ar1 = np.array([1,2,3,4])\n",
    "ar1"
   ]
  },
  {
   "cell_type": "markdown",
   "id": "37758a3f-58ed-4eac-9376-d597419032d7",
   "metadata": {
    "tags": []
   },
   "source": [
    "### 2차원"
   ]
  },
  {
   "cell_type": "code",
   "execution_count": 11,
   "id": "e4bf620d-8e6f-4d93-9cb3-0aed1a077024",
   "metadata": {
    "tags": []
   },
   "outputs": [
    {
     "data": {
      "text/plain": [
       "array([[ 1,  2,  3,  4,  5],\n",
       "       [ 6,  7,  8,  9, 10]])"
      ]
     },
     "execution_count": 11,
     "metadata": {},
     "output_type": "execute_result"
    }
   ],
   "source": [
    "ar2 = np.array([[1,2,3,4,5],\n",
    "              [6,7,8,9,10]\n",
    "             ])\n",
    "ar2"
   ]
  },
  {
   "cell_type": "markdown",
   "id": "703ae61e-9b49-4b94-85e5-f051b535c283",
   "metadata": {},
   "source": [
    "### 3차원"
   ]
  },
  {
   "cell_type": "code",
   "execution_count": 14,
   "id": "0f5dc904-51e2-4720-ac3e-443f055658a1",
   "metadata": {},
   "outputs": [
    {
     "data": {
      "text/plain": [
       "array([[1, 2, 3],\n",
       "       [1, 2, 3],\n",
       "       [1, 2, 3]])"
      ]
     },
     "execution_count": 14,
     "metadata": {},
     "output_type": "execute_result"
    }
   ],
   "source": [
    "ar3 = np.array([[1,2,3],\n",
    "               [1,2,3],\n",
    "               [1,2,3]])\n",
    "ar3"
   ]
  },
  {
   "cell_type": "markdown",
   "id": "f7ff016b-ee62-453a-8a18-f3108439b926",
   "metadata": {},
   "source": [
    "# Numpy 기초"
   ]
  },
  {
   "cell_type": "markdown",
   "id": "cd403d50-ec05-4683-a602-1172d80d403a",
   "metadata": {
    "tags": []
   },
   "source": [
    "## * 배열"
   ]
  },
  {
   "cell_type": "markdown",
   "id": "ee7b9470-ee6a-48b9-be94-19f2368f84fb",
   "metadata": {
    "tags": []
   },
   "source": [
    "* 파이썬 리스트로 배열을 생성하는 방법"
   ]
  },
  {
   "cell_type": "code",
   "execution_count": 17,
   "id": "de9eb093-56c6-4371-b48b-82a5cf66471b",
   "metadata": {},
   "outputs": [
    {
     "name": "stdout",
     "output_type": "stream",
     "text": [
      "[1 2 3 4]\n"
     ]
    },
    {
     "data": {
      "text/plain": [
       "(4,)"
      ]
     },
     "execution_count": 17,
     "metadata": {},
     "output_type": "execute_result"
    }
   ],
   "source": [
    "list1 =[1,2,3,4]\n",
    "a = np.array(list1)\n",
    "print(a)\n",
    "a.shape"
   ]
  },
  {
   "cell_type": "code",
   "execution_count": 18,
   "id": "389d57ef-300d-4089-a890-e34b55b84481",
   "metadata": {},
   "outputs": [
    {
     "name": "stdout",
     "output_type": "stream",
     "text": [
      "[[1 2 3]\n",
      " [1 2 3]]\n"
     ]
    },
    {
     "data": {
      "text/plain": [
       "(2, 3)"
      ]
     },
     "execution_count": 18,
     "metadata": {},
     "output_type": "execute_result"
    }
   ],
   "source": [
    "b = np.array([[1,2,3],[1,2,3]])\n",
    "print (b)\n",
    "b.shape"
   ]
  },
  {
   "cell_type": "markdown",
   "id": "f79018ee-cd8b-44d0-8cec-6858e11b14cd",
   "metadata": {},
   "source": [
    "## *특수한 배열의 생성"
   ]
  },
  {
   "cell_type": "markdown",
   "id": "698241d6-e281-45e8-8b27-00ed86cdf478",
   "metadata": {
    "tags": []
   },
   "source": [
    "* zeros():배열에 모두 0을 집어넣음"
   ]
  },
  {
   "cell_type": "code",
   "execution_count": 19,
   "id": "a95fb821-2edc-4942-8f3f-822ffc6508a3",
   "metadata": {},
   "outputs": [
    {
     "data": {
      "text/plain": [
       "array([[0., 0.],\n",
       "       [0., 0.]])"
      ]
     },
     "execution_count": 19,
     "metadata": {},
     "output_type": "execute_result"
    }
   ],
   "source": [
    "aa = np.zeros((2,2))\n",
    "aa"
   ]
  },
  {
   "cell_type": "code",
   "execution_count": 20,
   "id": "f216cf76-710b-4f20-8866-50a64fc870cf",
   "metadata": {},
   "outputs": [
    {
     "data": {
      "text/plain": [
       "numpy.ndarray"
      ]
     },
     "execution_count": 20,
     "metadata": {},
     "output_type": "execute_result"
    }
   ],
   "source": [
    "type(aa)"
   ]
  },
  {
   "cell_type": "markdown",
   "id": "d24050f7-37f7-4958-99c6-3638575c72e2",
   "metadata": {},
   "source": [
    "* ones():배열에 모두 1을 집어 넣음"
   ]
  },
  {
   "cell_type": "code",
   "execution_count": 21,
   "id": "c59af751-11a5-46e0-bc18-f37cd061adaf",
   "metadata": {},
   "outputs": [
    {
     "data": {
      "text/plain": [
       "array([[1., 1., 1.],\n",
       "       [1., 1., 1.]])"
      ]
     },
     "execution_count": 21,
     "metadata": {},
     "output_type": "execute_result"
    }
   ],
   "source": [
    "bb = np.ones((2,3))\n",
    "bb"
   ]
  },
  {
   "cell_type": "markdown",
   "id": "59d3b37e-2470-45cf-997b-6ab027622a5e",
   "metadata": {
    "tags": []
   },
   "source": [
    "* full():배열에 사용자가 지정한 값을 넣음"
   ]
  },
  {
   "cell_type": "code",
   "execution_count": 22,
   "id": "6735ddda-a0c0-4ebe-8d2e-d4d56c8b60a6",
   "metadata": {
    "tags": []
   },
   "outputs": [
    {
     "data": {
      "text/plain": [
       "array([[10, 10, 10],\n",
       "       [10, 10, 10]])"
      ]
     },
     "execution_count": 22,
     "metadata": {},
     "output_type": "execute_result"
    }
   ],
   "source": [
    "cc = np.full((2,3),10)\n",
    "cc"
   ]
  },
  {
   "cell_type": "markdown",
   "id": "3764afc5-c845-415b-85d8-44be0f7b3a35",
   "metadata": {},
   "source": [
    "eye():대각선으로 1이고 나머지는 0인 2차원 배열을 생성"
   ]
  },
  {
   "cell_type": "code",
   "execution_count": 23,
   "id": "f2bcc402-0cf3-4278-89ad-a2eb93403d2c",
   "metadata": {},
   "outputs": [
    {
     "data": {
      "text/plain": [
       "array([[1., 0., 0.],\n",
       "       [0., 1., 0.],\n",
       "       [0., 0., 1.]])"
      ]
     },
     "execution_count": 23,
     "metadata": {},
     "output_type": "execute_result"
    }
   ],
   "source": [
    "dd = np.eye(3)\n",
    "dd"
   ]
  },
  {
   "cell_type": "markdown",
   "id": "21ae919d-2eac-4f75-a195-233624c8cc8d",
   "metadata": {
    "tags": []
   },
   "source": [
    "reshape():다차원으로 변형하는 함수"
   ]
  },
  {
   "cell_type": "code",
   "execution_count": 25,
   "id": "f2fa0531-ecbf-49bf-9008-cfba97feea9a",
   "metadata": {
    "tags": []
   },
   "outputs": [
    {
     "data": {
      "text/plain": [
       "array([[ 0,  1,  2,  3],\n",
       "       [ 4,  5,  6,  7],\n",
       "       [ 8,  9, 10, 11],\n",
       "       [12, 13, 14, 15],\n",
       "       [16, 17, 18, 19]])"
      ]
     },
     "execution_count": 25,
     "metadata": {},
     "output_type": "execute_result"
    }
   ],
   "source": [
    "aa1=np.array(range(20)).reshape((5,4)) #range(n): 0~n-1까지의 숫자를 생성하는 함수\n",
    "aa1"
   ]
  },
  {
   "cell_type": "code",
   "execution_count": 27,
   "id": "758566c6-3a0d-46f1-aca0-8ee2e18bc8d2",
   "metadata": {
    "tags": []
   },
   "outputs": [
    {
     "data": {
      "text/plain": [
       "array([[ 0,  1,  2,  3,  4],\n",
       "       [ 5,  6,  7,  8,  9],\n",
       "       [10, 11, 12, 13, 14]])"
      ]
     },
     "execution_count": 27,
     "metadata": {},
     "output_type": "execute_result"
    }
   ],
   "source": [
    "aa2=np.array(range(o15)).reshape((3,5))\n",
    "aa2"
   ]
  },
  {
   "cell_type": "code",
   "execution_count": null,
   "id": "91e77b99-7aed-4bb6-9ff8-2bb4a7e990b1",
   "metadata": {},
   "outputs": [],
   "source": []
  },
  {
   "cell_type": "markdown",
   "id": "34c92b83-b10d-4f74-989b-2d88e9af2db2",
   "metadata": {
    "tags": []
   },
   "source": [
    "## * 배열 결합 "
   ]
  },
  {
   "cell_type": "markdown",
   "id": "00e2e7c6-5abd-4d3a-8509-24bf31dbb326",
   "metadata": {},
   "source": [
    "* concatenate 함수로 배열 합치기"
   ]
  },
  {
   "cell_type": "code",
   "execution_count": 3,
   "id": "a9cc5754-4b56-4b6c-8d30-7d3447fcf77e",
   "metadata": {},
   "outputs": [
    {
     "data": {
      "text/plain": [
       "array([1, 2, 3, 4, 5])"
      ]
     },
     "execution_count": 3,
     "metadata": {},
     "output_type": "execute_result"
    }
   ],
   "source": [
    "arr1 = np.array([1,2,3])\n",
    "arr2 = np.array([4,5])\n",
    "arr = np.concatenate((arr1, arr2))\n",
    "arr"
   ]
  },
  {
   "cell_type": "markdown",
   "id": "c4b800a6-5b5a-4873-af3e-761e3c18e336",
   "metadata": {},
   "source": [
    "Numpy는 둘 이상의 배열을 특정 축(axis)을 따라서 합치는 concatenate메서드를 제공한다.  \n",
    "배열들은 동일한 rank를 가져야하고, 합쳐질 축을 제외한 나머지 축으로 동일한 길이를 가져야 한다.  \n",
    "만들어진 배열은 입력된 배열과 동일한 rank를 가지게 된다."
   ]
  },
  {
   "cell_type": "code",
   "execution_count": 5,
   "id": "dddc577a-84b3-4d18-b43c-bba570ee669a",
   "metadata": {},
   "outputs": [
    {
     "name": "stdout",
     "output_type": "stream",
     "text": [
      "[[1 2]\n",
      " [3 4]\n",
      " [5 6]\n",
      " [7 8]]\n"
     ]
    }
   ],
   "source": [
    "arr1 = np.array([[1,2],\n",
    "                [3,4]])\n",
    "arr2 = np.array([[5,6],\n",
    "                 [7,8]])\n",
    "arr3 = np.concatenate((arr1, arr2), axis=0)\n",
    "print(arr3)"
   ]
  },
  {
   "cell_type": "code",
   "execution_count": 6,
   "id": "0d8c525f-0fed-4e7f-929b-b9bd46e1b58f",
   "metadata": {},
   "outputs": [
    {
     "data": {
      "text/plain": [
       "array([[1, 2, 5, 6],\n",
       "       [3, 4, 7, 8]])"
      ]
     },
     "execution_count": 6,
     "metadata": {},
     "output_type": "execute_result"
    }
   ],
   "source": [
    "arr4 = np.concatenate((arr1, arr2), axis=1)\n",
    "arr4"
   ]
  },
  {
   "cell_type": "markdown",
   "id": "473810b1-1cce-4d08-802d-73a12d5cd78e",
   "metadata": {},
   "source": [
    "2차원 이상의 배열은 합칠 축을 지정할 수 있다.(디폴트,axis=0)\n",
    "0은 세로축, 1은 가로축을 나타난다."
   ]
  },
  {
   "cell_type": "code",
   "execution_count": 17,
   "id": "8e9fc53c-7f8f-4c8a-9134-18914b731e5e",
   "metadata": {
    "tags": []
   },
   "outputs": [
    {
     "name": "stdout",
     "output_type": "stream",
     "text": [
      "[  1   2   3   4   5   6   7  77 777]\n"
     ]
    }
   ],
   "source": [
    "# 3개 아상도 가능하다\n",
    "x = np.array([7,77,777])\n",
    "print(np.concatenate([arr1, arr2, x]))"
   ]
  },
  {
   "cell_type": "code",
   "execution_count": null,
   "id": "7b72f12f-46c1-4d01-a459-f5dc3ea55815",
   "metadata": {},
   "outputs": [],
   "source": []
  },
  {
   "cell_type": "markdown",
   "id": "077c6f91-09a7-4d29-a66c-6cb60004a1c3",
   "metadata": {},
   "source": [
    "* Stack 함수로 배열쌓기"
   ]
  },
  {
   "cell_type": "code",
   "execution_count": 7,
   "id": "5335c900-4235-429c-86bb-71025ee4a161",
   "metadata": {},
   "outputs": [
    {
     "data": {
      "text/plain": [
       "array([[1, 2, 3],\n",
       "       [4, 5, 6]])"
      ]
     },
     "execution_count": 7,
     "metadata": {},
     "output_type": "execute_result"
    }
   ],
   "source": [
    "arr1 = np.array([1,2,3])\n",
    "arr2 = np.array([4,5,6])\n",
    "\n",
    "arr3 = np.stack((arr1, arr2), axis=0)\n",
    "arr3"
   ]
  },
  {
   "cell_type": "code",
   "execution_count": 8,
   "id": "7b838a8b-bec9-4859-be51-c1de602b0f03",
   "metadata": {
    "tags": []
   },
   "outputs": [
    {
     "data": {
      "text/plain": [
       "array([[1, 4],\n",
       "       [2, 5],\n",
       "       [3, 6]])"
      ]
     },
     "execution_count": 8,
     "metadata": {},
     "output_type": "execute_result"
    }
   ],
   "source": [
    "arr4 = np.stack((arr1, arr2), axis=1)\n",
    "arr4"
   ]
  },
  {
   "cell_type": "markdown",
   "id": "ac918efb-7c98-41b5-9ace-00e4e3b7f9ad",
   "metadata": {},
   "source": [
    "* stack함수는 배열들을 새로운 축으로 합치는 일을 한다."
   ]
  },
  {
   "cell_type": "code",
   "execution_count": 19,
   "id": "62af434f-c383-406a-b2ac-d9cb0ca968b6",
   "metadata": {},
   "outputs": [
    {
     "data": {
      "text/plain": [
       "array([[1, 2, 3],\n",
       "       [4, 5, 6]])"
      ]
     },
     "execution_count": 19,
     "metadata": {},
     "output_type": "execute_result"
    }
   ],
   "source": [
    "np.vstack([arr1,arr2]) # 수직 스택"
   ]
  },
  {
   "cell_type": "code",
   "execution_count": 20,
   "id": "c1c67472-1ae8-4d40-8005-17e9fb5f07bb",
   "metadata": {},
   "outputs": [
    {
     "data": {
      "text/plain": [
       "array([1, 2, 3, 4, 5, 6])"
      ]
     },
     "execution_count": 20,
     "metadata": {},
     "output_type": "execute_result"
    }
   ],
   "source": [
    "anp.hstack([arr1,arr2]) #1,2,3,4,5,6"
   ]
  },
  {
   "cell_type": "markdown",
   "id": "ff0d5a41-da2b-43dd-b1b1-309e3082d4a9",
   "metadata": {},
   "source": [
    "## *배열의 차원 변환"
   ]
  },
  {
   "cell_type": "markdown",
   "id": "c8a2b3ec-1d75-4821-9657-ce15fb9069e5",
   "metadata": {},
   "source": [
    "* 배열의 차원을 변환 해주는 reshape"
   ]
  },
  {
   "cell_type": "markdown",
   "id": "acb61ae0-b49b-46c4-a350-0d258ece5627",
   "metadata": {
    "tags": []
   },
   "source": [
    "* reshape함수는 np.reshape(변경할 배열, 차원)또는 배열.reshape(차원)으로 사용 할 수 있으며, 현재의 배열의 차원을 변경하여 행렬을 반환하거나 하는 경우에 많이 이용되는 함수이다."
   ]
  },
  {
   "cell_type": "markdown",
   "id": "09b2da16-99cf-4cd3-8316-9732a5e20a68",
   "metadata": {},
   "source": [
    "* 1차원과 2차원 변환"
   ]
  },
  {
   "cell_type": "code",
   "execution_count": 4,
   "id": "67d1e9e2-6d5b-421b-95e8-51cc48a05d06",
   "metadata": {},
   "outputs": [
    {
     "name": "stdout",
     "output_type": "stream",
     "text": [
      "[1, 2, 3, 4, 5, 6, 7, 8, 9, 10]\n",
      "[[ 1  2]\n",
      " [ 3  4]\n",
      " [ 5  6]\n",
      " [ 7  8]\n",
      " [ 9 10]]\n"
     ]
    }
   ],
   "source": [
    "x = [1,2,3,4,5,6,7,8,9,10]\n",
    "y = np.reshape(x,(2,5))\n",
    "z = np.reshape(x,(5,2))\n",
    "print(x)\n",
    "\n",
    "print(z)"
   ]
  },
  {
   "cell_type": "code",
   "execution_count": null,
   "id": "200c9292-3cbb-4f8a-ac5d-bcd21ed6e207",
   "metadata": {},
   "outputs": [],
   "source": []
  },
  {
   "cell_type": "markdown",
   "id": "5a83cd1c-1e1a-42f5-9f7f-be64cce1692d",
   "metadata": {},
   "source": [
    "## *데이터 타입"
   ]
  },
  {
   "cell_type": "code",
   "execution_count": null,
   "id": "e0114096-1170-458e-bc38-4a8a1d9927ee",
   "metadata": {
    "tags": []
   },
   "outputs": [],
   "source": []
  },
  {
   "cell_type": "code",
   "execution_count": null,
   "id": "abb03aab-2421-4814-bf6c-e280e691878a",
   "metadata": {},
   "outputs": [],
   "source": []
  },
  {
   "cell_type": "markdown",
   "id": "744f8887-a83e-4c7c-9a87-b578639157de",
   "metadata": {},
   "source": [
    "## *인덱싱/슬라이싱 "
   ]
  },
  {
   "cell_type": "markdown",
   "id": "e5947d3b-1ffd-401f-9bcf-2eb9456a5722",
   "metadata": {},
   "source": [
    "* 배열의 인덱싱  \n",
    "일차원 배열의 인덱싱은 리스트의 인덱싱과 같다."
   ]
  },
  {
   "cell_type": "code",
   "execution_count": 21,
   "id": "89667312-8ec4-41dd-8401-ebb28bee4b86",
   "metadata": {},
   "outputs": [],
   "source": [
    "a = np.array([0,1,2,3,4])"
   ]
  },
  {
   "cell_type": "code",
   "execution_count": 22,
   "id": "5e926a43-9f46-4cc3-b37d-1070d156c5ad",
   "metadata": {},
   "outputs": [
    {
     "data": {
      "text/plain": [
       "2"
      ]
     },
     "execution_count": 22,
     "metadata": {},
     "output_type": "execute_result"
    }
   ],
   "source": [
    "a[2]"
   ]
  },
  {
   "cell_type": "code",
   "execution_count": 23,
   "id": "8cd7d1ed-79e9-4c00-8f08-28a9f6ef94ae",
   "metadata": {
    "tags": []
   },
   "outputs": [
    {
     "data": {
      "text/plain": [
       "4"
      ]
     },
     "execution_count": 23,
     "metadata": {},
     "output_type": "execute_result"
    }
   ],
   "source": [
    "a[-1]"
   ]
  },
  {
   "cell_type": "markdown",
   "id": "cde25b87-2d29-4494-bb3d-44a8276263ac",
   "metadata": {
    "tags": []
   },
   "source": [
    "* 다차원 배열의 인덱싱은 콤마를 사용하여 접근할 수 있다.  \n",
    "콤마(,)로 구분된 차원은 축(axis)라고 한다."
   ]
  },
  {
   "cell_type": "code",
   "execution_count": 24,
   "id": "efd04cb9-c734-4fa4-9aaa-8a85738270e1",
   "metadata": {},
   "outputs": [],
   "source": [
    "a = np.array([[0, 1, 2], [3, 4, 5]])"
   ]
  },
  {
   "cell_type": "code",
   "execution_count": 25,
   "id": "ffbf8f28-91f4-4523-98e6-fe42c8387520",
   "metadata": {},
   "outputs": [
    {
     "data": {
      "text/plain": [
       "0"
      ]
     },
     "execution_count": 25,
     "metadata": {},
     "output_type": "execute_result"
    }
   ],
   "source": [
    "a[0, 0] #첫번쨰 행 첫번째 열 0"
   ]
  },
  {
   "cell_type": "code",
   "execution_count": 26,
   "id": "9489efb6-a886-4e3b-a4b3-3c4e3b608337",
   "metadata": {},
   "outputs": [
    {
     "data": {
      "text/plain": [
       "5"
      ]
     },
     "execution_count": 26,
     "metadata": {},
     "output_type": "execute_result"
    }
   ],
   "source": [
    "a[1, 2] #두번째 행 세번째 열 5"
   ]
  },
  {
   "cell_type": "code",
   "execution_count": 27,
   "id": "aa107d68-4291-4cba-a2e0-26660df460b6",
   "metadata": {
    "collapsed": true,
    "jupyter": {
     "outputs_hidden": true
    },
    "tags": []
   },
   "outputs": [
    {
     "data": {
      "text/plain": [
       "5"
      ]
     },
     "execution_count": 27,
     "metadata": {},
     "output_type": "execute_result"
    }
   ],
   "source": [
    "a[-1,-1] # 마지막행 마지막 열"
   ]
  },
  {
   "cell_type": "markdown",
   "id": "2f343156-e577-4c8f-a5b8-a40b8b72f440",
   "metadata": {},
   "source": [
    "* 배열 슬라이싱  \n",
    "배열 객체로 구현한 다차원 배열의 원소 중 복수 개를 접근하려면 일반적인 파이썬 슬라이싱과 콤마(,)를 함께 사용하면 된다."
   ]
  },
  {
   "cell_type": "code",
   "execution_count": 28,
   "id": "986ee0db-9e9f-4f0b-9d15-c616611f5d1c",
   "metadata": {},
   "outputs": [
    {
     "data": {
      "text/plain": [
       "array([[0, 1, 2, 3],\n",
       "       [4, 5, 6, 7]])"
      ]
     },
     "execution_count": 28,
     "metadata": {},
     "output_type": "execute_result"
    }
   ],
   "source": [
    "b = np.array([[0,1,2,3], [4,5,6,7]])\n",
    "b"
   ]
  },
  {
   "cell_type": "code",
   "execution_count": 29,
   "id": "448e8889-5e6c-4580-8a6c-9b519dccdfa7",
   "metadata": {},
   "outputs": [
    {
     "data": {
      "text/plain": [
       "array([0, 1, 2, 3])"
      ]
     },
     "execution_count": 29,
     "metadata": {},
     "output_type": "execute_result"
    }
   ],
   "source": [
    "b[0, :] #첫번째 행 전체 "
   ]
  },
  {
   "cell_type": "code",
   "execution_count": 41,
   "id": "f0a26629-2912-41bd-8cbe-4db77e445aa6",
   "metadata": {},
   "outputs": [
    {
     "data": {
      "text/plain": [
       "array([2, 6])"
      ]
     },
     "execution_count": 41,
     "metadata": {},
     "output_type": "execute_result"
    }
   ],
   "source": [
    "b[:, 2] #두번째 열 전체"
   ]
  },
  {
   "cell_type": "code",
   "execution_count": 38,
   "id": "7aadd294-fb52-4ebe-b511-dbba1818e49c",
   "metadata": {},
   "outputs": [
    {
     "data": {
      "text/plain": [
       "4"
      ]
     },
     "execution_count": 38,
     "metadata": {},
     "output_type": "execute_result"
    }
   ],
   "source": [
    "b[1,0] #두번째 행 첫벌째 열"
   ]
  },
  {
   "cell_type": "code",
   "execution_count": null,
   "id": "dab4348d-e98b-4f41-b627-70dcccde09d4",
   "metadata": {},
   "outputs": [],
   "source": []
  },
  {
   "cell_type": "markdown",
   "id": "b850542b-9be7-4219-8ad7-fd306b415fd2",
   "metadata": {},
   "source": [
    "## *배열 조건 연산"
   ]
  },
  {
   "cell_type": "markdown",
   "id": "bc087302-8fd2-4620-bc6d-ef80c8d57eb4",
   "metadata": {},
   "source": [
    "## *마스킹"
   ]
  },
  {
   "cell_type": "markdown",
   "id": "2d2845c2-2207-4dc8-ac12-99309d3ffa41",
   "metadata": {},
   "source": [
    "## *Broadcasting"
   ]
  },
  {
   "cell_type": "code",
   "execution_count": null,
   "id": "79f22221-d8ef-48be-9740-7e5e50ca7e48",
   "metadata": {},
   "outputs": [],
   "source": []
  }
 ],
 "metadata": {
  "kernelspec": {
   "display_name": "Python 3 (ipykernel)",
   "language": "python",
   "name": "python3"
  },
  "language_info": {
   "codemirror_mode": {
    "name": "ipython",
    "version": 3
   },
   "file_extension": ".py",
   "mimetype": "text/x-python",
   "name": "python",
   "nbconvert_exporter": "python",
   "pygments_lexer": "ipython3",
   "version": "3.9.13"
  }
 },
 "nbformat": 4,
 "nbformat_minor": 5
}
