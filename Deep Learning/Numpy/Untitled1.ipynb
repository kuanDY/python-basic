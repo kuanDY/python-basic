{
 "cells": [
  {
   "cell_type": "markdown",
   "id": "61bc3396",
   "metadata": {},
   "source": [
    "DataFrame 만들기"
   ]
  },
  {
   "cell_type": "markdown",
   "id": "c63e6531",
   "metadata": {},
   "source": [
    "예제"
   ]
  },
  {
   "cell_type": "code",
   "execution_count": 2,
   "id": "6c553e27",
   "metadata": {},
   "outputs": [],
   "source": [
    "import pandas as pd\n",
    "import numpy as np"
   ]
  },
  {
   "cell_type": "markdown",
   "id": "77889d1e",
   "metadata": {},
   "source": [
    "문제 1) 주어진 식으로 데이터 프레임을 만들어 보시오."
   ]
  },
  {
   "cell_type": "markdown",
   "id": "f3ee3f55",
   "metadata": {},
   "source": [
    "dates = pd.date_range('20230101', periods=6)\n",
    "df = pd.DataFrame(np.random.randn(6,4), indesx=dates, columns=list('ABCD'))\n",
    "\n",
    "df"
   ]
  },
  {
   "cell_type": "code",
   "execution_count": null,
   "id": "ce4f023f",
   "metadata": {},
   "outputs": [],
   "source": []
  }
 ],
 "metadata": {
  "kernelspec": {
   "display_name": "Python 3 (ipykernel)",
   "language": "python",
   "name": "python3"
  },
  "language_info": {
   "codemirror_mode": {
    "name": "ipython",
    "version": 3
   },
   "file_extension": ".py",
   "mimetype": "text/x-python",
   "name": "python",
   "nbconvert_exporter": "python",
   "pygments_lexer": "ipython3",
   "version": "3.9.13"
  }
 },
 "nbformat": 4,
 "nbformat_minor": 5
}
