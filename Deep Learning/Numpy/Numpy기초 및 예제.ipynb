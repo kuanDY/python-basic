{
 "cells": [
  {
   "cell_type": "markdown",
   "id": "43d2a14f-31b6-491e-a341-e69f8bc99dfd",
   "metadata": {
    "tags": []
   },
   "source": [
    "# Numpy"
   ]
  },
  {
   "cell_type": "code",
   "execution_count": 3,
   "id": "65a4bc94-9c84-45b5-85d4-f3307aeebeb9",
   "metadata": {
    "scrolled": true,
    "tags": []
   },
   "outputs": [
    {
     "name": "stdout",
     "output_type": "stream",
     "text": [
      "Collecting package metadata (current_repodata.json): ...working... done\n",
      "Solving environment: ...working... done\n",
      "\n",
      "## Package Plan ##\n",
      "\n",
      "  environment location: C:\\Users\\USER\\anaconda3\n",
      "\n",
      "  added / updated specs:\n",
      "    - numpy\n",
      "\n",
      "\n",
      "The following packages will be downloaded:\n",
      "\n",
      "    package                    |            build\n",
      "    ---------------------------|-----------------\n",
      "    conda-23.1.0               |   py39haa95532_0         946 KB\n",
      "    ruamel.yaml-0.17.21        |   py39h2bbff1b_0         174 KB\n",
      "    ruamel.yaml.clib-0.2.6     |   py39h2bbff1b_1         101 KB\n",
      "    ------------------------------------------------------------\n",
      "                                           Total:         1.2 MB\n",
      "\n",
      "The following NEW packages will be INSTALLED:\n",
      "\n",
      "  ruamel.yaml        pkgs/main/win-64::ruamel.yaml-0.17.21-py39h2bbff1b_0 None\n",
      "  ruamel.yaml.clib   pkgs/main/win-64::ruamel.yaml.clib-0.2.6-py39h2bbff1b_1 None\n",
      "\n",
      "The following packages will be UPDATED:\n",
      "\n",
      "  conda                               22.9.0-py39haa95532_0 --> 23.1.0-py39haa95532_0 None\n",
      "\n",
      "\n",
      "\n",
      "Downloading and Extracting Packages\n",
      "\n",
      "ruamel.yaml.clib-0.2 | 101 KB    |            |   0% \n",
      "ruamel.yaml.clib-0.2 | 101 KB    | ########## | 100% \n",
      "ruamel.yaml.clib-0.2 | 101 KB    | ########## | 100% \n",
      "\n",
      "ruamel.yaml-0.17.21  | 174 KB    |            |   0% \n",
      "ruamel.yaml-0.17.21  | 174 KB    | ########## | 100% \n",
      "ruamel.yaml-0.17.21  | 174 KB    | ########## | 100% \n",
      "\n",
      "conda-23.1.0         | 946 KB    |            |   0% \n",
      "conda-23.1.0         | 946 KB    | ########## | 100% \n",
      "conda-23.1.0         | 946 KB    | ########## | 100% \n",
      "Preparing transaction: ...working... done\n",
      "Verifying transaction: ...working... done\n",
      "Executing transaction: ...working... done\n",
      "Retrieving notices: ...working... done\n",
      "\n",
      "Note: you may need to restart the kernel to use updated packages.\n"
     ]
    }
   ],
   "source": [
    "conda install numpy"
   ]
  },
  {
   "cell_type": "markdown",
   "id": "c2e3f42e-88cf-449f-8d36-0ff8d34ae425",
   "metadata": {},
   "source": [
    "### * Numpy 배우는 이유: 파이썬으로 진행되는 모든 데이터분석과 인공지능 학습에 있어서 가장 필수적으로이해해야 되는 도구입니다.  \n",
    "\n",
    "### * numpy는 Numerical Python 의 약자로 선형대수의 계산식을 파이썬으로 구현할 수 있도록 도와주는 라이브러리입니다."
   ]
  },
  {
   "cell_type": "markdown",
   "id": "2ace735f-4987-4f15-854d-9e2bdbb94217",
   "metadata": {},
   "source": [
    "Numpy 가져오는 방법"
   ]
  },
  {
   "cell_type": "code",
   "execution_count": 9,
   "id": "6c16d73a-fc4f-49bf-ab90-840d7eaa77c5",
   "metadata": {},
   "outputs": [],
   "source": [
    "import numpy as np"
   ]
  },
  {
   "cell_type": "markdown",
   "id": "7ca96816-0447-4f14-9b6c-8e80fb2214ed",
   "metadata": {},
   "source": [
    "# 벡터, 행렬"
   ]
  },
  {
   "cell_type": "markdown",
   "id": "fb9b99f7-f2b4-4ed7-b5e9-72d745baed84",
   "metadata": {},
   "source": [
    "* 벡터(vector)  \n",
    "    *1차원 데이터(1차원 배열)  \n",
    "    *스칼라가 연속적으로 여러개 모여 있는것  \n",
    "        *스칼라:단순하게 측정된 하나의 값"
   ]
  },
  {
   "cell_type": "markdown",
   "id": "dd561dd2-e1ed-4279-b3a6-80a907004ff5",
   "metadata": {},
   "source": [
    "* 행렬(matrix)\n",
    "    * 2차원 데이터(2차원 배열)\n",
    "    * 1차원 데이터가 여러개 모여있는 것"
   ]
  },
  {
   "cell_type": "markdown",
   "id": "250acd15-d656-4549-b76e-506d66e58c78",
   "metadata": {},
   "source": [
    "## N차원 배열만들기"
   ]
  },
  {
   "cell_type": "code",
   "execution_count": 29,
   "id": "b228f980-bc8a-4ad3-9bbe-75dae29fb693",
   "metadata": {},
   "outputs": [
    {
     "data": {
      "text/plain": [
       "[12, 13, 14]"
      ]
     },
     "execution_count": 29,
     "metadata": {},
     "output_type": "execute_result"
    }
   ],
   "source": [
    "lst1 = [12,13,14] # 백터\n",
    "lst1"
   ]
  },
  {
   "cell_type": "code",
   "execution_count": 36,
   "id": "77eae441-559e-4368-b084-f3c9a358e402",
   "metadata": {},
   "outputs": [],
   "source": [
    "lst2 = [\n",
    " [\n",
    " [12,13,14],\n",
    "    [12,13,14],\n",
    "    [12,13,14]\n",
    "],\n",
    "    [\n",
    " [12,13,14],\n",
    "    [12,13,14],\n",
    "    [12,13,14]\n",
    "],\n",
    "    [\n",
    " [12,13,14],\n",
    "    [12,13,14],\n",
    "    [12,13,14]\n",
    "]\n",
    "]"
   ]
  },
  {
   "cell_type": "code",
   "execution_count": 35,
   "id": "41fdf467-dd38-4d26-a803-69c26e2f883e",
   "metadata": {},
   "outputs": [
    {
     "data": {
      "text/plain": [
       "array([[[12, 13, 14],\n",
       "        [12, 13, 14],\n",
       "        [12, 13, 14]],\n",
       "\n",
       "       [[12, 13, 14],\n",
       "        [12, 13, 14],\n",
       "        [12, 13, 14]],\n",
       "\n",
       "       [[12, 13, 14],\n",
       "        [12, 13, 14],\n",
       "        [12, 13, 14]]])"
      ]
     },
     "execution_count": 35,
     "metadata": {},
     "output_type": "execute_result"
    }
   ],
   "source": [
    "ar = np.array(lst2)\n",
    "ar"
   ]
  },
  {
   "cell_type": "code",
   "execution_count": 37,
   "id": "64da7a78-1ce9-4003-aca3-e1e543bd6918",
   "metadata": {},
   "outputs": [
    {
     "data": {
      "text/plain": [
       "(3, 3, 3)"
      ]
     },
     "execution_count": 37,
     "metadata": {},
     "output_type": "execute_result"
    }
   ],
   "source": [
    "# 3, 3, 3\n",
    "ar.shape"
   ]
  },
  {
   "cell_type": "code",
   "execution_count": 44,
   "id": "40290f0f-1f22-459c-a5f2-ba27157b4ee5",
   "metadata": {},
   "outputs": [
    {
     "data": {
      "text/plain": [
       "27"
      ]
     },
     "execution_count": 44,
     "metadata": {},
     "output_type": "execute_result"
    }
   ],
   "source": [
    "ar.size #데이터 수"
   ]
  },
  {
   "cell_type": "code",
   "execution_count": 43,
   "id": "ee422adc-4717-4cbe-bf58-1e2666dd2e77",
   "metadata": {},
   "outputs": [
    {
     "data": {
      "text/plain": [
       "3"
      ]
     },
     "execution_count": 43,
     "metadata": {},
     "output_type": "execute_result"
    }
   ],
   "source": [
    "ar.ndim #배열의 열수"
   ]
  },
  {
   "cell_type": "code",
   "execution_count": 42,
   "id": "f1cbae94-8ac1-481f-8e90-355589d9e372",
   "metadata": {},
   "outputs": [
    {
     "data": {
      "text/plain": [
       "(3, 3, 3)"
      ]
     },
     "execution_count": 42,
     "metadata": {},
     "output_type": "execute_result"
    }
   ],
   "source": [
    "ar.shape #배열의 차원"
   ]
  },
  {
   "cell_type": "code",
   "execution_count": 41,
   "id": "67bf9f21-021d-4322-9d9b-15dbe4b7c6e4",
   "metadata": {},
   "outputs": [
    {
     "data": {
      "text/plain": [
       "3"
      ]
     },
     "execution_count": 41,
     "metadata": {},
     "output_type": "execute_result"
    }
   ],
   "source": [
    "ar.shape[0] #배열의 열수"
   ]
  },
  {
   "cell_type": "code",
   "execution_count": 40,
   "id": "0a418a84-ceb8-4642-a15f-91f4f2d38e19",
   "metadata": {},
   "outputs": [
    {
     "data": {
      "text/plain": [
       "3"
      ]
     },
     "execution_count": 40,
     "metadata": {},
     "output_type": "execute_result"
    }
   ],
   "source": [
    "ar.shape[1] #배열의 행수"
   ]
  },
  {
   "cell_type": "code",
   "execution_count": 39,
   "id": "c3409b01-f224-494e-a4e9-f0ab812542fe",
   "metadata": {},
   "outputs": [
    {
     "data": {
      "text/plain": [
       "array([[12, 13, 14],\n",
       "       [12, 13, 14],\n",
       "       [12, 13, 14]])"
      ]
     },
     "execution_count": 39,
     "metadata": {},
     "output_type": "execute_result"
    }
   ],
   "source": [
    "ar[1] #배열의 원소 접근"
   ]
  },
  {
   "cell_type": "markdown",
   "id": "3d7d40c5-abf9-4c5f-b143-0e512cffc9e7",
   "metadata": {
    "tags": []
   },
   "source": [
    "위의 함수들을 쓰는 것은 데이터를 알맞게 읽고 내가 원하는 방향으로 변환하기 위해 쓴다."
   ]
  },
  {
   "cell_type": "markdown",
   "id": "abc7c9bb-8e37-408b-8a15-b04b0391fa4c",
   "metadata": {},
   "source": [
    "# 특수한 배열의 생성"
   ]
  },
  {
   "cell_type": "markdown",
   "id": "7f50806e-db92-47c1-9744-09f1f3c44cef",
   "metadata": {
    "tags": []
   },
   "source": [
    "1씩 증가하는 1차원 배열"
   ]
  },
  {
   "cell_type": "code",
   "execution_count": 47,
   "id": "48e53d0c-848f-4b46-bc43-3469287b8b6c",
   "metadata": {},
   "outputs": [
    {
     "data": {
      "text/plain": [
       "array([0, 1, 2, 3, 4])"
      ]
     },
     "execution_count": 47,
     "metadata": {},
     "output_type": "execute_result"
    }
   ],
   "source": [
    "arr = np.arange(5) # [0,1,2,3,4] \n",
    "arr"
   ]
  },
  {
   "cell_type": "code",
   "execution_count": null,
   "id": "de3fcc30-33ff-4d76-af71-d74f5a22dea9",
   "metadata": {},
   "outputs": [],
   "source": []
  },
  {
   "cell_type": "code",
   "execution_count": 48,
   "id": "30d478e1-f2d8-413f-b70d-ee2d374fd5f3",
   "metadata": {},
   "outputs": [],
   "source": [
    "rg = np.random.default_rng(1)# create instance of default random number generator"
   ]
  },
  {
   "cell_type": "code",
   "execution_count": 58,
   "id": "12bbf684-9aac-4ced-adb4-efb2b1635c05",
   "metadata": {},
   "outputs": [
    {
     "data": {
      "text/plain": [
       "array([[8., 5.],\n",
       "       [5., 7.]])"
      ]
     },
     "execution_count": 58,
     "metadata": {},
     "output_type": "execute_result"
    }
   ],
   "source": [
    "np.floor(10* rg.random((2,2)))"
   ]
  },
  {
   "cell_type": "code",
   "execution_count": 59,
   "id": "8d44d144-2061-4a40-82bc-b8c264aaa690",
   "metadata": {},
   "outputs": [
    {
     "data": {
      "text/plain": [
       "array([[0., 0., 0.],\n",
       "       [0., 0., 0.],\n",
       "       [0., 0., 0.],\n",
       "       [0., 0., 0.],\n",
       "       [0., 0., 0.]])"
      ]
     },
     "execution_count": 59,
     "metadata": {},
     "output_type": "execute_result"
    }
   ],
   "source": [
    "np.zeros((5,3)) # 영행렬 생성"
   ]
  },
  {
   "cell_type": "code",
   "execution_count": 60,
   "id": "010fec8b-db75-49d4-9824-c1d59620aee7",
   "metadata": {},
   "outputs": [
    {
     "data": {
      "text/plain": [
       "array([[1., 1., 1.],\n",
       "       [1., 1., 1.]])"
      ]
     },
     "execution_count": 60,
     "metadata": {},
     "output_type": "execute_result"
    }
   ],
   "source": [
    "np.ones((2,3)) # 유닛행렬 생성"
   ]
  },
  {
   "cell_type": "code",
   "execution_count": 61,
   "id": "5492d276-1661-40cf-93f9-80a48b60811d",
   "metadata": {},
   "outputs": [
    {
     "data": {
      "text/plain": [
       "array([[5, 5, 5],\n",
       "       [5, 5, 5]])"
      ]
     },
     "execution_count": 61,
     "metadata": {},
     "output_type": "execute_result"
    }
   ],
   "source": [
    "np.full((2,3), 5) # 모든 원소가 5인 2x3행렬"
   ]
  },
  {
   "cell_type": "code",
   "execution_count": 62,
   "id": "dc50d8ad-8177-46d7-852a-6d808400a0b3",
   "metadata": {},
   "outputs": [
    {
     "data": {
      "text/plain": [
       "array([[1., 0.],\n",
       "       [0., 1.]])"
      ]
     },
     "execution_count": 62,
     "metadata": {},
     "output_type": "execute_result"
    }
   ],
   "source": [
    "np.eye(2) # 단위행렬"
   ]
  },
  {
   "cell_type": "markdown",
   "id": "31e10236-d2d2-4b8e-bb57-695aec18539e",
   "metadata": {
    "tags": []
   },
   "source": [
    "# 배열 결합"
   ]
  },
  {
   "cell_type": "code",
   "execution_count": 66,
   "id": "b22fa16d-e703-49e7-b131-31d929cbc05a",
   "metadata": {},
   "outputs": [],
   "source": [
    "arr1 = np.array([[1, 5],\n",
    "               [2, 6]])\n",
    "arr2 = np.array([[3, 7],\n",
    "               [4, 8]])"
   ]
  },
  {
   "cell_type": "code",
   "execution_count": 67,
   "id": "2d0e2c34-8415-4f1b-9801-1853996c377f",
   "metadata": {},
   "outputs": [
    {
     "data": {
      "text/plain": [
       "array([[1, 5],\n",
       "       [2, 6],\n",
       "       [3, 7],\n",
       "       [4, 8]])"
      ]
     },
     "execution_count": 67,
     "metadata": {},
     "output_type": "execute_result"
    }
   ],
   "source": [
    "np.vstack((arr1, arr2))"
   ]
  },
  {
   "cell_type": "code",
   "execution_count": 68,
   "id": "32f503c9-a125-45f4-9c7c-c45a6034e636",
   "metadata": {},
   "outputs": [
    {
     "data": {
      "text/plain": [
       "array([[1, 5, 3, 7],\n",
       "       [2, 6, 4, 8]])"
      ]
     },
     "execution_count": 68,
     "metadata": {},
     "output_type": "execute_result"
    }
   ],
   "source": [
    "np.hstack((arr1, arr2))"
   ]
  },
  {
   "cell_type": "markdown",
   "id": "c00980ff-c8de-4910-8145-43fa14f43d2f",
   "metadata": {},
   "source": [
    "# 배열의 차원 변환"
   ]
  },
  {
   "cell_type": "code",
   "execution_count": 69,
   "id": "cfd47702-648a-42f0-b33e-3eea54570791",
   "metadata": {},
   "outputs": [
    {
     "data": {
      "text/plain": [
       "array([ 0,  1,  2,  3,  4,  5,  6,  7,  8,  9, 10, 11, 12, 13, 14, 15, 16,\n",
       "       17, 18, 19])"
      ]
     },
     "execution_count": 69,
     "metadata": {},
     "output_type": "execute_result"
    }
   ],
   "source": [
    "dim = np.arange(20)\n",
    "dim"
   ]
  },
  {
   "cell_type": "code",
   "execution_count": 71,
   "id": "9c7d778c-436a-49f4-a468-dff3cf184909",
   "metadata": {},
   "outputs": [],
   "source": [
    "dim.base"
   ]
  },
  {
   "cell_type": "code",
   "execution_count": 72,
   "id": "a40e5750-392f-4007-9968-bd0083f806ef",
   "metadata": {},
   "outputs": [
    {
     "data": {
      "text/plain": [
       "(20,)"
      ]
     },
     "execution_count": 72,
     "metadata": {},
     "output_type": "execute_result"
    }
   ],
   "source": [
    "dim.shape"
   ]
  },
  {
   "cell_type": "markdown",
   "id": "2baebc16-3268-4564-a6d7-2f78e3fdd961",
   "metadata": {},
   "source": [
    "차원 추가"
   ]
  },
  {
   "cell_type": "code",
   "execution_count": 73,
   "id": "3c65d65b-5d12-4807-b7df-ecc643a2699e",
   "metadata": {},
   "outputs": [
    {
     "data": {
      "text/plain": [
       "(20, 1)"
      ]
     },
     "execution_count": 73,
     "metadata": {},
     "output_type": "execute_result"
    }
   ],
   "source": [
    "dim[:, np.newaxis].shape"
   ]
  },
  {
   "cell_type": "code",
   "execution_count": 77,
   "id": "83133bb7-7c13-4ad3-9d72-ad2818238ccc",
   "metadata": {},
   "outputs": [
    {
     "data": {
      "text/plain": [
       "(20, 1)"
      ]
     },
     "execution_count": 77,
     "metadata": {},
     "output_type": "execute_result"
    }
   ],
   "source": [
    "np.expand_dims(dim, axis=1).shape"
   ]
  },
  {
   "cell_type": "code",
   "execution_count": 82,
   "id": "2b841ccf-a408-4ed2-9ad7-7092c6d53544",
   "metadata": {},
   "outputs": [
    {
     "data": {
      "text/plain": [
       "array([[ 0,  1],\n",
       "       [ 2,  3],\n",
       "       [ 4,  5],\n",
       "       [ 6,  7],\n",
       "       [ 8,  9],\n",
       "       [10, 11],\n",
       "       [12, 13],\n",
       "       [14, 15],\n",
       "       [16, 17],\n",
       "       [18, 19]])"
      ]
     },
     "execution_count": 82,
     "metadata": {},
     "output_type": "execute_result"
    }
   ],
   "source": [
    "dim.resize((10,2)) # 10x2행렬\n",
    "\n",
    "dim"
   ]
  },
  {
   "cell_type": "code",
   "execution_count": 86,
   "id": "f9598299-f284-4f2c-a3c5-2d3f198ab47e",
   "metadata": {},
   "outputs": [
    {
     "data": {
      "text/plain": [
       "array([ 0,  1,  2,  3,  4,  5,  6,  7,  8,  9, 10, 11, 12, 13, 14, 15, 16,\n",
       "       17, 18, 19])"
      ]
     },
     "execution_count": 86,
     "metadata": {},
     "output_type": "execute_result"
    }
   ],
   "source": [
    "dim.ravel() # returns the array, flattened #일자로 나열"
   ]
  },
  {
   "cell_type": "code",
   "execution_count": 87,
   "id": "cf38dd11-a901-467f-bca8-ca5cedd813ac",
   "metadata": {},
   "outputs": [
    {
     "data": {
      "text/plain": [
       "array([[ 0,  2,  4,  6,  8, 10, 12, 14, 16, 18],\n",
       "       [ 1,  3,  5,  7,  9, 11, 13, 15, 17, 19]])"
      ]
     },
     "execution_count": 87,
     "metadata": {},
     "output_type": "execute_result"
    }
   ],
   "source": [
    "dim.T # returns the array, transposed #행 열 바뀜"
   ]
  },
  {
   "cell_type": "code",
   "execution_count": 91,
   "id": "c74eef8d-b237-49fb-a7be-54284f1f80ea",
   "metadata": {},
   "outputs": [
    {
     "data": {
      "text/plain": [
       "array([[ 0,  1,  2,  3,  4],\n",
       "       [ 5,  6,  7,  8,  9],\n",
       "       [10, 11, 12, 13, 14],\n",
       "       [15, 16, 17, 18, 19]])"
      ]
     },
     "execution_count": 91,
     "metadata": {},
     "output_type": "execute_result"
    }
   ],
   "source": [
    "# If a dimension is given as -1 in a reshaping operation, \n",
    "# the other dimensions are automatically calculated:\n",
    "dim.reshape(4, -1)"
   ]
  },
  {
   "cell_type": "code",
   "execution_count": 97,
   "id": "da9ddbc7-52d9-4e39-aded-82c3ee751603",
   "metadata": {},
   "outputs": [
    {
     "data": {
      "text/plain": [
       "array([[ 0,  1,  2,  3,  4,  5,  6,  7,  8,  9],\n",
       "       [10, 11, 12, 13, 14, 15, 16, 17, 18, 19]])"
      ]
     },
     "execution_count": 97,
     "metadata": {},
     "output_type": "execute_result"
    }
   ],
   "source": [
    "dim = dim.reshape(2,10)\n",
    "dim"
   ]
  },
  {
   "cell_type": "code",
   "execution_count": 98,
   "id": "ff7ed4f7-f474-4f2c-b3c0-54b0ede4c29a",
   "metadata": {},
   "outputs": [
    {
     "data": {
      "text/plain": [
       "array([[ 0,  1],\n",
       "       [ 2,  3],\n",
       "       [ 4,  5],\n",
       "       [ 6,  7],\n",
       "       [ 8,  9],\n",
       "       [10, 11],\n",
       "       [12, 13],\n",
       "       [14, 15],\n",
       "       [16, 17],\n",
       "       [18, 19]])"
      ]
     },
     "execution_count": 98,
     "metadata": {},
     "output_type": "execute_result"
    }
   ],
   "source": [
    "dim.base"
   ]
  },
  {
   "cell_type": "code",
   "execution_count": 99,
   "id": "5f52846b-e097-4a3c-b727-addc7055ab5a",
   "metadata": {},
   "outputs": [
    {
     "data": {
      "text/plain": [
       "array([[ 0,  1,  2,  3,  4,  5,  6,  7,  8,  9],\n",
       "       [10, 11, 12, 13, 14, 15, 16, 17, 18, 19]])"
      ]
     },
     "execution_count": 99,
     "metadata": {},
     "output_type": "execute_result"
    }
   ],
   "source": [
    "dim.view()"
   ]
  },
  {
   "cell_type": "code",
   "execution_count": 100,
   "id": "67291b10-b6df-41c4-8196-427436039216",
   "metadata": {},
   "outputs": [
    {
     "data": {
      "text/plain": [
       "(2, 10)"
      ]
     },
     "execution_count": 100,
     "metadata": {},
     "output_type": "execute_result"
    }
   ],
   "source": [
    "dim.shape"
   ]
  },
  {
   "cell_type": "markdown",
   "id": "bf747950-f8c7-45e9-8dc1-604239b27c0a",
   "metadata": {},
   "source": [
    "# 데이터 타입"
   ]
  },
  {
   "cell_type": "markdown",
   "id": "62248ea9-97f4-4176-b59d-64488d28fc64",
   "metadata": {
    "tags": []
   },
   "source": [
    "※ 문자 1개로 데이터 유형을 표시함.\n",
    "\n",
    "※ 대소문자 구별.\n",
    "\n",
    " \n",
    "i - integer (정수)\n",
    "\n",
    "b - boolean (참거짓)\n",
    "\n",
    "u - unsigned integer (부호없는 정수)\n",
    "\n",
    "f - float (소수)\n",
    "\n",
    "c - complex (복소수)\n",
    "\n",
    "m - timedelta (타임델타)\n",
    "\n",
    "M - datetime (날짜시간)\n",
    "\n",
    "O - object (객체)\n",
    "\n",
    "S - string (문자열)\n",
    "\n",
    "U - unicode string (유니코드 문자열)\n",
    "\n",
    "V - void (다른 유형에 대한 고정된 메모리 덩어리) "
   ]
  },
  {
   "cell_type": "code",
   "execution_count": 102,
   "id": "89c20a6c-3e8b-4210-aeed-97de484321cb",
   "metadata": {},
   "outputs": [
    {
     "data": {
      "text/plain": [
       "numpy.ndarray"
      ]
     },
     "execution_count": 102,
     "metadata": {},
     "output_type": "execute_result"
    }
   ],
   "source": [
    "arr = np.arange(20)\n",
    "type(arr) # arr의 자료형 확인 #ndarray와 array는 같은표현"
   ]
  },
  {
   "cell_type": "code",
   "execution_count": 103,
   "id": "bb897fa8-ca32-4ab3-a008-eec846b648ce",
   "metadata": {},
   "outputs": [
    {
     "data": {
      "text/plain": [
       "dtype('int32')"
      ]
     },
     "execution_count": 103,
     "metadata": {},
     "output_type": "execute_result"
    }
   ],
   "source": [
    "arr.dtype # arr의 데이터 자료형 확인"
   ]
  },
  {
   "cell_type": "code",
   "execution_count": 104,
   "id": "08f041ee-9c3b-47bc-bf2e-0a46a4fb6693",
   "metadata": {},
   "outputs": [
    {
     "data": {
      "text/plain": [
       "dtype('float32')"
      ]
     },
     "execution_count": 104,
     "metadata": {},
     "output_type": "execute_result"
    }
   ],
   "source": [
    "arr = arr.astype(np.float32) # 데이터 타입 변환\n",
    "arr.dtype"
   ]
  },
  {
   "cell_type": "code",
   "execution_count": 105,
   "id": "64439fde-c91f-4620-a831-1acf69b7e416",
   "metadata": {},
   "outputs": [
    {
     "data": {
      "text/plain": [
       "dtype('int8')"
      ]
     },
     "execution_count": 105,
     "metadata": {},
     "output_type": "execute_result"
    }
   ],
   "source": [
    "arr = np.int8(arr) # 데이터 타입 변환\n",
    "arr.dtype "
   ]
  },
  {
   "cell_type": "code",
   "execution_count": 106,
   "id": "e6c51f36-1718-4e1d-bcb2-e4806e61b4d2",
   "metadata": {},
   "outputs": [
    {
     "data": {
      "text/plain": [
       "(dtype('int32'), array([1, 2, 3]))"
      ]
     },
     "execution_count": 106,
     "metadata": {},
     "output_type": "execute_result"
    }
   ],
   "source": [
    "arr = np.array([1,2,3],dtype = np.int32) # 4바이트 크기의 정수\n",
    "arr.dtype, arr"
   ]
  },
  {
   "cell_type": "code",
   "execution_count": 107,
   "id": "428756db-b24e-44bd-ae68-33952eccb872",
   "metadata": {},
   "outputs": [
    {
     "data": {
      "text/plain": [
       "(dtype('uint8'), array([1, 2, 3], dtype=uint8))"
      ]
     },
     "execution_count": 107,
     "metadata": {},
     "output_type": "execute_result"
    }
   ],
   "source": [
    "arr = np.array([1,2,3],dtype=np.uint8) # 1바이트 크기의 부호 없는 정수(0~255)\n",
    "arr.dtype, arr"
   ]
  },
  {
   "cell_type": "code",
   "execution_count": 108,
   "id": "1fbe7c6d-524c-4d80-bb27-ceaf656e871f",
   "metadata": {},
   "outputs": [
    {
     "data": {
      "text/plain": [
       "(dtype('float64'), array([1., 2., 3.]))"
      ]
     },
     "execution_count": 108,
     "metadata": {},
     "output_type": "execute_result"
    }
   ],
   "source": [
    "arr = np.array([1,2,3],dtype=np.float64) # 8바이트 크기의 실수\n",
    "arr.dtype, arr"
   ]
  },
  {
   "cell_type": "code",
   "execution_count": 109,
   "id": "221eb23a-b1a9-451b-b18a-31b255b6c0a1",
   "metadata": {},
   "outputs": [
    {
     "data": {
      "text/plain": [
       "(dtype('bool'), array([ True, False,  True]))"
      ]
     },
     "execution_count": 109,
     "metadata": {},
     "output_type": "execute_result"
    }
   ],
   "source": [
    "arr = np.array([1,0,1],dtype=np.bool_)\n",
    "arr.dtype, arr"
   ]
  },
  {
   "cell_type": "markdown",
   "id": "cf01c27a-2b5f-41a8-a6cc-890942ea12dc",
   "metadata": {},
   "source": [
    "# 오버플로 오류 \n",
    "# NumPy 숫자 유형의 고정 크기 는 값이 데이터 유형에서 사용 가능한 것보다 더 많은 메모리를 필요로 할 때 오버플 로 오류를 일으킬 수 있습니다 . 예를 들어 64비트 정수에 대해 올바르게 numpy.power평가 하지만 32비트 정수에 대해 1874919424(잘못됨)를 제공합니다."
   ]
  },
  {
   "cell_type": "code",
   "execution_count": 110,
   "id": "c1041c60-cad4-4c50-8d95-9211bccee775",
   "metadata": {},
   "outputs": [
    {
     "data": {
      "text/plain": [
       "10000000000000000"
      ]
     },
     "execution_count": 110,
     "metadata": {},
     "output_type": "execute_result"
    }
   ],
   "source": [
    "np.power(100, 8, dtype=np.int64) # correct"
   ]
  },
  {
   "cell_type": "code",
   "execution_count": 111,
   "id": "a874eee2-c616-47b5-ba01-ffb7572720ed",
   "metadata": {},
   "outputs": [
    {
     "data": {
      "text/plain": [
       "1874919424"
      ]
     },
     "execution_count": 111,
     "metadata": {},
     "output_type": "execute_result"
    }
   ],
   "source": [
    "np.power(100, 8, dtype=np.int32) # incorrect"
   ]
  },
  {
   "cell_type": "markdown",
   "id": "20444a91-e0ad-4928-8ad4-d3c2054f8621",
   "metadata": {},
   "source": [
    "If 64-bit integers are still too small the result may be cast to a floating point number. Floating point numbers offer a larger, but inexact, range of possible values."
   ]
  },
  {
   "cell_type": "code",
   "execution_count": 113,
   "id": "3a928523-1d28-4ed2-addf-0fb613a4d757",
   "metadata": {},
   "outputs": [
    {
     "data": {
      "text/plain": [
       "1e+200"
      ]
     },
     "execution_count": 113,
     "metadata": {},
     "output_type": "execute_result"
    }
   ],
   "source": [
    "np.power(100, 100, dtype=np.float64) # correct"
   ]
  },
  {
   "cell_type": "code",
   "execution_count": 114,
   "id": "c701110c-8b37-421c-a654-50dd52ff7ede",
   "metadata": {},
   "outputs": [
    {
     "data": {
      "text/plain": [
       "0"
      ]
     },
     "execution_count": 114,
     "metadata": {},
     "output_type": "execute_result"
    }
   ],
   "source": [
    "np.power(100, 100, dtype=np.int64) # incorrect"
   ]
  },
  {
   "cell_type": "markdown",
   "id": "89904a27-2348-4995-a00a-e68f9bbd942f",
   "metadata": {},
   "source": [
    "# 슬라이싱/인덱싱\n",
    "## * 슬라이싱: 무언가를 잘라 낸다는 뜻으로 연속적인 객체에 부여된 번호를 이용해 연속된 객체의 일부를 추출하는 작업\n",
    "## * 인덱싱: 무언가를 가리킨다는 뜻으로 연속적인 객체에 부여된 번호를 의미한다."
   ]
  },
  {
   "cell_type": "code",
   "execution_count": null,
   "id": "46dda60f-015c-4ccc-a6da-09cfa536ce26",
   "metadata": {
    "tags": []
   },
   "outputs": [],
   "source": []
  },
  {
   "cell_type": "code",
   "execution_count": null,
   "id": "264bbcd8-6cf3-4298-ad5a-82b302b5c828",
   "metadata": {},
   "outputs": [],
   "source": []
  },
  {
   "cell_type": "code",
   "execution_count": null,
   "id": "41876a68-c4ed-4b4c-9f31-e18ae7669804",
   "metadata": {},
   "outputs": [],
   "source": []
  },
  {
   "cell_type": "code",
   "execution_count": null,
   "id": "0d660282-5989-44cd-97ac-5c42e6445950",
   "metadata": {},
   "outputs": [],
   "source": []
  },
  {
   "cell_type": "code",
   "execution_count": null,
   "id": "7e5ed58a-760c-423b-a99a-43cad5eb5956",
   "metadata": {},
   "outputs": [],
   "source": []
  }
 ],
 "metadata": {
  "kernelspec": {
   "display_name": "Python 3 (ipykernel)",
   "language": "python",
   "name": "python3"
  },
  "language_info": {
   "codemirror_mode": {
    "name": "ipython",
    "version": 3
   },
   "file_extension": ".py",
   "mimetype": "text/x-python",
   "name": "python",
   "nbconvert_exporter": "python",
   "pygments_lexer": "ipython3",
   "version": "3.9.13"
  }
 },
 "nbformat": 4,
 "nbformat_minor": 5
}
