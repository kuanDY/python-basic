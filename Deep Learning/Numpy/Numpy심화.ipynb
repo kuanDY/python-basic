{
 "cells": [
  {
   "cell_type": "markdown",
   "id": "92859ad5-7759-4e10-b6a0-c8c069e80772",
   "metadata": {
    "tags": []
   },
   "source": [
    "# Numpy 심화"
   ]
  },
  {
   "cell_type": "code",
   "execution_count": 1,
   "id": "09bcc8af-b307-460b-b90b-fd2faeb81d01",
   "metadata": {},
   "outputs": [],
   "source": [
    "import numpy as np"
   ]
  },
  {
   "cell_type": "markdown",
   "id": "ac33b203-40d3-4c33-bd81-a4a118bd80ce",
   "metadata": {
    "tags": []
   },
   "source": [
    "## 기본연산\n"
   ]
  },
  {
   "cell_type": "code",
   "execution_count": 11,
   "id": "0f88d78a-c969-496a-858d-128eef87da45",
   "metadata": {},
   "outputs": [],
   "source": [
    "x = np.array([[20,30,40],\n",
    "              [5,6,7],\n",
    "              [8,9,10]])\n",
    "y = np.array([[10,20,30],\n",
    "             [10,11,12],\n",
    "             [15,18,21]])"
   ]
  },
  {
   "cell_type": "markdown",
   "id": "c5ba7ec8-a5e8-4367-9eff-4648331d9905",
   "metadata": {},
   "source": [
    "* 덧셈과 add"
   ]
  },
  {
   "cell_type": "markdown",
   "id": "7d40f934-b7a0-450f-bcc6-2a2ff03d7811",
   "metadata": {},
   "source": [
    "덧셈(+)"
   ]
  },
  {
   "cell_type": "code",
   "execution_count": 12,
   "id": "5cf23b66-efb6-4531-9d86-56cf8d7ab682",
   "metadata": {},
   "outputs": [
    {
     "data": {
      "text/plain": [
       "array([[30, 50, 70],\n",
       "       [15, 17, 19],\n",
       "       [23, 27, 31]])"
      ]
     },
     "execution_count": 12,
     "metadata": {},
     "output_type": "execute_result"
    }
   ],
   "source": [
    "x+y"
   ]
  },
  {
   "cell_type": "markdown",
   "id": "b35e6629-a0f2-4d76-a073-d2b324e20adf",
   "metadata": {},
   "source": [
    "add함수를 이용한 덧셈"
   ]
  },
  {
   "cell_type": "code",
   "execution_count": 13,
   "id": "7c524dcd-24fb-479d-a631-24550a580d86",
   "metadata": {},
   "outputs": [
    {
     "data": {
      "text/plain": [
       "array([[30, 50, 70],\n",
       "       [15, 17, 19],\n",
       "       [23, 27, 31]])"
      ]
     },
     "execution_count": 13,
     "metadata": {},
     "output_type": "execute_result"
    }
   ],
   "source": [
    "a = np.add(x,y)\n",
    "a\n"
   ]
  },
  {
   "cell_type": "markdown",
   "id": "42f7375d-633f-4e2a-babb-8b6dd4c267a0",
   "metadata": {},
   "source": [
    "* 뻴샘과 subtract"
   ]
  },
  {
   "cell_type": "code",
   "execution_count": 14,
   "id": "76b97122-ba67-40a6-9c38-952b236dd62c",
   "metadata": {},
   "outputs": [
    {
     "data": {
      "text/plain": [
       "array([[ 10,  10,  10],\n",
       "       [ -5,  -5,  -5],\n",
       "       [ -7,  -9, -11]])"
      ]
     },
     "execution_count": 14,
     "metadata": {},
     "output_type": "execute_result"
    }
   ],
   "source": [
    "x-y"
   ]
  },
  {
   "cell_type": "code",
   "execution_count": 17,
   "id": "968cfe70-998e-4808-9bce-212d606f38f1",
   "metadata": {},
   "outputs": [
    {
     "data": {
      "text/plain": [
       "array([[ 10,  10,  10],\n",
       "       [ -5,  -5,  -5],\n",
       "       [ -7,  -9, -11]])"
      ]
     },
     "execution_count": 17,
     "metadata": {},
     "output_type": "execute_result"
    }
   ],
   "source": [
    "b = np.subtract(x,y)\n",
    "b"
   ]
  },
  {
   "cell_type": "markdown",
   "id": "4e8263fb-a71e-4833-94dc-e8bac2fd19f1",
   "metadata": {},
   "source": [
    "* 곱셈과 multiyply"
   ]
  },
  {
   "cell_type": "code",
   "execution_count": 18,
   "id": "ce512d27-aca7-461f-9702-d1c6ec3630e9",
   "metadata": {},
   "outputs": [
    {
     "data": {
      "text/plain": [
       "array([[ 200,  600, 1200],\n",
       "       [  50,   66,   84],\n",
       "       [ 120,  162,  210]])"
      ]
     },
     "execution_count": 18,
     "metadata": {},
     "output_type": "execute_result"
    }
   ],
   "source": [
    "x*y"
   ]
  },
  {
   "cell_type": "code",
   "execution_count": 20,
   "id": "fc792a31-ca03-400b-9363-310fe52fb1ed",
   "metadata": {},
   "outputs": [
    {
     "data": {
      "text/plain": [
       "array([[ 200,  600, 1200],\n",
       "       [  50,   66,   84],\n",
       "       [ 120,  162,  210]])"
      ]
     },
     "execution_count": 20,
     "metadata": {},
     "output_type": "execute_result"
    }
   ],
   "source": [
    "c = np.multiply(x,y)\n",
    "c"
   ]
  },
  {
   "cell_type": "markdown",
   "id": "a96a677d-ed1f-4b13-a457-a85dfb58b189",
   "metadata": {
    "tags": []
   },
   "source": [
    "* 나눗셈과 divide"
   ]
  },
  {
   "cell_type": "code",
   "execution_count": 21,
   "id": "cd2a947e-e235-42bf-b7f9-8626bd90c25c",
   "metadata": {},
   "outputs": [
    {
     "data": {
      "text/plain": [
       "array([[2.        , 1.5       , 1.33333333],\n",
       "       [0.5       , 0.54545455, 0.58333333],\n",
       "       [0.53333333, 0.5       , 0.47619048]])"
      ]
     },
     "execution_count": 21,
     "metadata": {},
     "output_type": "execute_result"
    }
   ],
   "source": [
    "x/y"
   ]
  },
  {
   "cell_type": "code",
   "execution_count": 23,
   "id": "4e6cb2a2-c30f-401b-a357-f1bd2d6d2409",
   "metadata": {},
   "outputs": [
    {
     "data": {
      "text/plain": [
       "array([[2.        , 1.5       , 1.33333333],\n",
       "       [0.5       , 0.54545455, 0.58333333],\n",
       "       [0.53333333, 0.5       , 0.47619048]])"
      ]
     },
     "execution_count": 23,
     "metadata": {},
     "output_type": "execute_result"
    }
   ],
   "source": [
    "d = np.divide(x,y)\n",
    "d"
   ]
  },
  {
   "cell_type": "markdown",
   "id": "d8d87f6e-e9d2-45b3-a08c-f191f55ea01b",
   "metadata": {
    "tags": []
   },
   "source": [
    "* 나머지와 remainder = mod"
   ]
  },
  {
   "cell_type": "code",
   "execution_count": 24,
   "id": "226615e7-4a6c-401b-96f2-a87603f050ef",
   "metadata": {},
   "outputs": [
    {
     "data": {
      "text/plain": [
       "array([[ 0, 10, 10],\n",
       "       [ 5,  6,  7],\n",
       "       [ 8,  9, 10]], dtype=int32)"
      ]
     },
     "execution_count": 24,
     "metadata": {},
     "output_type": "execute_result"
    }
   ],
   "source": [
    "x%y"
   ]
  },
  {
   "cell_type": "code",
   "execution_count": 29,
   "id": "a03791cd-101e-4241-85a1-470317e888e4",
   "metadata": {},
   "outputs": [
    {
     "data": {
      "text/plain": [
       "array([[ 0, 10, 10],\n",
       "       [ 5,  6,  7],\n",
       "       [ 8,  9, 10]], dtype=int32)"
      ]
     },
     "execution_count": 29,
     "metadata": {},
     "output_type": "execute_result"
    }
   ],
   "source": [
    "e = np.remainder(x,y)\n",
    "e"
   ]
  },
  {
   "cell_type": "code",
   "execution_count": 30,
   "id": "bf549ba4-28b9-43c7-be57-104fc1b5009a",
   "metadata": {},
   "outputs": [
    {
     "data": {
      "text/plain": [
       "array([[ 0, 10, 10],\n",
       "       [ 5,  6,  7],\n",
       "       [ 8,  9, 10]], dtype=int32)"
      ]
     },
     "execution_count": 30,
     "metadata": {},
     "output_type": "execute_result"
    }
   ],
   "source": [
    "f = np.mod(x,y)\n",
    "f"
   ]
  },
  {
   "cell_type": "markdown",
   "id": "0243db5b-5050-44a6-ae67-e72a87035f1c",
   "metadata": {},
   "source": [
    "* Broadcasting"
   ]
  },
  {
   "cell_type": "markdown",
   "id": "43259f1b-4532-4f8f-979d-b65ca19abb47",
   "metadata": {
    "tags": []
   },
   "source": [
    "영어사전에서 보면  broadcast란 단어는 무언가를 '흩뿌리고 퍼뜨리고 전파'할 때 사용하는 것이라고 한다.    \n",
    "그래서  부족한 행과 열을 같은 성분으로 채워서 계산하는 방법을 브로드캐스팅(broadcasting)이라고 한다. "
   ]
  },
  {
   "cell_type": "code",
   "execution_count": 34,
   "id": "2ff11593-786b-4d26-8d3c-5187dea811a3",
   "metadata": {},
   "outputs": [],
   "source": [
    "v1 = np.array([[1,2,3,4],\n",
    "               [5,6,7,8],\n",
    "               [9,10,11,12],\n",
    "               [13,14,15,16]])\n",
    "v2 = np.array([1])\n",
    "v3 = np.array([3,4,5,6])\n",
    "v4 = np.array([2,2,2,2]).reshape(4,1)"
   ]
  },
  {
   "cell_type": "markdown",
   "id": "9814f52b-4462-425e-9e00-6c4ac3158360",
   "metadata": {},
   "source": [
    "브로드캐스팅이 가능한 경우"
   ]
  },
  {
   "cell_type": "markdown",
   "id": "a0f7cef9-c9f5-4074-92f0-52df6bd762d4",
   "metadata": {
    "tags": []
   },
   "source": [
    "1. 멤버가 하나인 배열은 어떤 배열에나 브로드캐스팅이 가능"
   ]
  },
  {
   "cell_type": "code",
   "execution_count": 35,
   "id": "bb592125-a968-4c54-90ec-495a3d09d011",
   "metadata": {},
   "outputs": [
    {
     "data": {
      "text/plain": [
       "array([[ 2,  3,  4,  5],\n",
       "       [ 6,  7,  8,  9],\n",
       "       [10, 11, 12, 13],\n",
       "       [14, 15, 16, 17]])"
      ]
     },
     "execution_count": 35,
     "metadata": {},
     "output_type": "execute_result"
    }
   ],
   "source": [
    "v1+v2"
   ]
  },
  {
   "cell_type": "markdown",
   "id": "33327a9d-2ca6-4b86-8633-29b76dfb7314",
   "metadata": {},
   "source": [
    "2. 하나의 배열의 차원이 1인 경우"
   ]
  },
  {
   "cell_type": "code",
   "execution_count": 37,
   "id": "e4bbe180-f66b-49d0-b5d2-44915cbad1c3",
   "metadata": {},
   "outputs": [
    {
     "data": {
      "text/plain": [
       "array([[ 4,  6,  8, 10],\n",
       "       [ 8, 10, 12, 14],\n",
       "       [12, 14, 16, 18],\n",
       "       [16, 18, 20, 22]])"
      ]
     },
     "execution_count": 37,
     "metadata": {},
     "output_type": "execute_result"
    }
   ],
   "source": [
    "v1+v3"
   ]
  },
  {
   "cell_type": "markdown",
   "id": "eb56ce41-d26a-4eb2-904c-e7392b402a38",
   "metadata": {},
   "source": [
    "3.  차원의 짝이 맞을 때"
   ]
  },
  {
   "cell_type": "code",
   "execution_count": 38,
   "id": "2b74962e-7cd9-40c5-aaf4-42c897a9a359",
   "metadata": {},
   "outputs": [
    {
     "data": {
      "text/plain": [
       "array([[ 3,  4,  5,  6],\n",
       "       [ 7,  8,  9, 10],\n",
       "       [11, 12, 13, 14],\n",
       "       [15, 16, 17, 18]])"
      ]
     },
     "execution_count": 38,
     "metadata": {},
     "output_type": "execute_result"
    }
   ],
   "source": [
    "v1+v4"
   ]
  },
  {
   "cell_type": "markdown",
   "id": "5604aac4-8710-4960-84c1-b8c083361a2d",
   "metadata": {},
   "source": [
    "# 선형대수(벡터/행렬연산)함수"
   ]
  },
  {
   "cell_type": "markdown",
   "id": "12f12a08-ea3a-40c9-8d6a-a0428f3f3b61",
   "metadata": {},
   "source": [
    "* Norm"
   ]
  },
  {
   "cell_type": "markdown",
   "id": "b9c5ddb7-e625-4c2f-9e13-28f067eb395d",
   "metadata": {
    "tags": []
   },
   "source": [
    "벡터의 크기(magnitude) 또는 길이(length)를 측정하는 방법  \n",
    "* +,- 가 합쳐질 때 모델의 정답과 예측값에 오차 발생가능성이 높다(음수 양수가 번갈아가면서 나오기 떄문)   \n",
    "* 음수값들을 제거하기 위한 작업 두가지 방법이 있다 \n",
    "L1_norm, L2_norm\n",
    "* 컴퓨터가 학습을 잘했는지 안했는지 확인하기 위함도 있다."
   ]
  },
  {
   "cell_type": "markdown",
   "id": "cd86fdb2-986c-4a19-91df-47cec61c1a19",
   "metadata": {},
   "source": [
    "L1_norm "
   ]
  },
  {
   "cell_type": "code",
   "execution_count": 40,
   "id": "8137abb5-7e06-4163-984b-fa2814b8fff7",
   "metadata": {},
   "outputs": [
    {
     "data": {
      "text/plain": [
       "7"
      ]
     },
     "execution_count": 40,
     "metadata": {},
     "output_type": "execute_result"
    }
   ],
   "source": [
    "u = np.array([3,-4])\n",
    "np.abs(u).sum()"
   ]
  },
  {
   "cell_type": "markdown",
   "id": "8c39d34b-3365-45ac-a3a3-d6be78c709d7",
   "metadata": {},
   "source": [
    "L2_norm"
   ]
  },
  {
   "cell_type": "code",
   "execution_count": 41,
   "id": "a15741e8-0dcb-4246-b42f-7eaddf723ba8",
   "metadata": {
    "tags": []
   },
   "outputs": [
    {
     "data": {
      "text/plain": [
       "1.0"
      ]
     },
     "execution_count": 41,
     "metadata": {},
     "output_type": "execute_result"
    }
   ],
   "source": [
    "u = np.array([3.-4])\n",
    "np.linalg.norm(u)"
   ]
  },
  {
   "cell_type": "markdown",
   "id": "bad9ca2e-702e-4e67-9026-c4bf569e8710",
   "metadata": {},
   "source": [
    "* 벡터/행렬의 덧셈과 뺄셈"
   ]
  },
  {
   "cell_type": "code",
   "execution_count": 43,
   "id": "cf80d616-c69a-40ba-9b33-6d0a2506b5a6",
   "metadata": {},
   "outputs": [
    {
     "data": {
      "text/plain": [
       "array([ 3,  7, 11, 15, 19])"
      ]
     },
     "execution_count": 43,
     "metadata": {},
     "output_type": "execute_result"
    }
   ],
   "source": [
    "x = np.array([1,3,5,7,9])\n",
    "y = np.array([2,4,6,8,10])\n",
    "x+y"
   ]
  },
  {
   "cell_type": "code",
   "execution_count": 45,
   "id": "3ae46ef6-812c-4eae-a244-715ac157b162",
   "metadata": {},
   "outputs": [
    {
     "data": {
      "text/plain": [
       "array([1, 1, 1, 1, 1])"
      ]
     },
     "execution_count": 45,
     "metadata": {},
     "output_type": "execute_result"
    }
   ],
   "source": [
    "y-x"
   ]
  },
  {
   "cell_type": "markdown",
   "id": "b0b7bf97-15b4-408b-9ca3-4d894de69247",
   "metadata": {
    "tags": []
   },
   "source": [
    "* 벡터연산(내적)"
   ]
  },
  {
   "cell_type": "markdown",
   "id": "ce1dcf45-7190-4088-89d1-50d0ad0014cd",
   "metadata": {},
   "source": [
    "내적: 벡터를 마치 수 처럼 곱하는 개념이다.  \n",
    "벡터와 벡터를 연산해서 스칼라의 값을 구하는 개념"
   ]
  },
  {
   "cell_type": "markdown",
   "id": "501f9627-58e2-4fae-9d89-d416ca4033fe",
   "metadata": {},
   "source": [
    "1차원 벡터의 내적"
   ]
  },
  {
   "cell_type": "code",
   "execution_count": 75,
   "id": "83e452e8-c79d-407c-a5fc-a0f794a12784",
   "metadata": {},
   "outputs": [
    {
     "data": {
      "text/plain": [
       "54"
      ]
     },
     "execution_count": 75,
     "metadata": {},
     "output_type": "execute_result"
    }
   ],
   "source": [
    "a = np.array([1,3,5])\n",
    "b = np.array([2,4,8])\n",
    "np.dot(a,b)"
   ]
  },
  {
   "cell_type": "markdown",
   "id": "456c61ab-a87f-4b5e-be89-72f8b2338097",
   "metadata": {},
   "source": [
    "(1*2)+(3*4)+(5*8)= 54"
   ]
  },
  {
   "cell_type": "code",
   "execution_count": 76,
   "id": "050287a4-46b4-4054-a2d2-7c6249e6e640",
   "metadata": {},
   "outputs": [
    {
     "data": {
      "text/plain": [
       "54"
      ]
     },
     "execution_count": 76,
     "metadata": {},
     "output_type": "execute_result"
    }
   ],
   "source": [
    "a.dot(b.T)"
   ]
  },
  {
   "cell_type": "code",
   "execution_count": 77,
   "id": "633ff397-2a37-4f07-bffa-a63f770e7115",
   "metadata": {},
   "outputs": [
    {
     "data": {
      "text/plain": [
       "54"
      ]
     },
     "execution_count": 77,
     "metadata": {},
     "output_type": "execute_result"
    }
   ],
   "source": [
    "a@b"
   ]
  },
  {
   "cell_type": "code",
   "execution_count": 78,
   "id": "745317e4-8ccf-446a-894d-11b95b41f254",
   "metadata": {},
   "outputs": [
    {
     "data": {
      "text/plain": [
       "54"
      ]
     },
     "execution_count": 78,
     "metadata": {},
     "output_type": "execute_result"
    }
   ],
   "source": [
    "b.dot(a.T)"
   ]
  },
  {
   "cell_type": "markdown",
   "id": "11e9326a-9ad5-4ce4-878a-0e1e82219535",
   "metadata": {},
   "source": [
    "2차원 벡터의 내적"
   ]
  },
  {
   "cell_type": "code",
   "execution_count": 54,
   "id": "43d2b056-b687-438a-92fe-913901baa5d8",
   "metadata": {},
   "outputs": [
    {
     "data": {
      "text/plain": [
       "array([[18, 50],\n",
       "       [26, 67]])"
      ]
     },
     "execution_count": 54,
     "metadata": {},
     "output_type": "execute_result"
    }
   ],
   "source": [
    "a = ([[2,4],[3,5]])\n",
    "b = ([[7,9],[1,8]])\n",
    "np.dot(a,b)"
   ]
  },
  {
   "cell_type": "code",
   "execution_count": null,
   "id": "f2164257-2ba7-4821-87a6-4bfbac9b9149",
   "metadata": {},
   "outputs": [],
   "source": []
  },
  {
   "cell_type": "markdown",
   "id": "c4e5a686-a825-40b8-a84d-9d9182c75d48",
   "metadata": {},
   "source": [
    "* 역행렬"
   ]
  },
  {
   "cell_type": "code",
   "execution_count": 58,
   "id": "8666b7a5-79c1-41ca-9540-03c797a89100",
   "metadata": {},
   "outputs": [],
   "source": [
    "np.random.seed(0)"
   ]
  },
  {
   "cell_type": "code",
   "execution_count": 65,
   "id": "4ef2bbe7-1f3b-4483-9728-46006cd25951",
   "metadata": {},
   "outputs": [],
   "source": [
    "x = np.random.randint(1,4,size=(3,3))"
   ]
  },
  {
   "cell_type": "code",
   "execution_count": 66,
   "id": "c25fa963-dd89-49f6-989c-d138a4024628",
   "metadata": {},
   "outputs": [
    {
     "data": {
      "text/plain": [
       "array([[2, 2, 2],\n",
       "       [2, 1, 2],\n",
       "       [1, 1, 2]])"
      ]
     },
     "execution_count": 66,
     "metadata": {},
     "output_type": "execute_result"
    }
   ],
   "source": [
    "x"
   ]
  },
  {
   "cell_type": "code",
   "execution_count": 67,
   "id": "347ccf91-9cd4-49a7-917d-6706479f443d",
   "metadata": {},
   "outputs": [
    {
     "data": {
      "text/plain": [
       "array([[ 0. ,  1. , -1. ],\n",
       "       [ 1. , -1. , -0. ],\n",
       "       [-0.5,  0. ,  1. ]])"
      ]
     },
     "execution_count": 67,
     "metadata": {},
     "output_type": "execute_result"
    }
   ],
   "source": [
    "x1 = np.linalg.inv(x)\n",
    "x1"
   ]
  },
  {
   "cell_type": "code",
   "execution_count": 68,
   "id": "d2e89289-25e1-4551-8de7-e07b8bc201f5",
   "metadata": {},
   "outputs": [
    {
     "data": {
      "text/plain": [
       "array([[1., 0., 0.],\n",
       "       [0., 1., 0.],\n",
       "       [0., 0., 1.]])"
      ]
     },
     "execution_count": 68,
     "metadata": {},
     "output_type": "execute_result"
    }
   ],
   "source": [
    "np.dot(x,x1)"
   ]
  },
  {
   "cell_type": "code",
   "execution_count": null,
   "id": "e1fe7e6d-3487-4d0f-a7e4-a16460161cdf",
   "metadata": {},
   "outputs": [],
   "source": []
  },
  {
   "cell_type": "markdown",
   "id": "be35d8d9-a01f-4608-aab1-856847e5f09a",
   "metadata": {
    "tags": []
   },
   "source": [
    "# 난수(랜덤넘버)"
   ]
  },
  {
   "cell_type": "code",
   "execution_count": null,
   "id": "26d38175-b35d-437f-b8e8-ac2e9cfef869",
   "metadata": {},
   "outputs": [],
   "source": []
  },
  {
   "cell_type": "markdown",
   "id": "1e55fecd-c948-4454-b8cc-e2a041ed6f04",
   "metadata": {},
   "source": [
    "rand"
   ]
  },
  {
   "cell_type": "markdown",
   "id": "bc01c33c-b002-47f2-a375-506efb8bb8cc",
   "metadata": {
    "tags": []
   },
   "source": [
    "random.rand()함수는 주어진 형태의 난수 어레이를 생성한다."
   ]
  },
  {
   "cell_type": "code",
   "execution_count": 92,
   "id": "c640889d-8dab-48d6-aafd-4afac1b6de12",
   "metadata": {},
   "outputs": [
    {
     "name": "stdout",
     "output_type": "stream",
     "text": [
      "[0.41139672 0.13997259 0.03322239 0.98257496 0.37329075]\n",
      "[[0.42007537 0.05058812 0.36549611]\n",
      " [0.01662797 0.23074234 0.7649117 ]]\n"
     ]
    }
   ],
   "source": [
    "a = np.random.rand(5)\n",
    "print(a)\n",
    "\n",
    "b = np.random.rand(2,3)\n",
    "print(b)"
   ]
  },
  {
   "cell_type": "code",
   "execution_count": null,
   "id": "85d51747-a8a8-4f7f-9b54-dc4eca23daee",
   "metadata": {},
   "outputs": [],
   "source": []
  },
  {
   "cell_type": "markdown",
   "id": "fd3e20d0-0a7f-43d9-bad4-2254a2feb38d",
   "metadata": {},
   "source": [
    "randint"
   ]
  },
  {
   "cell_type": "markdown",
   "id": "f8903aca-628c-45bd-96c0-60c7cf1f66a6",
   "metadata": {
    "tags": []
   },
   "source": [
    "random.randint() 함수는 [최소값, 최대값)의 범위에서 임의의 정수를 만듭니다."
   ]
  },
  {
   "cell_type": "code",
   "execution_count": 82,
   "id": "6f12daf0-16f1-485c-958e-1cf1518512c7",
   "metadata": {
    "tags": []
   },
   "outputs": [
    {
     "data": {
      "text/plain": [
       "array([0, 1, 1, 0, 0])"
      ]
     },
     "execution_count": 82,
     "metadata": {},
     "output_type": "execute_result"
    }
   ],
   "source": [
    "a = np.random. randint(2, size=5)\n",
    "a"
   ]
  },
  {
   "cell_type": "markdown",
   "id": "fc59fe89-99b6-4571-81bb-10ebf8979468",
   "metadata": {},
   "source": [
    "randn"
   ]
  },
  {
   "cell_type": "markdown",
   "id": "ac94547a-3a72-4756-a976-a2b1f8ef5c06",
   "metadata": {
    "tags": []
   },
   "source": [
    "random.radn()함수는 표준정규분포로부터 샘플링된 난수를 반환한다."
   ]
  },
  {
   "cell_type": "code",
   "execution_count": 87,
   "id": "8963eef3-8612-4bc8-940d-a27ec59e5e20",
   "metadata": {},
   "outputs": [
    {
     "name": "stdout",
     "output_type": "stream",
     "text": [
      "[-0.99838235 -0.3676376   1.73719932  0.59361275 -0.54236358]\n",
      "[[-1.71967238 -0.57890879  1.42694855]\n",
      " [ 0.27699691  0.78966713  0.32207411]]\n"
     ]
    },
    {
     "data": {
      "text/plain": [
       "array([3.05058857, 2.58307495, 1.93810421, 2.44382648, 1.36208002])"
      ]
     },
     "execution_count": 87,
     "metadata": {},
     "output_type": "execute_result"
    }
   ],
   "source": [
    "a = np.random.randn(5)\n",
    "print(a)\n",
    "b = np.random.randn(2,3)\n",
    "print(b)\n",
    "sigma, mu = 1.5, 2.0\n",
    "c = sigma * np.random.randn(5) + mu\n",
    "c"
   ]
  },
  {
   "cell_type": "markdown",
   "id": "9dc94938-1cf6-4d0d-ba10-93fee32cd972",
   "metadata": {
    "tags": []
   },
   "source": [
    "standard_normal"
   ]
  },
  {
   "cell_type": "markdown",
   "id": "9ec420fb-5ffb-45b0-9321-4c1d2fcd49eb",
   "metadata": {
    "tags": []
   },
   "source": [
    "표준정규분포로부터 샘플링된 난수를 반환한다.  \n",
    "randn() 함수와 비슷하지만 튜플을 인자로 받는다는 점에서 차이가 있다."
   ]
  },
  {
   "cell_type": "code",
   "execution_count": 88,
   "id": "7267dac3-bbe0-4122-bc19-86c725397bee",
   "metadata": {},
   "outputs": [
    {
     "name": "stdout",
     "output_type": "stream",
     "text": [
      "[ 1.72763912 -0.86835257 -0.82097758]\n",
      "[-1.09974201  0.08672983]\n"
     ]
    }
   ],
   "source": [
    "d = np.random.standard_normal(3)\n",
    "print(d)\n",
    "\n",
    "e = np.random.standard_normal(2,)\n",
    "print(e)"
   ]
  },
  {
   "cell_type": "markdown",
   "id": "979f543c-e3f9-4e58-a201-d2d59746b9b6",
   "metadata": {},
   "source": [
    "normal"
   ]
  },
  {
   "cell_type": "code",
   "execution_count": 89,
   "id": "16a3d69a-5b8e-4137-8b96-672bbfd5c01e",
   "metadata": {},
   "outputs": [
    {
     "name": "stdout",
     "output_type": "stream",
     "text": [
      "[0.45628701 0.4310333 ]\n",
      "[ 4.6088603   0.69332232 -0.56764514  0.76139362]\n",
      "[[7.65547622 6.60880793 2.50115735]\n",
      " [1.35827234 0.01332008 4.04835189]]\n"
     ]
    }
   ],
   "source": [
    "a = np.random.normal(0,1,2)\n",
    "print(a)\n",
    "\n",
    "b = np.random.normal(1.5, 1.5, 4)\n",
    "print(b)\n",
    "\n",
    "c = np.random.normal(3.0, 2.0, (2, 3))\n",
    "print(c)"
   ]
  },
  {
   "cell_type": "markdown",
   "id": "4354b0e3-3ba3-41cd-afec-13d4f46f73ce",
   "metadata": {},
   "source": [
    "random_sample"
   ]
  },
  {
   "cell_type": "markdown",
   "id": "4a19c6e9-0be0-4a78-978b-2cb8ac9f2c8f",
   "metadata": {},
   "source": [
    "random.random_sample() 함수는 [0.0,1.0)범위에서 샘플링된 임의의 실수를 반환합니다."
   ]
  },
  {
   "cell_type": "code",
   "execution_count": 90,
   "id": "f01ce9d0-e09c-4d5b-a49e-36363bf223e9",
   "metadata": {},
   "outputs": [
    {
     "name": "stdout",
     "output_type": "stream",
     "text": [
      "0.10286335869343821\n",
      "[[0.09237389 0.35404666]\n",
      " [0.55181626 0.03362509]\n",
      " [0.96896177 0.32099724]\n",
      " [0.22126269 0.1412639 ]\n",
      " [0.09725993 0.98404224]]\n",
      "[[-1.69829536 -0.31488739]\n",
      " [-0.76036914 -2.50215455]\n",
      " [-1.23844169 -0.65375413]]\n"
     ]
    }
   ],
   "source": [
    "a = np.random.random_sample()\n",
    "print(a)\n",
    "\n",
    "b = np.random.random_sample((5,2))\n",
    "print(b)\n",
    "\n",
    "c = 5 * np.random.random_sample((3, 2)) - 3\n",
    "print(c)"
   ]
  },
  {
   "cell_type": "raw",
   "id": "292a2cae-5e2a-4ce0-b8f7-911253723689",
   "metadata": {
    "tags": []
   },
   "source": [
    "choice"
   ]
  },
  {
   "cell_type": "markdown",
   "id": "fcbb163e-e695-4e34-b8df-d7653de87c0b",
   "metadata": {},
   "source": [
    "random.choice()함수는 주어진 1차원 어레이로부터 임의의 샘플을 생성합니다."
   ]
  },
  {
   "cell_type": "code",
   "execution_count": 91,
   "id": "aa6fc6b8-799b-4565-9e56-73938cb07654",
   "metadata": {},
   "outputs": [
    {
     "name": "stdout",
     "output_type": "stream",
     "text": [
      "[4 0 2]\n",
      "[[3 9 7]\n",
      " [5 3 4]]\n"
     ]
    }
   ],
   "source": [
    "a = np.random.choice(5,3)\n",
    "print(a)\n",
    "\n",
    "b = np.random.choice(10, (2,3))\n",
    "print(b)"
   ]
  },
  {
   "cell_type": "markdown",
   "id": "7c891c43-19a8-49a2-bb6a-2ed4e5df41fd",
   "metadata": {
    "tags": []
   },
   "source": [
    "# 상수"
   ]
  },
  {
   "cell_type": "markdown",
   "id": "434eb9e5-8cd6-4917-bcf6-1c5d0b57fb7f",
   "metadata": {},
   "source": [
    "inf"
   ]
  },
  {
   "cell_type": "code",
   "execution_count": 81,
   "id": "3991bc9e-4e32-4709-ac55-d11f209c0440",
   "metadata": {
    "tags": []
   },
   "outputs": [
    {
     "data": {
      "text/plain": [
       "inf"
      ]
     },
     "execution_count": 81,
     "metadata": {},
     "output_type": "execute_result"
    }
   ],
   "source": [
    "np.inf"
   ]
  },
  {
   "cell_type": "markdown",
   "id": "0b7d3772-8149-4bd4-b02f-89748e5e68d7",
   "metadata": {},
   "source": [
    "nan"
   ]
  },
  {
   "cell_type": "code",
   "execution_count": 80,
   "id": "eb8ac736-0a44-4545-8d69-2292c683634a",
   "metadata": {},
   "outputs": [
    {
     "data": {
      "text/plain": [
       "nan"
      ]
     },
     "execution_count": 80,
     "metadata": {},
     "output_type": "execute_result"
    }
   ],
   "source": [
    "np.nan #숫자로 표현이 안된다."
   ]
  },
  {
   "cell_type": "markdown",
   "id": "d5b163ce-cad8-479d-b2c5-500764cdbd9c",
   "metadata": {},
   "source": [
    "newaxis"
   ]
  },
  {
   "cell_type": "markdown",
   "id": "6d9355a3-a2cf-4cd3-ab00-4fe36d0760c0",
   "metadata": {},
   "source": [
    "차원 추가"
   ]
  },
  {
   "cell_type": "code",
   "execution_count": 94,
   "id": "782155cb-7860-4630-aa9a-96d223066b9f",
   "metadata": {},
   "outputs": [
    {
     "name": "stdout",
     "output_type": "stream",
     "text": [
      "(5,)\n"
     ]
    },
    {
     "data": {
      "text/plain": [
       "array([0, 1, 2, 3, 4])"
      ]
     },
     "execution_count": 94,
     "metadata": {},
     "output_type": "execute_result"
    }
   ],
   "source": [
    "x = np.arange(5)\n",
    "print(x.shape)\n",
    "x"
   ]
  },
  {
   "cell_type": "code",
   "execution_count": 95,
   "id": "05454892-25e0-4c7d-b710-624842f18126",
   "metadata": {},
   "outputs": [
    {
     "data": {
      "text/plain": [
       "(5, 1)"
      ]
     },
     "execution_count": 95,
     "metadata": {},
     "output_type": "execute_result"
    }
   ],
   "source": [
    "x[:, np.newaxis].shape"
   ]
  },
  {
   "cell_type": "code",
   "execution_count": 97,
   "id": "153524f6-829f-4017-9238-087a0f5b9421",
   "metadata": {},
   "outputs": [
    {
     "data": {
      "text/plain": [
       "(1, 5)"
      ]
     },
     "execution_count": 97,
     "metadata": {},
     "output_type": "execute_result"
    }
   ],
   "source": [
    "x[np.newaxis, :].shape"
   ]
  },
  {
   "cell_type": "code",
   "execution_count": 102,
   "id": "afa4d4d7-880e-487f-a60a-72b5304453e9",
   "metadata": {},
   "outputs": [
    {
     "name": "stdout",
     "output_type": "stream",
     "text": [
      "(5, 1)\n"
     ]
    },
    {
     "data": {
      "text/plain": [
       "array([[0],\n",
       "       [1],\n",
       "       [2],\n",
       "       [3],\n",
       "       [4]])"
      ]
     },
     "execution_count": 102,
     "metadata": {},
     "output_type": "execute_result"
    }
   ],
   "source": [
    "x_na = x[:, np.newaxis]\n",
    "print(x_na.shape)\n",
    "x_na"
   ]
  },
  {
   "cell_type": "code",
   "execution_count": 101,
   "id": "67f1b4bf-0aee-4b4b-9fe4-56b49dee8d95",
   "metadata": {},
   "outputs": [
    {
     "name": "stdout",
     "output_type": "stream",
     "text": [
      "(1, 5)\n"
     ]
    },
    {
     "data": {
      "text/plain": [
       "array([[0, 1, 2, 3, 4]])"
      ]
     },
     "execution_count": 101,
     "metadata": {},
     "output_type": "execute_result"
    }
   ],
   "source": [
    "x_na = x[np.newaxis, :]\n",
    "print(x_na.shape)\n",
    "x_na"
   ]
  },
  {
   "cell_type": "code",
   "execution_count": 104,
   "id": "469c3b5e-d1a1-48a9-8939-5995e34abc4d",
   "metadata": {},
   "outputs": [
    {
     "name": "stdout",
     "output_type": "stream",
     "text": [
      "(5, 1, 1)\n"
     ]
    },
    {
     "data": {
      "text/plain": [
       "array([[[0]],\n",
       "\n",
       "       [[1]],\n",
       "\n",
       "       [[2]],\n",
       "\n",
       "       [[3]],\n",
       "\n",
       "       [[4]]])"
      ]
     },
     "execution_count": 104,
     "metadata": {},
     "output_type": "execute_result"
    }
   ],
   "source": [
    "x_na_na =x[:, np.newaxis, np.newaxis]\n",
    "print(x_na_na.shape)\n",
    "x_na_na"
   ]
  },
  {
   "cell_type": "code",
   "execution_count": 105,
   "id": "3e754085-a362-4c04-9fe6-4419d815f367",
   "metadata": {},
   "outputs": [
    {
     "name": "stdout",
     "output_type": "stream",
     "text": [
      "(1, 5, 1)\n"
     ]
    },
    {
     "data": {
      "text/plain": [
       "array([[[0],\n",
       "        [1],\n",
       "        [2],\n",
       "        [3],\n",
       "        [4]]])"
      ]
     },
     "execution_count": 105,
     "metadata": {},
     "output_type": "execute_result"
    }
   ],
   "source": [
    "x_na_na =x[np.newaxis,:,np.newaxis]\n",
    "print(x_na_na.shape)\n",
    "x_na_na"
   ]
  },
  {
   "cell_type": "code",
   "execution_count": 106,
   "id": "3a99a92b-0f38-4447-a295-1406d17614b7",
   "metadata": {},
   "outputs": [
    {
     "name": "stdout",
     "output_type": "stream",
     "text": [
      "(1, 1, 5)\n"
     ]
    },
    {
     "data": {
      "text/plain": [
       "array([[[0, 1, 2, 3, 4]]])"
      ]
     },
     "execution_count": 106,
     "metadata": {},
     "output_type": "execute_result"
    }
   ],
   "source": [
    "x_na_na =x[np.newaxis, np.newaxis, :]\n",
    "print(x_na_na.shape)\n",
    "x_na_na"
   ]
  },
  {
   "cell_type": "code",
   "execution_count": null,
   "id": "a4a80afc-eb37-4a57-afef-9b2f39d0c0b9",
   "metadata": {},
   "outputs": [],
   "source": []
  }
 ],
 "metadata": {
  "kernelspec": {
   "display_name": "Python 3 (ipykernel)",
   "language": "python",
   "name": "python3"
  },
  "language_info": {
   "codemirror_mode": {
    "name": "ipython",
    "version": 3
   },
   "file_extension": ".py",
   "mimetype": "text/x-python",
   "name": "python",
   "nbconvert_exporter": "python",
   "pygments_lexer": "ipython3",
   "version": "3.9.13"
  }
 },
 "nbformat": 4,
 "nbformat_minor": 5
}
