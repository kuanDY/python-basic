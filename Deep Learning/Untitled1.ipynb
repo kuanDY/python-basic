{
 "cells": [
  {
   "cell_type": "markdown",
   "id": "c68a4189",
   "metadata": {},
   "source": [
    "# pandas 기초"
   ]
  },
  {
   "cell_type": "markdown",
   "id": "68d603e2",
   "metadata": {},
   "source": [
    "데이터 처리와 분석을 위한 라이브러리"
   ]
  },
  {
   "cell_type": "code",
   "execution_count": 1,
   "id": "0c3e3f2d",
   "metadata": {},
   "outputs": [],
   "source": [
    "import numpy as np\n",
    "import pandas as pd"
   ]
  },
  {
   "cell_type": "markdown",
   "id": "aa8de305",
   "metadata": {},
   "source": [
    "데이터 구조"
   ]
  },
  {
   "cell_type": "markdown",
   "id": "595ef374",
   "metadata": {},
   "source": [
    "## Series"
   ]
  },
  {
   "cell_type": "markdown",
   "id": "1c8fca7b",
   "metadata": {},
   "source": [
    "* 1차원 구조로 되어 있는 데이터"
   ]
  },
  {
   "cell_type": "markdown",
   "id": "5abb18c0",
   "metadata": {},
   "source": [
    "pd.Series(data=None, index=None dtype=None, name=None, copy=None) 이런 구조로 되어있다. 데이터 인덱스 디타입 이름 설정 하고 싶으면 괄호안에 치고 넣으면되고 안 넣어도 None값으로 실행이 가능하다.\n"
   ]
  },
  {
   "cell_type": "markdown",
   "id": "702218ab",
   "metadata": {},
   "source": [
    "## Series 생성"
   ]
  },
  {
   "cell_type": "markdown",
   "id": "3ce4aeac",
   "metadata": {},
   "source": [
    "pandas.Series(data,index,dtype,copy)"
   ]
  },
  {
   "cell_type": "markdown",
   "id": "33e3cdf3",
   "metadata": {},
   "source": [
    "data - Series를 구성할 데이터 - ndarray,list,constants  \n",
    "index - 필요한 정보를 잘 찾을 수 있게 일정한 순서로 정리된 배열  \n",
    "dtype - 각 항목에 적용될 타입"
   ]
  },
  {
   "cell_type": "code",
   "execution_count": 7,
   "id": "94acb6db",
   "metadata": {},
   "outputs": [
    {
     "name": "stderr",
     "output_type": "stream",
     "text": [
      "C:\\Users\\USER\\AppData\\Local\\Temp\\ipykernel_10012\\334599869.py:1: FutureWarning: The default dtype for empty Series will be 'object' instead of 'float64' in a future version. Specify a dtype explicitly to silence this warning.\n",
      "  ds = pd.Series()\n"
     ]
    },
    {
     "data": {
      "text/plain": [
       "Series([], dtype: float64)"
      ]
     },
     "execution_count": 7,
     "metadata": {},
     "output_type": "execute_result"
    }
   ],
   "source": [
    "ds = pd.Series()\n",
    "ds"
   ]
  },
  {
   "cell_type": "markdown",
   "id": "6685dcd2",
   "metadata": {},
   "source": [
    "ndarray의 데이터를 이용한 Series 생성"
   ]
  },
  {
   "cell_type": "code",
   "execution_count": 14,
   "id": "47a68aa9",
   "metadata": {},
   "outputs": [
    {
     "data": {
      "text/plain": [
       "0    a\n",
       "1    b\n",
       "2    c\n",
       "3    d\n",
       "dtype: object"
      ]
     },
     "execution_count": 14,
     "metadata": {},
     "output_type": "execute_result"
    }
   ],
   "source": [
    "sampleData = np.array(['a','b','c','d'])\n",
    "ex_series = pd.Series(sampleData)\n",
    "ex_series"
   ]
  },
  {
   "cell_type": "code",
   "execution_count": 15,
   "id": "a0e5dff2",
   "metadata": {},
   "outputs": [
    {
     "data": {
      "text/plain": [
       "0    가\n",
       "1    나\n",
       "2    다\n",
       "3    라\n",
       "4    마\n",
       "dtype: object"
      ]
     },
     "execution_count": 15,
     "metadata": {},
     "output_type": "execute_result"
    }
   ],
   "source": [
    "sampleData1 = np.array(['가','나','다','라','마'])\n",
    "ex_series1 = pd.Series(sampleData1)\n",
    "ex_series1"
   ]
  },
  {
   "cell_type": "markdown",
   "id": "1401a4f1",
   "metadata": {},
   "source": [
    "Dictionary를 이용한 Series 생성  \n",
    "key 부분 index, 값 부분 values  \n",
    "아래에서 key부분이 a 값 부분이 0 입니다."
   ]
  },
  {
   "cell_type": "code",
   "execution_count": 19,
   "id": "c64f98e8",
   "metadata": {},
   "outputs": [
    {
     "data": {
      "text/plain": [
       "a    0.0\n",
       "b    1.0\n",
       "c    2.0\n",
       "dtype: float64"
      ]
     },
     "execution_count": 19,
     "metadata": {},
     "output_type": "execute_result"
    }
   ],
   "source": [
    "sampleDict = {'a':0., 'b':1., 'c':2.}\n",
    "ds = pd.Series(sampleDict)\n",
    "ds"
   ]
  },
  {
   "cell_type": "code",
   "execution_count": 20,
   "id": "b8756e4a",
   "metadata": {},
   "outputs": [
    {
     "data": {
      "text/plain": [
       "a    0\n",
       "b    1\n",
       "c    2\n",
       "dtype: int64"
      ]
     },
     "execution_count": 20,
     "metadata": {},
     "output_type": "execute_result"
    }
   ],
   "source": [
    "sampleDict = {'a':0, 'b':1, 'c':2}\n",
    "ds = pd.Series(sampleDict)\n",
    "ds"
   ]
  },
  {
   "cell_type": "markdown",
   "id": "53bfc04f",
   "metadata": {},
   "source": [
    "index/Position을 이용한 Series 접근"
   ]
  },
  {
   "cell_type": "code",
   "execution_count": 23,
   "id": "3cf3f4ff",
   "metadata": {},
   "outputs": [],
   "source": [
    "sample = pd.Series([1,2,3,4,5],index = ['a','b','c','d','e'])"
   ]
  },
  {
   "cell_type": "code",
   "execution_count": 28,
   "id": "4cee663e",
   "metadata": {},
   "outputs": [
    {
     "data": {
      "text/plain": [
       "1"
      ]
     },
     "execution_count": 28,
     "metadata": {},
     "output_type": "execute_result"
    }
   ],
   "source": [
    "sample[0] # 첫번째 값 접근"
   ]
  },
  {
   "cell_type": "code",
   "execution_count": 29,
   "id": "2416dc3e",
   "metadata": {},
   "outputs": [
    {
     "data": {
      "text/plain": [
       "2"
      ]
     },
     "execution_count": 29,
     "metadata": {},
     "output_type": "execute_result"
    }
   ],
   "source": [
    "sample[1] #두번째 멤버까지 접근"
   ]
  },
  {
   "cell_type": "code",
   "execution_count": 30,
   "id": "88f8d2c2",
   "metadata": {},
   "outputs": [
    {
     "data": {
      "text/plain": [
       "4"
      ]
     },
     "execution_count": 30,
     "metadata": {},
     "output_type": "execute_result"
    }
   ],
   "source": [
    "sample[-2] "
   ]
  },
  {
   "cell_type": "code",
   "execution_count": 33,
   "id": "efa00f7c",
   "metadata": {},
   "outputs": [
    {
     "data": {
      "text/plain": [
       "a   -0.608374\n",
       "b   -0.193200\n",
       "c    0.017264\n",
       "d    1.004149\n",
       "e    0.139127\n",
       "dtype: float64"
      ]
     },
     "execution_count": 33,
     "metadata": {},
     "output_type": "execute_result"
    }
   ],
   "source": [
    "s = pd.Series(data=np. random.randn(5), index=['a','b','c','d','e'])\n",
    "s"
   ]
  },
  {
   "cell_type": "markdown",
   "id": "f5662cfa",
   "metadata": {},
   "source": [
    "슬라이싱/인덱스"
   ]
  },
  {
   "cell_type": "markdown",
   "id": "93a17af8",
   "metadata": {},
   "source": [
    "Numpy와 같이 슬라이싱/인덱스와 같은 작업가능"
   ]
  },
  {
   "cell_type": "code",
   "execution_count": 34,
   "id": "44ac1339",
   "metadata": {},
   "outputs": [
    {
     "data": {
      "text/plain": [
       "-0.6083743429815068"
      ]
     },
     "execution_count": 34,
     "metadata": {},
     "output_type": "execute_result"
    }
   ],
   "source": [
    "s[0]"
   ]
  },
  {
   "cell_type": "code",
   "execution_count": 35,
   "id": "b0973170",
   "metadata": {},
   "outputs": [
    {
     "data": {
      "text/plain": [
       "a   -0.608374\n",
       "b   -0.193200\n",
       "c    0.017264\n",
       "dtype: float64"
      ]
     },
     "execution_count": 35,
     "metadata": {},
     "output_type": "execute_result"
    }
   ],
   "source": [
    "s[:3]"
   ]
  },
  {
   "cell_type": "code",
   "execution_count": 43,
   "id": "2817b43f",
   "metadata": {},
   "outputs": [
    {
     "data": {
      "text/plain": [
       "array([[22, 19, 28, 30],\n",
       "       [26, 23, 28, 20],\n",
       "       [22, 25, 18, 22],\n",
       "       [26, 26, 23, 20]])"
      ]
     },
     "execution_count": 43,
     "metadata": {},
     "output_type": "execute_result"
    }
   ],
   "source": [
    "np.random.seed(42) # 난수는 42를 주로 사용하는데 별 이유는 없는 듯하다..\n",
    "arr = np.random.randint(16,32,(4,4))\n",
    "arr"
   ]
  },
  {
   "cell_type": "code",
   "execution_count": 46,
   "id": "8ddf4a87",
   "metadata": {},
   "outputs": [
    {
     "data": {
      "text/plain": [
       "array([[22, 19, 28, 30],\n",
       "       [26, 23, 28, 20],\n",
       "       [22, 25, 18, 22]])"
      ]
     },
     "execution_count": 46,
     "metadata": {},
     "output_type": "execute_result"
    }
   ],
   "source": [
    "arr[:3]"
   ]
  },
  {
   "cell_type": "code",
   "execution_count": 60,
   "id": "05a471cd",
   "metadata": {},
   "outputs": [
    {
     "data": {
      "text/plain": [
       "array([[22, 19, 28],\n",
       "       [26, 23, 28],\n",
       "       [22, 25, 18]])"
      ]
     },
     "execution_count": 60,
     "metadata": {},
     "output_type": "execute_result"
    }
   ],
   "source": [
    "arr[:3,:3] #22,19,28\n"
   ]
  },
  {
   "cell_type": "code",
   "execution_count": 62,
   "id": "a2f408f1",
   "metadata": {},
   "outputs": [
    {
     "data": {
      "text/plain": [
       "array([[22, 19],\n",
       "       [26, 23],\n",
       "       [22, 25],\n",
       "       [26, 26]])"
      ]
     },
     "execution_count": 62,
     "metadata": {},
     "output_type": "execute_result"
    }
   ],
   "source": [
    "arr[0:4,:2]"
   ]
  },
  {
   "cell_type": "code",
   "execution_count": 66,
   "id": "41985f53",
   "metadata": {},
   "outputs": [
    {
     "data": {
      "text/plain": [
       "array([[26, 26, 23, 20]])"
      ]
     },
     "execution_count": 66,
     "metadata": {},
     "output_type": "execute_result"
    }
   ],
   "source": [
    "arr[3:,:4]"
   ]
  },
  {
   "cell_type": "code",
   "execution_count": 71,
   "id": "3bf2532d",
   "metadata": {},
   "outputs": [
    {
     "data": {
      "text/plain": [
       "array([[30],\n",
       "       [20],\n",
       "       [22],\n",
       "       [20]])"
      ]
     },
     "execution_count": 71,
     "metadata": {},
     "output_type": "execute_result"
    }
   ],
   "source": [
    "arr[0:4,3:4]"
   ]
  },
  {
   "cell_type": "code",
   "execution_count": 72,
   "id": "85e1a1d3",
   "metadata": {},
   "outputs": [
    {
     "data": {
      "text/plain": [
       "array([22, 19, 28, 30])"
      ]
     },
     "execution_count": 72,
     "metadata": {},
     "output_type": "execute_result"
    }
   ],
   "source": [
    "arr[0]"
   ]
  },
  {
   "cell_type": "code",
   "execution_count": 74,
   "id": "658f491d",
   "metadata": {},
   "outputs": [
    {
     "data": {
      "text/plain": [
       "(d    1.004149\n",
       " e    0.139127\n",
       " dtype: float64,\n",
       " 0.017263946003324614)"
      ]
     },
     "execution_count": 74,
     "metadata": {},
     "output_type": "execute_result"
    }
   ],
   "source": [
    "s[s>s.median()], s.median()"
   ]
  },
  {
   "cell_type": "code",
   "execution_count": null,
   "id": "d4b8dd29",
   "metadata": {},
   "outputs": [],
   "source": []
  },
  {
   "cell_type": "code",
   "execution_count": null,
   "id": "1a1f5264",
   "metadata": {},
   "outputs": [],
   "source": []
  }
 ],
 "metadata": {
  "kernelspec": {
   "display_name": "Python 3 (ipykernel)",
   "language": "python",
   "name": "python3"
  },
  "language_info": {
   "codemirror_mode": {
    "name": "ipython",
    "version": 3
   },
   "file_extension": ".py",
   "mimetype": "text/x-python",
   "name": "python",
   "nbconvert_exporter": "python",
   "pygments_lexer": "ipython3",
   "version": "3.9.13"
  }
 },
 "nbformat": 4,
 "nbformat_minor": 5
}
