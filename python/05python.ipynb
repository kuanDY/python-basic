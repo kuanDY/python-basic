{
 "cells": [
  {
   "cell_type": "markdown",
   "id": "165affd5-1851-4863-ac50-16d35e58f48d",
   "metadata": {},
   "source": [
    "# 파이썬 기초 문법3"
   ]
  },
  {
   "cell_type": "markdown",
   "id": "e826128e-87b4-49ee-b34a-9d6310d4d3fb",
   "metadata": {
    "tags": []
   },
   "source": [
    "연습 문제1  \n",
    "공무원 시험 결과가 국어, 영어, 한국사, 선택 교과1, 선택 교과2의 점수가 리스트 형태로 \n",
    "제공됩니다. 이때 한 과목이라도 60점 미만이면 과락입니다. 과락이면 False를 과락이 \n",
    "아니면 True를 출력하도록 코드를 완성해보세요."
   ]
  },
  {
   "cell_type": "markdown",
   "id": "f864b5ee-65df-40eb-817d-a8e834756f30",
   "metadata": {
    "tags": []
   },
   "source": [
    "[국어, 영어, 한국사, 선택 교과1, 선택 교과2]  \n",
    "scores = [88, 73, 89, 59, 77]  \n",
    "?????  \n",
    "실행 결과:   \n",
    "False\n"
   ]
  },
  {
   "cell_type": "code",
   "execution_count": 2,
   "id": "8ff77875-b0b9-4320-98d2-6fc14fe6e785",
   "metadata": {},
   "outputs": [],
   "source": [
    "scores = [88, 73, 89, 59, 77]"
   ]
  },
  {
   "cell_type": "code",
   "execution_count": 8,
   "id": "07bab3fb-97a7-450e-bac2-399295b41b11",
   "metadata": {},
   "outputs": [
    {
     "name": "stdout",
     "output_type": "stream",
     "text": [
      "False\n"
     ]
    }
   ],
   "source": [
    "print(scores[0] >=60 and scores[1] >= 60 and scores[2] >= 60 and scores[3] >= 60 and scores[4])"
   ]
  },
  {
   "cell_type": "markdown",
   "id": "e5c1a2b2-4754-4d28-a4e7-466e933c6760",
   "metadata": {},
   "source": [
    "print(scores[0] >=60 and scores[1] >= 60 and scores[2] >= 60 and scores[3] >= 60 and scores[4])"
   ]
  },
  {
   "cell_type": "markdown",
   "id": "7c28ec98-bbcd-4bb9-8b2f-3bfc3e6fb06d",
   "metadata": {},
   "source": [
    "## 파이썬 입력 사용해보기"
   ]
  },
  {
   "cell_type": "code",
   "execution_count": 1,
   "id": "258c96a3-001b-48b3-81c8-afbf3abe862a",
   "metadata": {},
   "outputs": [
    {
     "name": "stdin",
     "output_type": "stream",
     "text": [
      "message 1111\n"
     ]
    }
   ],
   "source": [
    "input_value = input(\"message\")"
   ]
  },
  {
   "cell_type": "markdown",
   "id": "06c1203e",
   "metadata": {},
   "source": [
    "input_value = input(\"message\")  \n",
    "message 1111"
   ]
  },
  {
   "cell_type": "code",
   "execution_count": null,
   "id": "5b54d3ed-e2d2-4852-84c2-9b3bdc8c9fe8",
   "metadata": {},
   "outputs": [],
   "source": []
  },
  {
   "cell_type": "code",
   "execution_count": null,
   "id": "693d83d9-3d03-42ee-a02c-3cdffe7e1888",
   "metadata": {},
   "outputs": [],
   "source": []
  },
  {
   "cell_type": "code",
   "execution_count": null,
   "id": "a975e03b-22c5-4767-b509-87574559d44b",
   "metadata": {
    "scrolled": true
   },
   "outputs": [],
   "source": []
  },
  {
   "cell_type": "markdown",
   "id": "cb9ec113",
   "metadata": {},
   "source": [
    "변수 입력 받아서 할때 format \n",
    "보통은 f스트링 쓴다."
   ]
  },
  {
   "cell_type": "code",
   "execution_count": 28,
   "id": "46906893",
   "metadata": {},
   "outputs": [
    {
     "name": "stdout",
     "output_type": "stream",
     "text": [
      "정수를 입력하세요300\n",
      "정수를 입력하세요400\n",
      "첫번째 정수는 300 입니다.\n",
      "두번째 정수는 400 입니다.\n",
      "300 과 400 의 합은 700 입니다.\n"
     ]
    }
   ],
   "source": [
    "num = int(input(\"정수를 입력하세요\"))\n",
    "num2 = int(input(\"정수를 입력하세요\"))\n",
    "print(\"첫번째 정수는 {} 입니다.\".format(num))\n",
    "print(\"두번째 정수는 {} 입니다.\".format(num2))\n",
    "print(num,\"과\",num2,\"의 합은\",num+num2,\"입니다.\")\n"
   ]
  },
  {
   "cell_type": "markdown",
   "id": "45f5b10b",
   "metadata": {},
   "source": [
    "사용자의 이름을 물어보고 이어서 2개의 정수를 받아서 덧셈을 한 후 결과를 출력하는 프로그램을 작성해보세요."
   ]
  },
  {
   "cell_type": "markdown",
   "id": "60987bbb-6827-4e3c-9922-6aa1460eeccf",
   "metadata": {},
   "source": [
    "이름을 입력하시오: 엔코아  \n",
    "엔코아 씨, 안녕하세요?  \n",
    "파이썬에 오신 것을 환영합니다.  \n",
    "첫 번째 정수를 입력하세요: 300  \n",
    "두 번째 정수를 입력하세요: 400  \n",
    "300 과 400 의 합은 700 입니다 "
   ]
  },
  {
   "cell_type": "markdown",
   "id": "015d2b11",
   "metadata": {},
   "source": [
    "해답) name = input(\"이름을 입력하시오\")  \n",
    "print(name,\"씨, 안녕하세요?\")  \n",
    "print(\"파이썬에 오신 것을 환영합니다.\")  \n",
    "a = int(input(\"첫 번째 정수를 입력하세요\"))  \n",
    "b = int(input(\"두 번째 정수를 입력하세요\"))  \n",
    "print(a,\"과\",b,\"의 합은\",(a + b), \"입니다\")  "
   ]
  },
  {
   "cell_type": "code",
   "execution_count": 7,
   "id": "a1d025f9-03e0-458c-bea7-2669d350819f",
   "metadata": {},
   "outputs": [
    {
     "name": "stdout",
     "output_type": "stream",
     "text": [
      "이름을 입력하시오엔코아\n",
      "엔코아 씨, 안녕하세요?\n",
      "파이썬에 오신 것을 환영합니다.\n",
      "첫 번째 정수를 입력하세요300\n",
      "두 번째 정수를 입력하세요400\n",
      "300 과 400 의 합은 700 입니다\n"
     ]
    }
   ],
   "source": [
    "name = input(\"이름을 입력하시오\")\n",
    "print(name,\"씨, 안녕하세요?\")\n",
    "print(\"파이썬에 오신 것을 환영합니다.\")\n",
    "a = int(input(\"첫 번째 정수를 입력하세요\"))\n",
    "b = int(input(\"두 번째 정수를 입력하세요\"))\n",
    "print(a,\"과\",b,\"의 합은\",(a + b), \"입니다\")"
   ]
  },
  {
   "cell_type": "code",
   "execution_count": 19,
   "id": "3bc64500-6449-4c94-939a-1fb308aa9040",
   "metadata": {},
   "outputs": [
    {
     "name": "stdout",
     "output_type": "stream",
     "text": [
      "경기장은 어디입니까?고척\n",
      "이긴 팀은 어디입니까?kt\n",
      "진 팀은 어디입니까?lg\n",
      "우수 선수는 누구입니까?강백호\n",
      "스코어는 몇대몇입니까?10:9\n",
      "\n",
      "[속보] kt 가 10:9 로 승리...\n",
      "오늘 고척 경기장에서 야구경기가 있었습니다.\n",
      "kt 와 lg 는 치열한 공방전을 펼쳤습니다.\n",
      "이 경기에서 강백호 가 맹활약을 했습니다.\n",
      "그 끝내 kt 가 lg 를 10:9 로 승리하였습니다\n",
      "기사 끝\n"
     ]
    }
   ],
   "source": [
    "stadium = input(\"경기장은 어디입니까?\")\n",
    "winner = input(\"이긴 팀은 어디입니까?\")\n",
    "loser = input(\"진 팀은 어디입니까?\")\n",
    "mvp = input(\"우수 선수는 누구입니까?\")\n",
    "score = input(\"스코어는 몇대몇입니까?\")\n",
    "\n",
    "print(\"\\n[속보]\",winner,\"가\",score,\"로 승리...\")\n",
    "print(\"오늘\",stadium,\"경기장에서 야구경기가 있었습니다.\")\n",
    "print(winner,\"와\",loser,\"는 치열한 공방전을 펼쳤습니다.\")\n",
    "print(\"이 경기에서\",mvp,\"가 맹활약을 했습니다.\")\n",
    "print(\"그 끝내\",winner,\"가\",loser,\"를\",score,\"로 승리하였습니다\")\n",
    "print(\"기사 끝\")\n",
    "     "
   ]
  },
  {
   "cell_type": "markdown",
   "id": "06bf2b6d",
   "metadata": {},
   "source": [
    "입력 값을 여러 개의 변수에 저장하기 "
   ]
  },
  {
   "cell_type": "markdown",
   "id": "8a9f4d77",
   "metadata": {},
   "source": [
    "예제) split(',')"
   ]
  },
  {
   "cell_type": "code",
   "execution_count": 22,
   "id": "8198f7da",
   "metadata": {},
   "outputs": [
    {
     "name": "stdout",
     "output_type": "stream",
     "text": [
      "<class 'list'>\n",
      "['1', '2', '3']\n"
     ]
    }
   ],
   "source": [
    "result = '1,2,3'. split(',')\n",
    "print(type(result))\n",
    "print(result)"
   ]
  },
  {
   "cell_type": "markdown",
   "id": "bd9a0c40",
   "metadata": {},
   "source": [
    "## 연습문제"
   ]
  },
  {
   "cell_type": "markdown",
   "id": "585a64d6",
   "metadata": {},
   "source": [
    "사용자로부터 “hh:mm:ss” 형태의 시간 값을 입력 받습니다. 예를 들면 12시 33분 23초일 때 “12:33:23” 과 같이 입력을 받습니다. 이 때 결과가 아래와 같게 나오도록 \n",
    "구현해보세요."
   ]
  },
  {
   "cell_type": "markdown",
   "id": "57345e4b",
   "metadata": {},
   "source": [
    "hh:mm:ss 의 형태로 시간을 입력해주세요 12:33:23  \n",
    "실행 결과:  \n",
    "시 : 12  \n",
    "분 : 33  \n",
    "초 : 23"
   ]
  },
  {
   "cell_type": "code",
   "execution_count": 35,
   "id": "3b82dfe5",
   "metadata": {},
   "outputs": [
    {
     "name": "stdout",
     "output_type": "stream",
     "text": [
      "hh:mm:ss 의 형태의 시간 값을 입력 받습니다.12:33:23\n",
      "시: 12\n",
      "분: 33\n",
      "초: 23\n"
     ]
    }
   ],
   "source": [
    "h, m, s = input(\"hh:mm:ss 의 형태의 시간 값을 입력 받습니다.\").split(\":\")\n",
    "\n",
    "print(\"시:\",h)\n",
    "print(\"분:\",m)\n",
    "print(\"초:\",s)"
   ]
  },
  {
   "cell_type": "markdown",
   "id": "98964951",
   "metadata": {},
   "source": [
    "## map() 내장 함수 이용하기\n"
   ]
  },
  {
   "cell_type": "markdown",
   "id": "0b7028c1",
   "metadata": {},
   "source": [
    "연습 문제  \n",
    "사용자로부터 값을 입력 받습니다. 국어, 영어, 수학, 과학 점수를 한번에 입력받습니다.  이를 kor, eng, mat, sci라는 변수에 각각 저장하고, 사칙 연산을 활용하여 평균 점수를 \n",
    "산출해보세요.  \n",
    "국어, 영어, 수학, 과학 점수를 입력해주세요 98,100,96,100  \n",
    "실행 결과:  \n",
    "평균 점수는 98.5 점입니다"
   ]
  },
  {
   "cell_type": "code",
   "execution_count": null,
   "id": "246ff63e",
   "metadata": {},
   "outputs": [],
   "source": []
  },
  {
   "cell_type": "code",
   "execution_count": 54,
   "id": "a5aa2c42",
   "metadata": {},
   "outputs": [
    {
     "name": "stdout",
     "output_type": "stream",
     "text": [
      "국어,영어,수학,과학 점수를 입력해주세요98,100,96,100\n",
      "평균 점수는 98.5 점입니다.\n"
     ]
    }
   ],
   "source": [
    "kor, eng, mat, sci = map(int,input(\"국어,영어,수학,과학 점수를 입력해주세요\").split(\",\"))\n",
    "avg = (kor+ eng+ mat+ sci)/4\n",
    "print(\"평균 점수는\" ,avg, \"점입니다.\")"
   ]
  },
  {
   "cell_type": "code",
   "execution_count": null,
   "id": "b5f4e072",
   "metadata": {},
   "outputs": [],
   "source": []
  },
  {
   "cell_type": "code",
   "execution_count": 56,
   "id": "278725fd",
   "metadata": {},
   "outputs": [
    {
     "name": "stdout",
     "output_type": "stream",
     "text": [
      "2021 02 0318:33:23\n"
     ]
    }
   ],
   "source": [
    "year = '2021'\n",
    "month = '02'\n",
    "day = '03'\n",
    "hour = '18'\n",
    "minute = '33'\n",
    "second = '23'\n",
    "\n",
    "print(year, month, day, end=\"\")\n",
    "print(hour, minute, second, sep=\":\")"
   ]
  },
  {
   "cell_type": "code",
   "execution_count": null,
   "id": "5bc0438e",
   "metadata": {},
   "outputs": [],
   "source": []
  },
  {
   "cell_type": "code",
   "execution_count": null,
   "id": "04f4f451",
   "metadata": {},
   "outputs": [],
   "source": []
  },
  {
   "cell_type": "code",
   "execution_count": 64,
   "id": "22743212",
   "metadata": {},
   "outputs": [
    {
     "name": "stdout",
     "output_type": "stream",
     "text": [
      "사과와 귤을 몇개 드릴까요?10,20\n",
      "총 가격은 14000 원 입니다.\n"
     ]
    }
   ],
   "source": [
    "app, man = map(int,input(\"사과와 귤을 몇개 드릴까요?\").split(\",\"))\n",
    "s = (app*1000) + (man*200)\n",
    "print(\"총 가격은\",s,\"원 입니다.\")\n"
   ]
  },
  {
   "cell_type": "markdown",
   "id": "b50a33d1",
   "metadata": {},
   "source": [
    "if문 예제"
   ]
  },
  {
   "cell_type": "code",
   "execution_count": 66,
   "id": "aa58624e",
   "metadata": {},
   "outputs": [
    {
     "name": "stdout",
     "output_type": "stream",
     "text": [
      "<class 'int'>\n"
     ]
    }
   ],
   "source": [
    "input_value4 =4\n",
    "print(type(input_value4))"
   ]
  },
  {
   "cell_type": "code",
   "execution_count": 67,
   "id": "303e4226",
   "metadata": {},
   "outputs": [
    {
     "name": "stdout",
     "output_type": "stream",
     "text": [
      "<class 'int'>\n"
     ]
    }
   ],
   "source": [
    "print(int)"
   ]
  },
  {
   "cell_type": "code",
   "execution_count": 69,
   "id": "86714e1a",
   "metadata": {},
   "outputs": [
    {
     "data": {
      "text/plain": [
       "True"
      ]
     },
     "execution_count": 69,
     "metadata": {},
     "output_type": "execute_result"
    }
   ],
   "source": [
    "type(input_value4) is int"
   ]
  },
  {
   "cell_type": "code",
   "execution_count": 70,
   "id": "6fd0b7aa",
   "metadata": {},
   "outputs": [
    {
     "name": "stdout",
     "output_type": "stream",
     "text": [
      "input_value4는 정수입니다.\n"
     ]
    }
   ],
   "source": [
    "if type(input_value4) is int:\n",
    "    print(\"input_value4는 정수입니다.\")"
   ]
  },
  {
   "cell_type": "code",
   "execution_count": 71,
   "id": "deb831dc",
   "metadata": {},
   "outputs": [
    {
     "name": "stdout",
     "output_type": "stream",
     "text": [
      "30대 입니다.\n",
      "감사합니다.\n"
     ]
    }
   ],
   "source": [
    "age = 39\n",
    "if 20 <= age < 30:\n",
    "    print(\"20대 입니다.\")\n",
    "elif 30 <= age < 40:\n",
    "    print(\"30대 입니다.\")\n",
    "    \n",
    "print(\"감사합니다.\")"
   ]
  },
  {
   "cell_type": "code",
   "execution_count": null,
   "id": "55d1785b",
   "metadata": {},
   "outputs": [],
   "source": []
  },
  {
   "cell_type": "markdown",
   "id": "8f057f7c",
   "metadata": {},
   "source": [
    "연습 문제\n",
    "사용자로부터 아이디를 입력받습니다. 이때 아이디가 'admin'이면 '최고 관리자, 모든 \n",
    "권한을 갖습니다.'를 출력하고 프로그램을 종료합니다. 아이디가 'admin'이 아니면 회원 \n",
    "등급을 정수로 입력받습니다. 만약 회원 레벨이 1~3 사이 값이면 '제한적인 권한을 \n",
    "갖습니다.'를 출력하고, 그렇지 않으면 '권한이 없습니다.'를 출력하는 프로그램을 \n",
    "작성해보세요.  \n",
    "실행 결과:  \n",
    "아이디를 입력하세요 : biana  \n",
    "회원 등급을 입력해주세요 : 3  \n",
    "제한적인 권한을 갖습니다"
   ]
  },
  {
   "cell_type": "markdown",
   "id": "7265d864",
   "metadata": {},
   "source": [
    "코딩) name = input('아이디를 입력하세요 :')  \n",
    "\n",
    "if name == 'admin':  \n",
    "    print(\"최고 관리자, 모든 권한을 갖습니다.\")  \n",
    "else:  \n",
    "    grade = int(input('회원 등급을 입력해주세요:'))  \n",
    "    \n",
    "    if 1<= grade <=3:  \n",
    "        print(\"제한적인 권한을 갖습니다.\")\n",
    "    \n",
    "    else:  \n",
    "        print(\"권한이 없습니다.\")\n",
    "    "
   ]
  },
  {
   "cell_type": "code",
   "execution_count": 76,
   "id": "93672efd",
   "metadata": {},
   "outputs": [
    {
     "name": "stdout",
     "output_type": "stream",
     "text": [
      "아이디를 입력하세요 :biana\n",
      "회원 등급을 입력해주세요:3\n",
      "제한적인 권한을 갖습니다.\n"
     ]
    }
   ],
   "source": [
    "name = input('아이디를 입력하세요 :')\n",
    "\n",
    "if name == 'admin':\n",
    "    print(\"최고 관리자, 모든 권한을 갖습니다.\")\n",
    "else:\n",
    "    grade = int(input('회원 등급을 입력해주세요:'))\n",
    "    \n",
    "    if 1<= grade <=3:\n",
    "        print(\"제한적인 권한을 갖습니다.\")\n",
    "    \n",
    "    else:\n",
    "        print(\"권한이 없습니다.\")\n",
    "    "
   ]
  },
  {
   "cell_type": "code",
   "execution_count": null,
   "id": "5a597188",
   "metadata": {},
   "outputs": [],
   "source": []
  },
  {
   "cell_type": "code",
   "execution_count": null,
   "id": "7b34508f",
   "metadata": {},
   "outputs": [],
   "source": []
  }
 ],
 "metadata": {
  "kernelspec": {
   "display_name": "Python 3 (ipykernel)",
   "language": "python",
   "name": "python3"
  },
  "language_info": {
   "codemirror_mode": {
    "name": "ipython",
    "version": 3
   },
   "file_extension": ".py",
   "mimetype": "text/x-python",
   "name": "python",
   "nbconvert_exporter": "python",
   "pygments_lexer": "ipython3",
   "version": "3.9.13"
  }
 },
 "nbformat": 4,
 "nbformat_minor": 5
}
