{
 "cells": [
  {
   "cell_type": "markdown",
   "id": "e6d1d1c5-0d8f-40b2-8566-698dff70b97e",
   "metadata": {
    "tags": []
   },
   "source": [
    "  # 파이썬 기초 문법 2   "
   ]
  },
  {
   "cell_type": "markdown",
   "id": "bb96f177-c102-4a6e-8a79-782c8e7d89ca",
   "metadata": {},
   "source": [
    "변수 명명 규칙, literal(bool, string), 논리 연산자, 비교 연산자, 시퀀스 자료형, 인덱싱, 슬라이싱, 함수에 대해서 공부한다."
   ]
  },
  {
   "cell_type": "markdown",
   "id": "2cec1d94-41fd-4427-8ed0-8f4853d9fb21",
   "metadata": {},
   "source": [
    "## 연습문제"
   ]
  },
  {
   "cell_type": "markdown",
   "id": "e1070f20-5829-4854-8226-328bcd9f2b4a",
   "metadata": {},
   "source": [
    "[문제 1] L이라는 게임에서 \"왜곡\" 이라는 스킬이 AP(Ability Power,주문력) x 0.6 + 225의 피해를 줍니다. AP가 아래와 같을 때 스킬 피해량을 구해보세요.  \n",
    "\n",
    "-   AP:380"
   ]
  },
  {
   "cell_type": "code",
   "execution_count": 3,
   "id": "0000bc78-162c-4150-acf6-31ac23ddf97e",
   "metadata": {},
   "outputs": [
    {
     "name": "stdout",
     "output_type": "stream",
     "text": [
      "453.0\n"
     ]
    }
   ],
   "source": [
    "AP = 380\n",
    "print(AP* 0.6+ 225)"
   ]
  },
  {
   "cell_type": "markdown",
   "id": "31091699-39e1-44e5-bc7e-04d8e2589247",
   "metadata": {},
   "source": [
    "AP = 380  \n",
    "print(AP* 0.6+ 225)"
   ]
  },
  {
   "cell_type": "markdown",
   "id": "717e0ab2-f35d-46ee-bf81-40f5b83379b2",
   "metadata": {
    "tags": []
   },
   "source": [
    "## 문자열 리터럴  \n",
    "## 연습 문제"
   ]
  },
  {
   "cell_type": "markdown",
   "id": "f7653cd0-8000-48a6-9c20-64d8011fb919",
   "metadata": {},
   "source": [
    "[문제2] 아래의 문장을 문자열 리터럴을 만든 후 출력해보세요.  \n",
    "\"안녕?\"이라는 그 인사를 듣고 나는 '누구지?'라고 생각했다."
   ]
  },
  {
   "cell_type": "markdown",
   "id": "1d5456ff-04b4-4eb1-bf48-2591e5d1c16b",
   "metadata": {},
   "source": [
    "print('\"안녕?\"'\"이라는 그 인사를 듣고 나는 '누구지?'라고 생각했다.\")"
   ]
  },
  {
   "cell_type": "markdown",
   "id": "dad3fecc-1968-4a3f-a0c7-6340df2fd601",
   "metadata": {},
   "source": [
    "print(\"\\\"안녕?\\\"이라는 그 인사를 듣고 나는 '누구지?'라고 생각했다.\")"
   ]
  },
  {
   "cell_type": "markdown",
   "id": "b2af7d99-ea3c-479d-8546-54105dded48e",
   "metadata": {},
   "source": [
    "print(\"\\\"안녕?\"\\이라는 그 인사를 듣고 나는 '누구지?'라고 생각했다.\")"
   ]
  },
  {
   "cell_type": "markdown",
   "id": "66feb961-6b26-4f21-9067-92025352377f",
   "metadata": {},
   "source": [
    "print(\"\"안녕?\"이라는 그 인사를 듣고 나는 '누구지?'라고 생각했다.\")"
   ]
  },
  {
   "cell_type": "markdown",
   "id": "d246aa1f-c741-40d9-b354-d48825e50c6c",
   "metadata": {},
   "source": [
    "print(\"\\\"안녕?\\\"이라는 그 인사를 듣고 나는 \\'누구지?\\'라고 생각했다.\")"
   ]
  },
  {
   "cell_type": "markdown",
   "id": "9e3b311a-a977-4c10-851a-9cd1a59a411e",
   "metadata": {},
   "source": [
    "print('\"안녕?\"이라는 그 인사를 듣고 나는 \\'누구지?\\'라고 생각했다.')"
   ]
  },
  {
   "cell_type": "markdown",
   "id": "71b430d2-117d-471d-b345-482b3fa6d05b",
   "metadata": {},
   "source": [
    "print('\\\"안녕?\\\"이라는 그 인사를 듣고 나는 \\'누구지?\\'라고 생각했다.')"
   ]
  },
  {
   "cell_type": "code",
   "execution_count": 11,
   "id": "b439a628-c678-4d55-82de-e5add648b83f",
   "metadata": {},
   "outputs": [
    {
     "name": "stdout",
     "output_type": "stream",
     "text": [
      "\"안녕?\"이라는 그 인사를 듣고 나는 '누구지?'라고 생각했다.\n"
     ]
    }
   ],
   "source": [
    "print('\"안녕?\"'\"이라는 그 인사를 듣고 나는 '누구지?'라고 생각했다.\")"
   ]
  },
  {
   "cell_type": "markdown",
   "id": "bf483bc8-eb63-4a60-9c6c-83d550a40fad",
   "metadata": {},
   "source": [
    "안녕하세요.  \n",
    "나는 파이썬을 공부하고 있습니다.  \n",
    "반갑습니다."
   ]
  },
  {
   "cell_type": "markdown",
   "id": "23cd80cc-6137-4e57-8b8e-7f82fcb36b54",
   "metadata": {},
   "source": [
    "[문제3] 앞선 예제 코드에서 마지막 줄 바꿈도 되지 않게 변경해보세요."
   ]
  },
  {
   "cell_type": "code",
   "execution_count": 14,
   "id": "ce14f0bb-e268-43dd-887b-5c9e199d3bec",
   "metadata": {},
   "outputs": [
    {
     "name": "stdout",
     "output_type": "stream",
     "text": [
      "안녕하세요.\n",
      "나는 파이썬을 공부하고 있습니다.\n",
      "반갑습니다.\n"
     ]
    }
   ],
   "source": [
    "s1=\"\"\"\\\n",
    "안녕하세요.\n",
    "나는 파이썬을 공부하고 있습니다.\n",
    "반갑습니다.\\\n",
    "\"\"\"\n",
    "print(s1)"
   ]
  },
  {
   "cell_type": "markdown",
   "id": "cb87a308-9c5f-4eda-9c11-7083a781bf57",
   "metadata": {},
   "source": [
    "해답)s1=\"\"\"\\\n",
    "안녕하세요.  \n",
    "나는 파이썬을 공부하고 있습니다.  \n",
    "반갑습니다.\\\n",
    "\"\"\"   \n",
    "print(s1)\n"
   ]
  },
  {
   "cell_type": "markdown",
   "id": "b6ff139e-7b1c-4b7f-b758-d26f49812aae",
   "metadata": {},
   "source": [
    "[문제4] 아래의 결과가 나오도록 삼중 따옴표를 사용하여 출력해보세요."
   ]
  },
  {
   "cell_type": "code",
   "execution_count": 16,
   "id": "98d59e4a-0643-4e78-8580-f3d370962dc9",
   "metadata": {},
   "outputs": [
    {
     "name": "stdout",
     "output_type": "stream",
     "text": [
      "\"안녕하세요.\"\n",
      "나는 파이썬을 공부하고 있습니다.\n",
      "반갑습니다.\n"
     ]
    }
   ],
   "source": [
    "s2=\"\"\"\\\n",
    "\"안녕하세요.\"\n",
    "나는 파이썬을 공부하고 있습니다.\n",
    "반갑습니다.\\\n",
    "\"\"\"\n",
    "print(s2)"
   ]
  },
  {
   "cell_type": "markdown",
   "id": "fdcf6368-b839-43ad-a3b1-1879ef2e3108",
   "metadata": {},
   "source": [
    "해답)s2=\"\"\"\\\n",
    "\"안녕하세요.\"  \n",
    "나는 파이썬을 공부하고 있습니다.  \n",
    "반갑습니다.\\  \n",
    "\"\"\"   \n",
    "print(s2)"
   ]
  },
  {
   "cell_type": "markdown",
   "id": "1b5ae995-8707-4804-a162-3b5c36cbbc12",
   "metadata": {},
   "source": [
    "[문제4] 다음과 같이 결과를 만들어보세요.  \n",
    "실행결과:  \n",
    "너무 너무 너무 너무 너무 너무 너무 파이썬 공부가 즐겁습니다."
   ]
  },
  {
   "cell_type": "code",
   "execution_count": 21,
   "id": "f1dcdf40-a5ad-41cb-899b-b035368eb201",
   "metadata": {},
   "outputs": [
    {
     "name": "stdout",
     "output_type": "stream",
     "text": [
      "너무너무너무너무너무너무너무파이썬 공부가 즐겁습니다.\n"
     ]
    }
   ],
   "source": [
    "print(\"너무\"*7+ \"파이썬 공부가 즐겁습니다.\")"
   ]
  },
  {
   "cell_type": "markdown",
   "id": "f8833983-25ae-4dbe-a9c6-32d3b08e0102",
   "metadata": {},
   "source": [
    "print(\"너무\"*7+ \"파이썬 공부가 즐겁습니다.\")"
   ]
  },
  {
   "cell_type": "markdown",
   "id": "867158f1-2e53-4e21-beff-7eb82611a2ce",
   "metadata": {},
   "source": [
    "# 시퀀스 자료형"
   ]
  },
  {
   "cell_type": "markdown",
   "id": "fad46908-cc0f-4198-b7ca-c095bef69bf6",
   "metadata": {},
   "source": [
    "### 연습 문제"
   ]
  },
  {
   "cell_type": "markdown",
   "id": "5d01cd89-5de5-41f9-a1d1-a5a9ba2464a9",
   "metadata": {},
   "source": [
    "[문제 6] sentence라는 명칭의 변수를 선언하고 '중요한 것은 꺽이지 않는 마음'의 문자열 리터럴을 할당하세요. 그리고 인덱싱을 활용하여 아래와 같은 결과를 출력해보세요.  \n",
    "\n",
    "실행결과:  \n",
    "꺽"
   ]
  },
  {
   "cell_type": "code",
   "execution_count": 26,
   "id": "628f7cff-a603-4a98-bb3c-1e0cf464e41b",
   "metadata": {},
   "outputs": [],
   "source": [
    "sentence = '중요한 것은 꺽이지 않는 마음'"
   ]
  },
  {
   "cell_type": "code",
   "execution_count": 29,
   "id": "957e5a6c-6b8a-4726-a533-18e322824326",
   "metadata": {},
   "outputs": [
    {
     "name": "stdout",
     "output_type": "stream",
     "text": [
      "꺽\n"
     ]
    }
   ],
   "source": [
    "print(sentence[7])"
   ]
  },
  {
   "cell_type": "markdown",
   "id": "9da84cb6-e5ad-4037-ab88-82e42b701e86",
   "metadata": {},
   "source": [
    "print(sentence[7])  \n",
    "주의할 점 여기서 글자만 세는게 아니라 빈칸도 세야한다."
   ]
  },
  {
   "cell_type": "markdown",
   "id": "e3f7836c-a12d-48e8-a1ae-475165f0c2b6",
   "metadata": {},
   "source": [
    "### 연습 문제"
   ]
  },
  {
   "cell_type": "markdown",
   "id": "247ebde7-10c0-45b7-8563-2f41738a2398",
   "metadata": {},
   "source": [
    "[문제7] sentence라는 명칭의 변수를 선언하고 ‘중요한 것은 꺾이지 않는 마음’의 문자열 \n",
    "리터럴을 할당하세요. 그리고 슬라이싱을 활용하여 아래과 같은 결과를 출력해보세요  \n",
    "\n",
    "실행 결과: \n",
    "꺾이지 않는 마음\n"
   ]
  },
  {
   "cell_type": "code",
   "execution_count": 31,
   "id": "cced4259-d6a1-4cf4-898d-4535f92bb0ca",
   "metadata": {},
   "outputs": [
    {
     "name": "stdout",
     "output_type": "stream",
     "text": [
      "꺽이지 않는 마음\n"
     ]
    }
   ],
   "source": [
    "print(sentence[7::])"
   ]
  },
  {
   "cell_type": "markdown",
   "id": "5060d698-6ac9-46f8-86d9-ed35ce3b1acb",
   "metadata": {},
   "source": [
    "해)_ print(sentence[7::])"
   ]
  },
  {
   "cell_type": "markdown",
   "id": "26b644f2-26df-4cb5-9c52-5c455704d287",
   "metadata": {},
   "source": [
    "[문제8] sentence라는 명칭의 변수를 선언하고 ‘중요한 것은 꺾이지 않는 마음’의 문자열 \n",
    "리터럴을 할당하세요. 그리고 슬라이싱을 활용하여 아래과 같은 결과를 출력해보세요"
   ]
  },
  {
   "cell_type": "code",
   "execution_count": 35,
   "id": "f5533bb6-e548-4c9c-a53d-b674652700d8",
   "metadata": {},
   "outputs": [
    {
     "name": "stdout",
     "output_type": "stream",
     "text": [
      "한요중\n"
     ]
    }
   ],
   "source": [
    "print(sentence[2::-1])"
   ]
  },
  {
   "cell_type": "markdown",
   "id": "e6b81172-b36f-452b-8e80-d5d6957e5070",
   "metadata": {},
   "source": [
    "## 리스트"
   ]
  },
  {
   "cell_type": "markdown",
   "id": "86904fcd-9c21-4882-a4a0-68e7721b5668",
   "metadata": {},
   "source": [
    "* 리스트 맨 뒤에 요소 추가하기"
   ]
  },
  {
   "cell_type": "code",
   "execution_count": 38,
   "id": "44638a9a-d199-48a3-8c54-4db9ccdbe61a",
   "metadata": {},
   "outputs": [
    {
     "name": "stdout",
     "output_type": "stream",
     "text": [
      "[1, 2, 3, 4, 5, 6, 7, 8]\n"
     ]
    }
   ],
   "source": [
    "numbers=[1,2,3,4,5,6,7]\n",
    "numbers.append(8)\n",
    "print(numbers)"
   ]
  },
  {
   "cell_type": "markdown",
   "id": "458025e0-f8d2-4e3c-bc22-12b6eaf58add",
   "metadata": {},
   "source": [
    "* 리스트에 요소를 원하는 인덱스에 추가하기"
   ]
  },
  {
   "cell_type": "code",
   "execution_count": 39,
   "id": "36473457-a2b2-45a5-b8cb-3264d61c60e6",
   "metadata": {},
   "outputs": [
    {
     "name": "stdout",
     "output_type": "stream",
     "text": [
      "[0, 1, 2, 3, 0, 4, 0, 5, 6, 7, 8, 0]\n"
     ]
    }
   ],
   "source": [
    "numbers.insert(0,0)\n",
    "numbers.insert(4,0)\n",
    "numbers.insert(6,0)\n",
    "numbers.insert(len(numbers),0)\n",
    "print(numbers)"
   ]
  },
  {
   "cell_type": "markdown",
   "id": "cdecf82a-e6b1-4973-a6d7-7f418044cf0c",
   "metadata": {},
   "source": [
    "* 리스트1 맨뒤로 리스트2 요소들을 추가한다\n"
   ]
  },
  {
   "cell_type": "code",
   "execution_count": 41,
   "id": "881d8098-d0bd-4e5e-9433-f55d6142086f",
   "metadata": {},
   "outputs": [
    {
     "name": "stdout",
     "output_type": "stream",
     "text": [
      "[0, 1, 2, 3, 0, 4, 0, 5, 6, 7, 8, 0, 9, 10, 11]\n"
     ]
    }
   ],
   "source": [
    "numbers.extend([9,10,11])\n",
    "print(numbers)"
   ]
  },
  {
   "cell_type": "markdown",
   "id": "20d0083a-95e0-4d0f-bd7e-9f28d4e2c4b6",
   "metadata": {},
   "source": [
    "* 인자와 리스트에 동일한 요소를 제거합니다. 여럿인 경우 제일 먼저 발견된 요소를 삭제합니다."
   ]
  },
  {
   "cell_type": "code",
   "execution_count": 42,
   "id": "53314246-9fed-47ee-8389-c8bcc44e1dff",
   "metadata": {},
   "outputs": [
    {
     "name": "stdout",
     "output_type": "stream",
     "text": [
      "[1, 2, 3, 0, 4, 0, 5, 6, 7, 8, 0, 9, 10, 11]\n"
     ]
    }
   ],
   "source": [
    "numbers.remove(0)\n",
    "print(numbers)"
   ]
  },
  {
   "cell_type": "markdown",
   "id": "9224d52b-418c-40fd-9e0f-f6ac8dbd12a8",
   "metadata": {},
   "source": [
    "* 리스트 맨 마지막 요소를 반환하고 제거하기"
   ]
  },
  {
   "cell_type": "code",
   "execution_count": 43,
   "id": "39794313-e95c-4207-87bb-517a7d83c5e7",
   "metadata": {},
   "outputs": [
    {
     "name": "stdout",
     "output_type": "stream",
     "text": [
      "11\n"
     ]
    }
   ],
   "source": [
    "print(numbers.pop())"
   ]
  },
  {
   "cell_type": "code",
   "execution_count": 44,
   "id": "3f63c5e5-a8ad-421c-9c2f-770a85af2a2e",
   "metadata": {},
   "outputs": [
    {
     "name": "stdout",
     "output_type": "stream",
     "text": [
      "[1, 2, 3, 0, 4, 0, 5, 6, 7, 8, 0, 9, 10]\n"
     ]
    }
   ],
   "source": [
    "print(numbers)"
   ]
  },
  {
   "cell_type": "markdown",
   "id": "5c61fc77-e6c6-4323-8e1d-b14abbc20c19",
   "metadata": {},
   "source": [
    "* 리스트에서 인자와 같은 값의 요소 인덱스 조회하기"
   ]
  },
  {
   "cell_type": "code",
   "execution_count": 45,
   "id": "03e27fd7-85b6-4c4b-85cf-12df20ab0ac9",
   "metadata": {},
   "outputs": [
    {
     "name": "stdout",
     "output_type": "stream",
     "text": [
      "3\n"
     ]
    }
   ],
   "source": [
    "print(numbers.index(0))"
   ]
  },
  {
   "cell_type": "markdown",
   "id": "98f2bf55-bed0-4218-b651-92d2a5002a7b",
   "metadata": {},
   "source": [
    "* 리스트에서 인자와 같은 값의 요소의 총 개수 조회하기"
   ]
  },
  {
   "cell_type": "code",
   "execution_count": 46,
   "id": "7f03c04b-7da4-44cf-8610-b064c8ed05f5",
   "metadata": {},
   "outputs": [
    {
     "name": "stdout",
     "output_type": "stream",
     "text": [
      "3\n"
     ]
    }
   ],
   "source": [
    "print(numbers.count(0))"
   ]
  },
  {
   "cell_type": "markdown",
   "id": "3902bb94-543a-4bec-a470-ee1673cd2c38",
   "metadata": {},
   "source": [
    "리스트 요소 정렬하기  \n",
    "오름차순"
   ]
  },
  {
   "cell_type": "code",
   "execution_count": 47,
   "id": "bf02cb98-2bcb-4e69-aa43-7d4cfb378265",
   "metadata": {},
   "outputs": [
    {
     "name": "stdout",
     "output_type": "stream",
     "text": [
      "[0, 0, 0, 1, 2, 3, 4, 5, 6, 7, 8, 9, 10]\n"
     ]
    }
   ],
   "source": [
    "numbers.sort()\n",
    "print(numbers)"
   ]
  },
  {
   "cell_type": "markdown",
   "id": "c2a91273-7d4f-467c-94b7-a79e3ed839f5",
   "metadata": {},
   "source": [
    "내림차순"
   ]
  },
  {
   "cell_type": "code",
   "execution_count": 48,
   "id": "bf08c511-a8f7-40c7-af3d-7c6d87d21e1a",
   "metadata": {},
   "outputs": [
    {
     "name": "stdout",
     "output_type": "stream",
     "text": [
      "[10, 9, 8, 7, 6, 5, 4, 3, 2, 1, 0, 0, 0]\n"
     ]
    }
   ],
   "source": [
    "numbers.reverse()\n",
    "print(numbers)"
   ]
  },
  {
   "cell_type": "code",
   "execution_count": null,
   "id": "3215c3d6-747b-49b2-918e-e688ac93cb8d",
   "metadata": {},
   "outputs": [],
   "source": []
  }
 ],
 "metadata": {
  "kernelspec": {
   "display_name": "Python 3 (ipykernel)",
   "language": "python",
   "name": "python3"
  },
  "language_info": {
   "codemirror_mode": {
    "name": "ipython",
    "version": 3
   },
   "file_extension": ".py",
   "mimetype": "text/x-python",
   "name": "python",
   "nbconvert_exporter": "python",
   "pygments_lexer": "ipython3",
   "version": "3.9.13"
  }
 },
 "nbformat": 4,
 "nbformat_minor": 5
}
