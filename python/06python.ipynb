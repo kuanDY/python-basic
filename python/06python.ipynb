{
 "cells": [
  {
   "cell_type": "markdown",
   "id": "536d4aa4",
   "metadata": {},
   "source": [
    "# 파이썬 기초 문법4"
   ]
  },
  {
   "cell_type": "markdown",
   "id": "68e6a8a6",
   "metadata": {},
   "source": [
    "제어 흐름(if, for), range() 함수, 루프"
   ]
  },
  {
   "cell_type": "code",
   "execution_count": 6,
   "id": "899deb31",
   "metadata": {},
   "outputs": [
    {
     "name": "stdout",
     "output_type": "stream",
     "text": [
      "자연수를 입력해 주세요:71\n",
      "21\n"
     ]
    }
   ],
   "source": [
    "num = int(input(\"자연수를 입력해 주세요:\"))\n",
    "num1 = num - 50\n",
    "if num1 <= 0:\n",
    "    print(\"0\")\n",
    "else: \n",
    "    print(num1)"
   ]
  },
  {
   "cell_type": "code",
   "execution_count": 5,
   "id": "f0bd2fd0",
   "metadata": {},
   "outputs": [
    {
     "name": "stdout",
     "output_type": "stream",
     "text": [
      "자연수를 입력해 주세요:21\n",
      "0\n"
     ]
    }
   ],
   "source": [
    "num = int(input(\"자연수를 입력해 주세요:\"))\n",
    "num1 = num - 50\n",
    "if num1 <= 0:\n",
    "    print(\"0\")\n",
    "else: \n",
    "    print(num1)"
   ]
  },
  {
   "cell_type": "code",
   "execution_count": 8,
   "id": "6c47b1d7",
   "metadata": {},
   "outputs": [
    {
     "name": "stdout",
     "output_type": "stream",
     "text": [
      "자연수 하나 입력해주세요:21\n",
      "0\n"
     ]
    }
   ],
   "source": [
    "int_value = int(input(\"자연수 하나 입력해주세요:\"))\n",
    "\n",
    "result = int_value - 50\n",
    "\n",
    "if result < 0:\n",
    "    result = 0\n",
    "    \n",
    "print(result)"
   ]
  },
  {
   "cell_type": "code",
   "execution_count": 16,
   "id": "7d013a3c",
   "metadata": {},
   "outputs": [
    {
     "name": "stdout",
     "output_type": "stream",
     "text": [
      "자연수 하나 입력해주세요:20\n",
      "짝수입니다.\n"
     ]
    }
   ],
   "source": [
    "int_value = int(input(\"자연수 하나 입력해주세요:\"))\n",
    "\n",
    "if int_value%2 ==0:\n",
    "    print(\"짝수입니다.\")\n",
    "else:\n",
    "    print(\"홀수입니다.\")"
   ]
  },
  {
   "cell_type": "code",
   "execution_count": 17,
   "id": "91f55c16",
   "metadata": {},
   "outputs": [
    {
     "name": "stdout",
     "output_type": "stream",
     "text": [
      "자연수 하나 입력해주세요:21\n",
      "홀수입니다.\n"
     ]
    }
   ],
   "source": [
    "int_value = int(input(\"자연수 하나 입력해주세요:\"))\n",
    "\n",
    "if int_value%2 ==0:\n",
    "    print(\"짝수입니다.\")\n",
    "else:\n",
    "    print(\"홀수입니다.\")"
   ]
  },
  {
   "cell_type": "markdown",
   "id": "0a71752c-3929-4a94-b929-2858b4a1686d",
   "metadata": {},
   "source": [
    "연습 문제  \n",
    "사용자로부터 소프트웨어 설계, 소프트웨어 개발, 데이터베이스 구축, 프로그래밍 언어 \n",
    "활용, 정보시스템 구축관리 점수를 입력 받습니다. 과목 평균 점수가 60점 이상일 때 \n",
    "합격입니다. 평균 점수에 따라 ‘합격’, ‘불합격’을 출력하는 프로그램을 만드세요."
   ]
  },
  {
   "cell_type": "markdown",
   "id": "09fc96cb-8460-4a9a-8787-4493ada73e05",
   "metadata": {},
   "source": [
    "* 점수는 0점부터 100점까지만 유효합니다. 이를 벗어난 점수가 입력되면 “잘못된 점수입니다.”를 출력하고 ‘합격’, ‘불합격’에 대해선 출력않고 프로그램을 종료합니다.  \n",
    "* 과목별 점수는 일단 전부 입력 받습니다"
   ]
  },
  {
   "cell_type": "markdown",
   "id": "3df8675c-5a3b-4434-9868-099fea4d6612",
   "metadata": {},
   "source": [
    "실행 결과:   \n",
    "소프트웨어 설계 점수를 입력하세요. -7  \n",
    "소프트웨어 개발 점수를 입력하세요. 50  \n",
    "데이터베이스 구축 점수를 입력하세요. 40  \n",
    "프로그래밍 언어 활용 점수를 입력하세요. 30  \n",
    "정보시스템 구축관리 점수를 입력하세요. 70  \n",
    "잘못된 점수입니다.  "
   ]
  },
  {
   "cell_type": "markdown",
   "id": "b4d1a64b-1516-4491-b2ae-800bfef7a348",
   "metadata": {
    "tags": []
   },
   "source": [
    "실행 결과:                                                               \n",
    "소프트웨어 설계 점수를 입력하세요. 60                                                                                 \n",
    "소프트웨어 개발 점수를 입력하세요. 60  \n",
    "데이터베이스 구축 점수를 입력하세요. 60  \n",
    "프로그래밍 언어 활용 점수를 입력하세요. 60  \n",
    "정보시스템 구축관리 점수를 입력하세요. 60  \n",
    "합격\n"
   ]
  },
  {
   "cell_type": "code",
   "execution_count": 1,
   "id": "0d56fdf6-affa-4fd1-8469-c0533ad0460c",
   "metadata": {},
   "outputs": [
    {
     "name": "stdin",
     "output_type": "stream",
     "text": [
      "소프트웨어 설계 점수를 입력하세요. 60\n",
      "소프트웨어 개발 점수를 입력하세요. 60\n",
      "데이터베이스 구축 점수를 입력하세요. 60\n",
      "프로그래밍 언어활용 점수를 입력하세요. 60\n",
      "정보시스템 구축관리 점수를 입력하세요. 60\n"
     ]
    },
    {
     "name": "stdout",
     "output_type": "stream",
     "text": [
      "합격\n"
     ]
    }
   ],
   "source": [
    "soft = int(input(\"소프트웨어 설계 점수를 입력하세요.\"))\n",
    "softw = int(input(\"소프트웨어 개발 점수를 입력하세요.\"))\n",
    "data = int(input(\"데이터베이스 구축 점수를 입력하세요.\"))\n",
    "pro = int(input(\"프로그래밍 언어활용 점수를 입력하세요.\"))\n",
    "sys = int(input(\"정보시스템 구축관리 점수를 입력하세요.\"))\n",
    "\n",
    "avg = (soft+softw+data+pro+sys)/5\n",
    "\n",
    "if avg>=60:\n",
    "    print(\"합격\")\n",
    "else:\n",
    "    print(\"불합격\")"
   ]
  },
  {
   "cell_type": "code",
   "execution_count": 2,
   "id": "9ce8c80c-54e1-4a39-bbd2-151723bcb60c",
   "metadata": {},
   "outputs": [
    {
     "name": "stdin",
     "output_type": "stream",
     "text": [
      "소프트웨어 설계 점수를 입력하세요. -7\n",
      "소프트웨어 개발 점수를 입력하세요. 50\n",
      "데이터베이스 구축 점수를 입력하세요. 40\n",
      "프로그래밍 언어활용 점수를 입력하세요. 30\n",
      "정보시스템 구축관리 점수를 입력하세요. 70\n"
     ]
    },
    {
     "name": "stdout",
     "output_type": "stream",
     "text": [
      "불합격\n"
     ]
    }
   ],
   "source": [
    "soft = int(input(\"소프트웨어 설계 점수를 입력하세요.\"))\n",
    "softw = int(input(\"소프트웨어 개발 점수를 입력하세요.\"))\n",
    "data = int(input(\"데이터베이스 구축 점수를 입력하세요.\"))\n",
    "pro = int(input(\"프로그래밍 언어활용 점수를 입력하세요.\"))\n",
    "sys = int(input(\"정보시스템 구축관리 점수를 입력하세요.\"))\n",
    "\n",
    "avg = (soft+softw+data+pro+sys)/5\n",
    "\n",
    "if avg>=60:\n",
    "    print(\"합격\")\n",
    "else:\n",
    "    print(\"불합격\")"
   ]
  },
  {
   "cell_type": "code",
   "execution_count": 4,
   "id": "1e0566d8-d5e9-4c59-9ebb-d7ed7a493b70",
   "metadata": {},
   "outputs": [
    {
     "name": "stdin",
     "output_type": "stream",
     "text": [
      "소프트웨어 설계 점수를 입력하세요. 60\n",
      "소프트웨어 개발 점수를 입력하세요. 60\n",
      "데이터베이스 구축 점수를 입력하세요. 60\n",
      "프로그래밍 언어활용 점수를 입력하세요. 60\n",
      "정보시스템 구축관리 점수를 입력하세요. 60\n"
     ]
    },
    {
     "name": "stdout",
     "output_type": "stream",
     "text": [
      "합격\n"
     ]
    }
   ],
   "source": [
    "sub1 = int(input(\"소프트웨어 설계 점수를 입력하세요.\"))\n",
    "sub2 = int(input(\"소프트웨어 개발 점수를 입력하세요.\"))\n",
    "sub3 = int(input(\"데이터베이스 구축 점수를 입력하세요.\"))\n",
    "sub4 = int(input(\"프로그래밍 언어활용 점수를 입력하세요.\"))\n",
    "sub5 = int(input(\"정보시스템 구축관리 점수를 입력하세요.\"))\n",
    "\n",
    "if (0 <= sub1 <= 100 and 0 <= sub2 <= 100 and 0 <=sub3 <= 100 and 0 <= sub4 <= 100 and 0 <= sub5 <= 100):\n",
    "    avg = (sub1+ sub2+ sub3+ sub4+ sub5)/5\n",
    "    if avg >=60:\n",
    "        print(\"합격\")\n",
    "    else:\n",
    "        print(\"불합격\")\n",
    "else:\n",
    "    print(\"잘못된 점수입니다.\")"
   ]
  },
  {
   "cell_type": "code",
   "execution_count": 5,
   "id": "46119c79-be8c-4803-9b4b-b551f6cdac14",
   "metadata": {},
   "outputs": [
    {
     "name": "stdin",
     "output_type": "stream",
     "text": [
      "소프트웨어 설계 점수를 입력하세요. -7\n",
      "소프트웨어 개발 점수를 입력하세요. 50\n",
      "데이터베이스 구축 점수를 입력하세요. 40\n",
      "프로그래밍 언어활용 점수를 입력하세요. 30\n",
      "정보시스템 구축관리 점수를 입력하세요. 70\n"
     ]
    },
    {
     "name": "stdout",
     "output_type": "stream",
     "text": [
      "잘못된 점수입니다.\n"
     ]
    }
   ],
   "source": [
    "sub1 = int(input(\"소프트웨어 설계 점수를 입력하세요.\"))\n",
    "sub2 = int(input(\"소프트웨어 개발 점수를 입력하세요.\"))\n",
    "sub3 = int(input(\"데이터베이스 구축 점수를 입력하세요.\"))\n",
    "sub4 = int(input(\"프로그래밍 언어활용 점수를 입력하세요.\"))\n",
    "sub5 = int(input(\"정보시스템 구축관리 점수를 입력하세요.\"))\n",
    "\n",
    "if (0 <= sub1 <= 100 and 0 <= sub2 <= 100 and 0 <=sub3 <= 100 and 0 <= sub4 <= 100 and 0 <= sub5 <= 100):\n",
    "    avg = (sub1+ sub2+ sub3+ sub4+ sub5)/5\n",
    "    if avg >=60:\n",
    "        print(\"합격\")\n",
    "    else:\n",
    "        print(\"불합격\")\n",
    "else:\n",
    "    print(\"잘못된 점수입니다.\")"
   ]
  },
  {
   "cell_type": "markdown",
   "id": "31621b07-c2d8-4564-be68-994249040b37",
   "metadata": {
    "tags": []
   },
   "source": [
    "연습 문제  \n",
    "물의 온도에 따라 현재 상태를 출력하는 프로그램을 만들려고 합니다. 사용자로부터 물의 \n",
    "온도가 몇인지 입력을 받고 100 이상이면 ‘기체로 예상됩니다.’를 출력합니다. 100보다 \n",
    "작고 0 이상이면 ‘액체로 예상됩니다.’를 출력합니다. 0 보다 작으면 ‘고체로 예상됩니다.’\n",
    "를 출력합니다.\n",
    "실행 결과:   \n",
    "현재 물의 온도를 입력해주세요 -0.12  \n",
    "고체로 예상됩니다  "
   ]
  },
  {
   "cell_type": "code",
   "execution_count": 7,
   "id": "99cc475d-6d8c-4496-904e-96349ee3a81e",
   "metadata": {},
   "outputs": [
    {
     "name": "stdin",
     "output_type": "stream",
     "text": [
      "현재의 물의 온도를 입력해주세요. 100\n"
     ]
    },
    {
     "name": "stdout",
     "output_type": "stream",
     "text": [
      "기체로 예상됩니다.\n"
     ]
    }
   ],
   "source": [
    "tem = float(input(\"현재의 물의 온도를 입력해주세요.\"))\n",
    "\n",
    "if tem>=100:\n",
    "    print(\"기체로 예상됩니다.\")\n",
    "elif 0< tem <=100:\n",
    "    print(\"액체로 예상됩니다.\")\n",
    "else:\n",
    "    print(\"고체로 예상됩니다.\")\n",
    "          "
   ]
  },
  {
   "cell_type": "code",
   "execution_count": 8,
   "id": "4b4a4b4d-c4ec-4935-9b95-328e69308551",
   "metadata": {},
   "outputs": [
    {
     "name": "stdin",
     "output_type": "stream",
     "text": [
      "현재의 물의 온도를 입력해주세요. -0.12\n"
     ]
    },
    {
     "name": "stdout",
     "output_type": "stream",
     "text": [
      "고체로 예상됩니다.\n"
     ]
    }
   ],
   "source": [
    "tem = float(input(\"현재의 물의 온도를 입력해주세요.\"))\n",
    "\n",
    "if tem>=100:\n",
    "    print(\"기체로 예상됩니다.\")\n",
    "elif 0< tem <=100:\n",
    "    print(\"액체로 예상됩니다.\")\n",
    "else:\n",
    "    print(\"고체로 예상됩니다.\")"
   ]
  },
  {
   "cell_type": "code",
   "execution_count": 9,
   "id": "ac31c44b-6cc0-44fd-a0ff-f3aff06dcb4d",
   "metadata": {},
   "outputs": [
    {
     "name": "stdin",
     "output_type": "stream",
     "text": [
      "자신의 나이를 입력하세요: 5\n"
     ]
    },
    {
     "name": "stdout",
     "output_type": "stream",
     "text": [
      "미취학 아동은 무료입니다.\n"
     ]
    }
   ],
   "source": [
    "age = int(input(\"자신의 나이를 입력하세요:\"))\n",
    "\n",
    "if age>= 19:\n",
    "    print(\"1500원\")\n",
    "elif 19>age>11:\n",
    "    print(\"1100원\")\n",
    "elif 12>age>5:\n",
    "    print(\"800원\")\n",
    "else:\n",
    "    print(\"미취학 아동은 무료입니다.\")"
   ]
  },
  {
   "cell_type": "code",
   "execution_count": null,
   "id": "2b8c92fb-a26e-48ea-aa18-869d082461f7",
   "metadata": {},
   "outputs": [],
   "source": []
  }
 ],
 "metadata": {
  "kernelspec": {
   "display_name": "Python 3 (ipykernel)",
   "language": "python",
   "name": "python3"
  },
  "language_info": {
   "codemirror_mode": {
    "name": "ipython",
    "version": 3
   },
   "file_extension": ".py",
   "mimetype": "text/x-python",
   "name": "python",
   "nbconvert_exporter": "python",
   "pygments_lexer": "ipython3",
   "version": "3.9.13"
  }
 },
 "nbformat": 4,
 "nbformat_minor": 5
}
