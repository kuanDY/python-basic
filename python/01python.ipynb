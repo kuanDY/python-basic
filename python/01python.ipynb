{
 "cells": [
  {
   "cell_type": "code",
   "execution_count": 1,
   "id": "f5ecbe60-8b24-4139-9b21-ae07a86a9770",
   "metadata": {},
   "outputs": [
    {
     "name": "stdout",
     "output_type": "stream",
     "text": [
      "3.9.13 (main, Aug 25 2022, 23:51:50) [MSC v.1916 64 bit (AMD64)]\n"
     ]
    }
   ],
   "source": [
    "import sys\n",
    "print(sys.version)"
   ]
  },
  {
   "cell_type": "code",
   "execution_count": 1,
   "id": "cb92e82d-3492-40d3-9c1f-95d1c8397a84",
   "metadata": {},
   "outputs": [
    {
     "name": "stdout",
     "output_type": "stream",
     "text": [
      " C 드라이브의 볼륨에는 이름이 없습니다.\n",
      " 볼륨 일련 번호: ABAF-5F6B\n",
      "\n",
      " C:\\workspace\\python 디렉터리\n",
      "\n",
      "2023-02-08  오후 04:16    <DIR>          .\n",
      "2023-02-08  오후 04:16    <DIR>          ..\n",
      "2023-02-08  오후 04:16    <DIR>          .ipynb_checkpoints\n",
      "2023-01-27  오후 07:23             1,612 01python.ipynb\n",
      "2023-01-30  오전 10:44             2,431 02python.ipynb\n",
      "2023-02-08  오후 04:13             7,211 03python.ipynb\n",
      "2023-02-08  오후 04:16                72 04python.ipynb\n",
      "2023-02-08  오후 04:16                 0 untitled.txt\n",
      "               5개 파일              11,326 바이트\n",
      "               3개 디렉터리  677,959,901,184 바이트 남음\n"
     ]
    }
   ],
   "source": [
    "!dir"
   ]
  },
  {
   "cell_type": "code",
   "execution_count": null,
   "id": "232f9326-53d6-4fc3-b5b7-cd3695490aef",
   "metadata": {},
   "outputs": [],
   "source": []
  }
 ],
 "metadata": {
  "kernelspec": {
   "display_name": "Python 3 (ipykernel)",
   "language": "python",
   "name": "python3"
  },
  "language_info": {
   "codemirror_mode": {
    "name": "ipython",
    "version": 3
   },
   "file_extension": ".py",
   "mimetype": "text/x-python",
   "name": "python",
   "nbconvert_exporter": "python",
   "pygments_lexer": "ipython3",
   "version": "3.9.13"
  }
 },
 "nbformat": 4,
 "nbformat_minor": 5
}
