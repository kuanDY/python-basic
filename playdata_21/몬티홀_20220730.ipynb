{
 "cells": [
  {
   "cell_type": "markdown",
   "metadata": {},
   "source": [
    "# 몬티 홀 문제 \n",
    "* 당신 앞에 문 세 개 있습니다. 하나의 문 뒤에는 새 차(당첨)가 있고 나머지 두 개의 문 뒤에는 산양(꽝)이 있습니다. 게스트인 당신이 문 하나를 고른 후 답(어느 문이 당첨인지)을 알고 있는 사회자가 꽝인 문 중 하나를 엽니다. 그 후에 당신은 문을 바꿔야 할까요? 아니면 그대로 있어야 할까요?"
   ]
  },
  {
   "cell_type": "markdown",
   "metadata": {},
   "source": [
    "# 해설 "
   ]
  },
  {
   "cell_type": "markdown",
   "metadata": {},
   "source": [
    "* 사건 A : A가 당첨 \n",
    "* 사건 B : B가 당첨 \n",
    "* 사건 C : C가 당첨 \n",
    "\n",
    "## 확률 \n",
    "* 문이 3개 있으므로 A가 당첨일 확률, B가 당첨될 확률, C가 당첨일 확률 모두 $ \\frac{1}{3} $\n",
    "* P(A) = P(B) = P(C) = $ \\frac{1}{3} $\n",
    "### 사회자가 문을 연 이후\n",
    "* 내가 문 A를 고른 후에 사회자가 연 문에 관한 사건 Y와 사건 Z를 다음과 같이 정의 \n",
    "* 사건 Y : 사회자가 B를 연다. \n",
    "* 사건 Z : 사회자가 C를 연다. \n",
    "-----------------------\n",
    "* A를 골랐기 때문에 사회자는 B와 C 중 하나를 연다.(그래야 게임이 되니까...)"
   ]
  },
  {
   "cell_type": "markdown",
   "metadata": {},
   "source": [
    "* P(Y) = P(Z) = $ \\frac{1}{2}$"
   ]
  },
  {
   "cell_type": "markdown",
   "metadata": {},
   "source": [
    "* 예를 들어 사회자가 B를 열었다(사건 Y)는 전제로 C가 당첨(사건 C)이다\n",
    "* 이를 조건부 확률로 P(C | Y)로 나타냄\n"
   ]
  },
  {
   "cell_type": "markdown",
   "metadata": {},
   "source": [
    "* $ P(C | Y) =  \\frac{P(C \\cap Y)}{P(Y)} $ "
   ]
  },
  {
   "cell_type": "markdown",
   "metadata": {},
   "source": [
    "* $ P(Y | C) =  \\frac{P(Y \\cap C)}{P(C)} $ "
   ]
  },
  {
   "cell_type": "markdown",
   "metadata": {},
   "source": [
    "* $ P(C \\cap Y ) $ = $ P(Y) P(C | Y) $"
   ]
  },
  {
   "cell_type": "markdown",
   "metadata": {},
   "source": [
    "* $ P(C | Y) =  \\frac{P(C \\cap Y)}{P(Y)} = \\frac{P(Y \\cap C)}{P(Y)} = \\frac{P(C)P(Y | C)}{P(Y)} $"
   ]
  },
  {
   "cell_type": "markdown",
   "metadata": {},
   "source": [
    "* $ P(Y | C) $은 C문에 상품이 있으니 진행자는 B의 문을 열것이다. 그렇기 때문에 값은 1"
   ]
  },
  {
   "cell_type": "code",
   "execution_count": null,
   "metadata": {},
   "outputs": [],
   "source": []
  },
  {
   "cell_type": "code",
   "execution_count": null,
   "metadata": {},
   "outputs": [],
   "source": []
  },
  {
   "cell_type": "code",
   "execution_count": null,
   "metadata": {},
   "outputs": [],
   "source": []
  },
  {
   "cell_type": "code",
   "execution_count": null,
   "metadata": {},
   "outputs": [],
   "source": []
  },
  {
   "cell_type": "code",
   "execution_count": null,
   "metadata": {},
   "outputs": [],
   "source": []
  },
  {
   "cell_type": "code",
   "execution_count": null,
   "metadata": {},
   "outputs": [],
   "source": []
  },
  {
   "cell_type": "code",
   "execution_count": null,
   "metadata": {},
   "outputs": [],
   "source": []
  },
  {
   "cell_type": "code",
   "execution_count": null,
   "metadata": {},
   "outputs": [],
   "source": []
  },
  {
   "cell_type": "code",
   "execution_count": null,
   "metadata": {},
   "outputs": [],
   "source": []
  },
  {
   "cell_type": "code",
   "execution_count": 1,
   "metadata": {},
   "outputs": [],
   "source": [
    "import random"
   ]
  },
  {
   "cell_type": "code",
   "execution_count": 2,
   "metadata": {},
   "outputs": [],
   "source": [
    "doors = {\"A\", \"B\", \"C\"}"
   ]
  },
  {
   "cell_type": "code",
   "execution_count": 3,
   "metadata": {},
   "outputs": [],
   "source": [
    "no_sw_win = list()\n",
    "sw_win = list()"
   ]
  },
  {
   "cell_type": "code",
   "execution_count": 30,
   "metadata": {},
   "outputs": [
    {
     "name": "stdout",
     "output_type": "stream",
     "text": [
      "['A']\n"
     ]
    },
    {
     "name": "stderr",
     "output_type": "stream",
     "text": [
      "C:\\Users\\gen3\\AppData\\Local\\Temp\\ipykernel_9728\\2696224044.py:1: DeprecationWarning: Sampling from a set deprecated\n",
      "since Python 3.9 and will be removed in a subsequent version.\n",
      "  prize = random.sample(doors, 1)\n"
     ]
    }
   ],
   "source": [
    "prize = random.sample(doors, 1)\n",
    "print(prize)"
   ]
  },
  {
   "cell_type": "code",
   "execution_count": 9,
   "metadata": {},
   "outputs": [
    {
     "name": "stdout",
     "output_type": "stream",
     "text": [
      "['B']\n"
     ]
    },
    {
     "name": "stderr",
     "output_type": "stream",
     "text": [
      "C:\\Users\\gen3\\AppData\\Local\\Temp\\ipykernel_9728\\513816410.py:1: DeprecationWarning: Sampling from a set deprecated\n",
      "since Python 3.9 and will be removed in a subsequent version.\n",
      "  pick = random.sample(doors, 1)\n"
     ]
    }
   ],
   "source": [
    "pick = random.sample(doors, 1)\n",
    "print(pick)"
   ]
  },
  {
   "cell_type": "code",
   "execution_count": 14,
   "metadata": {},
   "outputs": [],
   "source": [
    "tmp_set = set()"
   ]
  },
  {
   "cell_type": "code",
   "execution_count": 15,
   "metadata": {},
   "outputs": [],
   "source": [
    "tmp_set.add(prize[0])"
   ]
  },
  {
   "cell_type": "code",
   "execution_count": 16,
   "metadata": {},
   "outputs": [],
   "source": [
    "tmp_set.add(pick[0])"
   ]
  },
  {
   "cell_type": "code",
   "execution_count": 17,
   "metadata": {},
   "outputs": [
    {
     "data": {
      "text/plain": [
       "{'B', 'C'}"
      ]
     },
     "execution_count": 17,
     "metadata": {},
     "output_type": "execute_result"
    }
   ],
   "source": [
    "tmp_set"
   ]
  },
  {
   "cell_type": "code",
   "execution_count": 18,
   "metadata": {},
   "outputs": [
    {
     "name": "stdout",
     "output_type": "stream",
     "text": [
      "['A']\n"
     ]
    },
    {
     "name": "stderr",
     "output_type": "stream",
     "text": [
      "C:\\Users\\gen3\\AppData\\Local\\Temp\\ipykernel_9728\\3985611017.py:1: DeprecationWarning: Sampling from a set deprecated\n",
      "since Python 3.9 and will be removed in a subsequent version.\n",
      "  open_door = random.sample(doors - tmp_set, 1)\n"
     ]
    }
   ],
   "source": [
    "open_door = random.sample(doors - tmp_set, 1)\n",
    "print(open_door)"
   ]
  },
  {
   "cell_type": "code",
   "execution_count": 21,
   "metadata": {},
   "outputs": [],
   "source": [
    "sw = doors - set(open_door) - set(pick)"
   ]
  },
  {
   "cell_type": "code",
   "execution_count": 22,
   "metadata": {},
   "outputs": [
    {
     "data": {
      "text/plain": [
       "{'C'}"
      ]
     },
     "execution_count": 22,
     "metadata": {},
     "output_type": "execute_result"
    }
   ],
   "source": [
    "sw"
   ]
  },
  {
   "cell_type": "code",
   "execution_count": 55,
   "metadata": {},
   "outputs": [],
   "source": [
    "if(pick == prize):\n",
    "    no_sw_win.append(\"Win\")"
   ]
  },
  {
   "cell_type": "code",
   "execution_count": 66,
   "metadata": {},
   "outputs": [],
   "source": [
    "if(list(sw) == prize):\n",
    "    sw_win.append(\"Win\")"
   ]
  },
  {
   "cell_type": "markdown",
   "metadata": {},
   "source": [
    "# 몬티홀 문제 - 시물레이션"
   ]
  },
  {
   "cell_type": "code",
   "execution_count": 26,
   "metadata": {},
   "outputs": [
    {
     "name": "stderr",
     "output_type": "stream",
     "text": [
      "C:\\Users\\gen3\\AppData\\Local\\Temp\\ipykernel_9728\\3744469290.py:6: DeprecationWarning: Sampling from a set deprecated\n",
      "since Python 3.9 and will be removed in a subsequent version.\n",
      "  prize = random.sample(doors, 1)\n",
      "C:\\Users\\gen3\\AppData\\Local\\Temp\\ipykernel_9728\\3744469290.py:8: DeprecationWarning: Sampling from a set deprecated\n",
      "since Python 3.9 and will be removed in a subsequent version.\n",
      "  pick = random.sample(doors, 1)\n",
      "C:\\Users\\gen3\\AppData\\Local\\Temp\\ipykernel_9728\\3744469290.py:13: DeprecationWarning: Sampling from a set deprecated\n",
      "since Python 3.9 and will be removed in a subsequent version.\n",
      "  open_door = random.sample(doors - tmp_set, 1)\n"
     ]
    }
   ],
   "source": [
    "no_sw_win = list()\n",
    "sw_win = list()\n",
    "\n",
    "for x in range(1000000):\n",
    "    # 상품 있는 문 \n",
    "    prize = random.sample(doors, 1)\n",
    "    # 내가 선택한 문\n",
    "    pick = random.sample(doors, 1)\n",
    "    tmp_set = set()\n",
    "    tmp_set.add(prize[0])\n",
    "    tmp_set.add(pick[0])\n",
    "    # 진행자가 오픈한 문 \n",
    "    open_door = random.sample(doors - tmp_set, 1)\n",
    "    sw = doors - set(open_door) - set(pick)\n",
    "    # 그대로 Go \n",
    "    if(pick == prize):\n",
    "        no_sw_win.append(\"Win\")\n",
    "        \n",
    "    # 바꾼다. \n",
    "    if(list(sw) == prize):\n",
    "        sw_win.append(\"Win\")"
   ]
  },
  {
   "cell_type": "code",
   "execution_count": 27,
   "metadata": {},
   "outputs": [
    {
     "data": {
      "text/plain": [
       "334148"
      ]
     },
     "execution_count": 27,
     "metadata": {},
     "output_type": "execute_result"
    }
   ],
   "source": [
    "len(no_sw_win)"
   ]
  },
  {
   "cell_type": "code",
   "execution_count": 28,
   "metadata": {},
   "outputs": [
    {
     "data": {
      "text/plain": [
       "665852"
      ]
     },
     "execution_count": 28,
     "metadata": {},
     "output_type": "execute_result"
    }
   ],
   "source": [
    "len(sw_win)"
   ]
  },
  {
   "cell_type": "code",
   "execution_count": null,
   "metadata": {},
   "outputs": [],
   "source": []
  }
 ],
 "metadata": {
  "kernelspec": {
   "display_name": "Python 3 (ipykernel)",
   "language": "python",
   "name": "python3"
  },
  "language_info": {
   "codemirror_mode": {
    "name": "ipython",
    "version": 3
   },
   "file_extension": ".py",
   "mimetype": "text/x-python",
   "name": "python",
   "nbconvert_exporter": "python",
   "pygments_lexer": "ipython3",
   "version": "3.9.13"
  }
 },
 "nbformat": 4,
 "nbformat_minor": 4
}
