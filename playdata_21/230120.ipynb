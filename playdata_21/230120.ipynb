{
 "cells": [
  {
   "cell_type": "markdown",
   "id": "ad5b88b8-1634-4cc7-83b4-9e9695310261",
   "metadata": {
    "tags": []
   },
   "source": [
    "# playdata_21 (1)"
   ]
  },
  {
   "cell_type": "markdown",
   "id": "d7097b3d-4e30-4678-8576-0fabd63a0067",
   "metadata": {},
   "source": [
    "# Jupyter \n",
    "* 분석용\n",
    "* 결과를 바로 확인할 수 있음 (인터액티브)\n",
    "* Julia, Python, R(통계학자)\n",
    "* Cell -> m버튼 -> markdown -> 문서 작성 \n",
    "* Cell -> y버튼 -> Python Cell 변환 \n",
    "* Cell 실행 방법 \n",
    "    * Shift + Enter -> 현재 Cell 실행하고 아래로 이동\n",
    "    * Ctrl + Enter  -> 현재 Cell만 실행 \n",
    "    * Alt + Enter   -> 현재 Cell 실행하고 아래 새로운 Cell 생성 "
   ]
  },
  {
   "cell_type": "markdown",
   "id": "62d50cf1-7561-4804-a71f-eaa6b6e287bc",
   "metadata": {},
   "source": [
    "# 변수"
   ]
  },
  {
   "cell_type": "code",
   "execution_count": 48,
   "id": "43513708-d4a2-466a-96f5-528e5f282470",
   "metadata": {
    "tags": []
   },
   "outputs": [
    {
     "data": {
      "text/plain": [
       "30"
      ]
     },
     "execution_count": 48,
     "metadata": {},
     "output_type": "execute_result"
    }
   ],
   "source": [
    "a = 10 \n",
    "b = 20\n",
    "a+b"
   ]
  },
  {
   "cell_type": "code",
   "execution_count": null,
   "id": "c9a58e5f-3b7e-492d-b129-a05af8f9637e",
   "metadata": {},
   "outputs": [],
   "source": []
  },
  {
   "cell_type": "markdown",
   "id": "b508b439-24a1-4eff-9e07-593e42b77547",
   "metadata": {
    "tags": []
   },
   "source": [
    "* String을 여러줄에 걸쳐 쓸 때는 \"\"\" 따옴표 3개로 둘러싼다."
   ]
  },
  {
   "cell_type": "code",
   "execution_count": null,
   "id": "450bfd7b-9a52-436f-a6db-ceacad36d6b1",
   "metadata": {},
   "outputs": [],
   "source": []
  },
  {
   "cell_type": "markdown",
   "id": "4ba7edad-59d5-47dc-98aa-ad42152c9183",
   "metadata": {},
   "source": [
    "# 회문(回文) 또는 팰린드롬(palindrome)"
   ]
  },
  {
   "cell_type": "markdown",
   "id": "df667b0a-68ed-451f-a2b8-545d881539fe",
   "metadata": {
    "tags": []
   },
   "source": [
    "text  = input(\"값을 입력\")\n",
    "if text == text[::-1]:\n",
    "    print(\"앞에서 읽어도 뒤에서 읽어도 같음\")\n",
    "    print(\"실행될까요?\")\n",
    "else:\n",
    "    print(\"팰린드롬이 아니여\")"
   ]
  },
  {
   "cell_type": "code",
   "execution_count": 1,
   "id": "c4305d91-ee88-4845-9791-872746925cba",
   "metadata": {},
   "outputs": [
    {
     "name": "stdin",
     "output_type": "stream",
     "text": [
      "값을 입력 우영우\n"
     ]
    },
    {
     "name": "stdout",
     "output_type": "stream",
     "text": [
      "앞에서 읽어도 뒤에서 읽어도 같음\n",
      "실행될까요?\n"
     ]
    }
   ],
   "source": [
    "text  = input(\"값을 입력\")\n",
    "if text == text[::-1]:\n",
    "    print(\"앞에서 읽어도 뒤에서 읽어도 같음\")\n",
    "    print(\"실행될까요?\")\n",
    "else:\n",
    "    print(\"팰린드롬이 아니여\")"
   ]
  },
  {
   "cell_type": "markdown",
   "id": "b81adeff-0819-4909-8545-19761373ddc3",
   "metadata": {
    "tags": []
   },
   "source": [
    "# 정규식, f-string, format\n",
    "## x = 7\n",
    "##    print(\"%d\"% x) # 정규식  \n",
    "##    print(f\"{x}\") # f-string  \n",
    "##    print(\"{}\".format(x)) # format"
   ]
  },
  {
   "cell_type": "code",
   "execution_count": 61,
   "id": "907a1f64-3b0f-4f09-abbb-3d6418daeb1c",
   "metadata": {},
   "outputs": [
    {
     "name": "stdout",
     "output_type": "stream",
     "text": [
      "0\n",
      "1\n",
      "2\n",
      "3\n",
      "4\n"
     ]
    }
   ],
   "source": [
    "for x in range(5):\n",
    "    print(\"%d\" % x)"
   ]
  },
  {
   "cell_type": "code",
   "execution_count": 63,
   "id": "b4c06f20-15bf-49cc-846b-a90da7ebce19",
   "metadata": {},
   "outputs": [
    {
     "name": "stdout",
     "output_type": "stream",
     "text": [
      "0\n",
      "1\n",
      "2\n",
      "3\n",
      "4\n"
     ]
    }
   ],
   "source": [
    "for x in range(5):\n",
    "    print(f\"{x}\")"
   ]
  },
  {
   "cell_type": "code",
   "execution_count": 64,
   "id": "3c381065-81ed-4c94-8916-d6ed56baf131",
   "metadata": {},
   "outputs": [
    {
     "name": "stdout",
     "output_type": "stream",
     "text": [
      "0\n",
      "1\n",
      "2\n",
      "3\n",
      "4\n"
     ]
    }
   ],
   "source": [
    "for x in range(5):\n",
    "    print(\"{}\".format(x))"
   ]
  },
  {
   "cell_type": "markdown",
   "id": "e026e27a-526d-4ca7-885b-9947c0bad403",
   "metadata": {
    "tags": []
   },
   "source": [
    "# Comprehension"
   ]
  },
  {
   "cell_type": "markdown",
   "id": "0c35389c-1702-485c-b014-1c85d239edbc",
   "metadata": {},
   "source": [
    "* iterable한 오브젝트를 생성하기 위한 방법 중 하나"
   ]
  },
  {
   "cell_type": "markdown",
   "id": "18993f80-3084-45b7-86b2-1982edbcdd58",
   "metadata": {},
   "source": [
    "List Comprehension(LC)"
   ]
  },
  {
   "cell_type": "markdown",
   "id": "4e23f3a3-5865-4910-9a52-3bdb99dd9d7c",
   "metadata": {
    "tags": []
   },
   "source": [
    "20까지의 짝수를 출력하기 위해 다음과 같은 LC를 사용할 수 있다"
   ]
  },
  {
   "cell_type": "code",
   "execution_count": 2,
   "id": "f1a912ec-f027-45aa-93ff-01ef5bdc6254",
   "metadata": {
    "tags": []
   },
   "outputs": [],
   "source": [
    "evens = [x * 2 for x in range(11)]\n",
    "# [0, 2, 4, 6, 8, 10, 12, 14, 16, 18, 20]"
   ]
  },
  {
   "cell_type": "code",
   "execution_count": 5,
   "id": "7d19b0d7-432f-4634-bbed-13bdb01dafd6",
   "metadata": {},
   "outputs": [
    {
     "data": {
      "text/plain": [
       "[0, 2, 4, 6, 8, 10, 12, 14, 16, 18, 20]"
      ]
     },
     "execution_count": 5,
     "metadata": {},
     "output_type": "execute_result"
    }
   ],
   "source": [
    "evens"
   ]
  },
  {
   "cell_type": "markdown",
   "id": "ed499fbb-0837-4663-b578-fc757523525c",
   "metadata": {},
   "source": [
    "리스트의 모든 원소값을 정규화 시킨 후 상수값을 더하는 LC"
   ]
  },
  {
   "cell_type": "code",
   "execution_count": 6,
   "id": "d1cf3c5b-b762-4593-8059-70ac85e98897",
   "metadata": {},
   "outputs": [],
   "source": [
    "vals = [32, 12, 96, 42, 32, 93, 31, 23, 65, 43, 76]\n",
    "amount = sum(vals)\n",
    "norm_and_move = [(x / amount) + 1 for x in vals]\n",
    "# [1.0587155963302752, 1.0220183486238532, ...]"
   ]
  },
  {
   "cell_type": "code",
   "execution_count": 7,
   "id": "5a822a90-fe56-4f03-ada8-20ffb3d6f8e4",
   "metadata": {},
   "outputs": [
    {
     "data": {
      "text/plain": [
       "[32, 12, 96, 42, 32, 93, 31, 23, 65, 43, 76]"
      ]
     },
     "execution_count": 7,
     "metadata": {},
     "output_type": "execute_result"
    }
   ],
   "source": [
    "vals"
   ]
  },
  {
   "cell_type": "code",
   "execution_count": 8,
   "id": "819f0820-72b1-4b89-833c-711e72fc955c",
   "metadata": {},
   "outputs": [
    {
     "data": {
      "text/plain": [
       "[1.0587155963302752,\n",
       " 1.0220183486238532,\n",
       " 1.1761467889908257,\n",
       " 1.0770642201834861,\n",
       " 1.0587155963302752,\n",
       " 1.1706422018348623,\n",
       " 1.0568807339449542,\n",
       " 1.0422018348623854,\n",
       " 1.1192660550458715,\n",
       " 1.0788990825688074,\n",
       " 1.1394495412844037]"
      ]
     },
     "execution_count": 8,
     "metadata": {},
     "output_type": "execute_result"
    }
   ],
   "source": [
    "norm_and_move"
   ]
  },
  {
   "cell_type": "markdown",
   "id": "4a147ccc-2202-4b6d-997d-a16f0b9549bf",
   "metadata": {},
   "source": [
    "100 이하의 제곱수가 아닌 수를 찾는 LC"
   ]
  },
  {
   "cell_type": "code",
   "execution_count": 19,
   "id": "408b9f77-dbb1-4c9d-b7df-63df17d54ee6",
   "metadata": {},
   "outputs": [],
   "source": [
    "from math import sqrt\n",
    "non_squars = [x for x in range(101) if sqrt(x)**2 != x]\n",
    "# [2, 3, 5, 6, 7, 8, 10, 12, ...]"
   ]
  },
  {
   "cell_type": "code",
   "execution_count": 18,
   "id": "b92cd6b1-4839-498b-b092-ce3ee4a57e36",
   "metadata": {},
   "outputs": [
    {
     "data": {
      "text/plain": [
       "[2,\n",
       " 3,\n",
       " 5,\n",
       " 6,\n",
       " 7,\n",
       " 8,\n",
       " 10,\n",
       " 12,\n",
       " 13,\n",
       " 15,\n",
       " 18,\n",
       " 19,\n",
       " 20,\n",
       " 23,\n",
       " 24,\n",
       " 26,\n",
       " 28,\n",
       " 29,\n",
       " 31,\n",
       " 32,\n",
       " 37,\n",
       " 38,\n",
       " 40,\n",
       " 43,\n",
       " 45,\n",
       " 48,\n",
       " 50,\n",
       " 51,\n",
       " 52,\n",
       " 58,\n",
       " 59,\n",
       " 60,\n",
       " 61,\n",
       " 63,\n",
       " 65,\n",
       " 66,\n",
       " 72,\n",
       " 73,\n",
       " 75,\n",
       " 76,\n",
       " 77,\n",
       " 78,\n",
       " 80,\n",
       " 82,\n",
       " 87,\n",
       " 89,\n",
       " 92,\n",
       " 94,\n",
       " 95,\n",
       " 96,\n",
       " 97]"
      ]
     },
     "execution_count": 18,
     "metadata": {},
     "output_type": "execute_result"
    }
   ],
   "source": [
    "non_squars"
   ]
  },
  {
   "cell_type": "markdown",
   "id": "c9fb11be-2105-484b-8221-20188f49dbb5",
   "metadata": {
    "tags": []
   },
   "source": [
    "두 리스트의 원소들의 모든 조합을 찾는 LC"
   ]
  },
  {
   "cell_type": "code",
   "execution_count": 20,
   "id": "6050fa89-f8d7-4b0e-a953-a4e020efecd6",
   "metadata": {},
   "outputs": [],
   "source": [
    "epithets = ['sweet', 'annoying', 'cool', 'grey-eyed']\n",
    "names = ['john', 'alice', 'james']\n",
    "epithet_names = [(e, n) for e in epithets for n in names]\n",
    "# [('sweet', 'john'), ('sweet', 'alice'), ...]"
   ]
  },
  {
   "cell_type": "code",
   "execution_count": 21,
   "id": "076e52c5-931e-4204-9f12-29c88c149560",
   "metadata": {},
   "outputs": [
    {
     "data": {
      "text/plain": [
       "(['sweet', 'annoying', 'cool', 'grey-eyed'], ['john', 'alice', 'james'])"
      ]
     },
     "execution_count": 21,
     "metadata": {},
     "output_type": "execute_result"
    }
   ],
   "source": [
    "epithets,names"
   ]
  },
  {
   "cell_type": "code",
   "execution_count": 23,
   "id": "e7b9728b-9671-417c-a43f-7db3626c52cf",
   "metadata": {},
   "outputs": [
    {
     "data": {
      "text/plain": [
       "[('sweet', 'john'),\n",
       " ('sweet', 'alice'),\n",
       " ('sweet', 'james'),\n",
       " ('annoying', 'john'),\n",
       " ('annoying', 'alice'),\n",
       " ('annoying', 'james'),\n",
       " ('cool', 'john'),\n",
       " ('cool', 'alice'),\n",
       " ('cool', 'james'),\n",
       " ('grey-eyed', 'john'),\n",
       " ('grey-eyed', 'alice'),\n",
       " ('grey-eyed', 'james')]"
      ]
     },
     "execution_count": 23,
     "metadata": {},
     "output_type": "execute_result"
    }
   ],
   "source": [
    "epithet_names"
   ]
  },
  {
   "cell_type": "markdown",
   "id": "ffea3bcd-f1b5-487e-abc4-f63957a0fd4e",
   "metadata": {},
   "source": [
    "a^2 + b^2 = c^2 (a < b < c)를 만족하는 피타고라스 방정식의 해를 찾는 LC"
   ]
  },
  {
   "cell_type": "code",
   "execution_count": 24,
   "id": "99b3a07b-87b6-464f-97d8-4d24a74f9347",
   "metadata": {},
   "outputs": [],
   "source": [
    "solutions = [(x, y, z) for x in range(1, 30) for y in range(x, 30) for z in range(y, 30) if x**2 + y**2 == z**2]\n",
    "# [(3, 4, 5), (5, 12, 13), (6, 8, 10), ...]"
   ]
  },
  {
   "cell_type": "code",
   "execution_count": 26,
   "id": "9c7ce301-4a51-4fd4-87c9-b149e80f92ba",
   "metadata": {},
   "outputs": [
    {
     "data": {
      "text/plain": [
       "[(3, 4, 5),\n",
       " (5, 12, 13),\n",
       " (6, 8, 10),\n",
       " (7, 24, 25),\n",
       " (8, 15, 17),\n",
       " (9, 12, 15),\n",
       " (10, 24, 26),\n",
       " (12, 16, 20),\n",
       " (15, 20, 25),\n",
       " (20, 21, 29)]"
      ]
     },
     "execution_count": 26,
     "metadata": {},
     "output_type": "execute_result"
    }
   ],
   "source": [
    "solutions"
   ]
  },
  {
   "cell_type": "markdown",
   "id": "1ce59207-5123-4a1e-bf7e-cc1f851496f0",
   "metadata": {
    "tags": []
   },
   "source": [
    "단어에서 모음을 제거하는 LC"
   ]
  },
  {
   "cell_type": "code",
   "execution_count": null,
   "id": "03cad216-138b-437a-adab-485a40d90909",
   "metadata": {},
   "outputs": [],
   "source": [
    "word = 'mathematics'\n",
    "without_vowels = ''.join([c for c in word if c not in ['a', 'e', 'i', 'o', 'u']])\n",
    "# 'mthmtcs'"
   ]
  },
  {
   "cell_type": "markdown",
   "id": "e7138c87-b15b-4ce1-864b-03cdb8bb56f9",
   "metadata": {},
   "source": [
    "행렬을 일차원화 시키는 LC"
   ]
  },
  {
   "cell_type": "code",
   "execution_count": 34,
   "id": "6e07666e-ffa1-4798-9d20-8ed1cf01782d",
   "metadata": {},
   "outputs": [],
   "source": [
    "matrix = [\n",
    "  [1, 2, 3, 4],\n",
    "  [5, 6, 7, 8],\n",
    "  [9, 10, 11, 12],\n",
    "]\n",
    "flatten = [e for r in matrix for e in r]\n",
    "# [1, 2, 3, 4, 5, 6, 7, 8, 9, 10, 11, 12]\n"
   ]
  },
  {
   "cell_type": "code",
   "execution_count": 36,
   "id": "74578fba-c67c-492e-966b-20c243a07619",
   "metadata": {},
   "outputs": [
    {
     "data": {
      "text/plain": [
       "[[1, 2, 3, 4], [5, 6, 7, 8], [9, 10, 11, 12]]"
      ]
     },
     "execution_count": 36,
     "metadata": {},
     "output_type": "execute_result"
    }
   ],
   "source": [
    "matrix"
   ]
  },
  {
   "cell_type": "markdown",
   "id": "001d8fce-a519-4165-8cf6-37b9cd283bd9",
   "metadata": {},
   "source": [
    "# Set Comprehension(SC)"
   ]
  },
  {
   "cell_type": "markdown",
   "id": "ea8b11a7-d319-46b3-91c3-8e872ed2a587",
   "metadata": {},
   "source": [
    "* Set Comprehension은 LC와 정확히 동일하며 단지 list가 아닌 set을 생성한다는 것만 다르다."
   ]
  },
  {
   "cell_type": "markdown",
   "id": "54e8aba2-2a0d-4fe8-b3bf-956da2dd1af1",
   "metadata": {},
   "source": [
    "# Dict Comprehension(DC)"
   ]
  },
  {
   "cell_type": "markdown",
   "id": "fd7ee064-7562-4da3-985e-6716ba388fd4",
   "metadata": {
    "tags": []
   },
   "source": [
    "* 이하동문."
   ]
  },
  {
   "cell_type": "markdown",
   "id": "824aa0ba-835e-4d80-9102-021e99db88bd",
   "metadata": {},
   "source": [
    "# Generator Expression(GE)"
   ]
  },
  {
   "cell_type": "markdown",
   "id": "2ce12030-e2e0-42f3-9b24-fd72b893b035",
   "metadata": {
    "tags": []
   },
   "source": [
    "* Generator의 경우 comprehension과 형태는 동일하지만 특별히 expression이라고 부른다.  \n",
    "* 특별한 형태의 comprehension이다. 한 번에 모든 원소를 반환하지 않고 한 번에 하나의 원소만 반환하는 generator를 생성한다."
   ]
  },
  {
   "cell_type": "code",
   "execution_count": 49,
   "id": "df114c7c-cd6c-4f7f-8a81-c013b5647b72",
   "metadata": {
    "tags": []
   },
   "outputs": [
    {
     "name": "stdout",
     "output_type": "stream",
     "text": [
      "<generator object <genexpr> at 0x000001263DAAA350>\n",
      "0\n",
      "1\n",
      "4\n",
      "9\n"
     ]
    },
    {
     "data": {
      "text/plain": [
       "'\\nTraceback (most recent call last):\\n  File \"<stdin>\", line 1, in <module>\\nStopIteration\\n'"
      ]
     },
     "execution_count": 49,
     "metadata": {},
     "output_type": "execute_result"
    }
   ],
   "source": [
    "# 다음 Generator는 제곱수를 만들어낸다\n",
    "gen = (x**2 for x in range(10))\n",
    "print(gen)\n",
    "# <generator object <genexpr> at 0x105bde5c8>\n",
    "print(next(gen)) # call 1\n",
    "# 0\n",
    "print(next(gen)) # call 2\n",
    "# 1\n",
    "# 'next' 함수 호출을 10번 반복\n",
    "print(next(gen)) # call 10\n",
    "# 81\n",
    "print(next(gen)) # call 11\n",
    "\"\"\"\n",
    "Traceback (most recent call last):\n",
    "  File \"<stdin>\", line 1, in <module>\n",
    "StopIteration\n",
    "\"\"\""
   ]
  },
  {
   "cell_type": "code",
   "execution_count": 50,
   "id": "14741a8c-b179-4ba8-a0dd-a9051aa54d38",
   "metadata": {},
   "outputs": [],
   "source": [
    "# Yes, it is an just generator. You can sum the yielding values.\n",
    "# GE로 생성한 Generator도 yield를 가진 함수로 생성한 것과 동일한 Generator이기 때문에, 똑같이 sum을 사용할 수 있다. (iterable 객체)\n",
    "gen = (x**2 for x in range(10))\n",
    "sum_of_squares = sum(gen)\n",
    "# 285"
   ]
  },
  {
   "cell_type": "markdown",
   "id": "e0b55c53-50aa-4ec4-8b5d-8802b7d21936",
   "metadata": {},
   "source": [
    "출처 : https://mingrammer.com/introduce-comprehension-of-python/"
   ]
  },
  {
   "cell_type": "markdown",
   "id": "42a08208-b9a6-4ada-a5a8-ceb5f9f7a383",
   "metadata": {},
   "source": [
    "# Iterator와 Generator"
   ]
  },
  {
   "cell_type": "markdown",
   "id": "bb9e4bfa-fe49-4b51-9e54-5ad0952ef14b",
   "metadata": {},
   "source": [
    "출처 : https://mingrammer.com/translation-iterators-vs-generators/"
   ]
  },
  {
   "cell_type": "code",
   "execution_count": 51,
   "id": "9b1ddf5e-c980-49a5-8a22-f16653c1a81c",
   "metadata": {},
   "outputs": [
    {
     "name": "stdout",
     "output_type": "stream",
     "text": [
      "2 x 1 = 2\n",
      "2 x 2 = 4\n",
      "2 x 3 = 6\n",
      "2 x 4 = 8\n",
      "2 x 5 = 10\n",
      "2 x 6 = 12\n",
      "2 x 7 = 14\n",
      "2 x 8 = 16\n",
      "2 x 9 = 18\n",
      "3 x 1 = 3\n",
      "3 x 2 = 6\n",
      "3 x 3 = 9\n",
      "3 x 4 = 12\n",
      "3 x 5 = 15\n",
      "3 x 6 = 18\n",
      "3 x 7 = 21\n",
      "3 x 8 = 24\n",
      "3 x 9 = 27\n",
      "4 x 1 = 4\n",
      "4 x 2 = 8\n",
      "4 x 3 = 12\n",
      "4 x 4 = 16\n",
      "4 x 5 = 20\n",
      "4 x 6 = 24\n",
      "4 x 7 = 28\n",
      "4 x 8 = 32\n",
      "4 x 9 = 36\n",
      "6 x 1 = 6\n",
      "6 x 2 = 12\n",
      "6 x 3 = 18\n",
      "6 x 4 = 24\n",
      "6 x 5 = 30\n",
      "6 x 6 = 36\n",
      "6 x 7 = 42\n",
      "6 x 8 = 48\n",
      "6 x 9 = 54\n",
      "8 x 1 = 8\n",
      "8 x 2 = 16\n",
      "8 x 3 = 24\n",
      "8 x 4 = 32\n",
      "8 x 5 = 40\n",
      "8 x 6 = 48\n",
      "8 x 7 = 56\n",
      "8 x 8 = 64\n",
      "8 x 9 = 72\n",
      "9 x 1 = 9\n",
      "9 x 2 = 18\n",
      "9 x 3 = 27\n",
      "9 x 4 = 36\n",
      "9 x 5 = 45\n",
      "9 x 6 = 54\n",
      "9 x 7 = 63\n",
      "9 x 8 = 72\n",
      "9 x 9 = 81\n"
     ]
    }
   ],
   "source": [
    "for x in range(2, 10):\n",
    "    if x % 2 == 0 or x % 3 == 0:\n",
    "        for y in range(1, 10):\n",
    "            print(\"{} x {} = {}\".format(x, y, x*y))"
   ]
  },
  {
   "cell_type": "code",
   "execution_count": 52,
   "id": "87d7f5b5-3f3c-4233-b706-dccd4db68997",
   "metadata": {},
   "outputs": [
    {
     "name": "stdout",
     "output_type": "stream",
     "text": [
      "1804\n",
      "1808\n",
      "1812\n",
      "1816\n",
      "1820\n",
      "1824\n",
      "1828\n",
      "1832\n",
      "1836\n",
      "1840\n",
      "1844\n",
      "1848\n",
      "1852\n",
      "1856\n",
      "1860\n",
      "1864\n",
      "1868\n",
      "1872\n",
      "1876\n",
      "1880\n",
      "1884\n",
      "1888\n",
      "1892\n",
      "1896\n",
      "1904\n",
      "1908\n",
      "1912\n",
      "1916\n",
      "1920\n",
      "1924\n",
      "1928\n",
      "1932\n",
      "1936\n",
      "1940\n",
      "1944\n",
      "1948\n",
      "1952\n",
      "1956\n",
      "1960\n",
      "1964\n",
      "1968\n",
      "1972\n",
      "1976\n",
      "1980\n",
      "1984\n",
      "1988\n",
      "1992\n",
      "1996\n",
      "2000\n",
      "2004\n",
      "2008\n",
      "2012\n",
      "2016\n",
      "2020\n",
      "2024\n",
      "2028\n",
      "2032\n",
      "2036\n",
      "2040\n",
      "2044\n",
      "2048\n",
      "2052\n",
      "2056\n",
      "2060\n",
      "2064\n",
      "2068\n",
      "2072\n",
      "2076\n",
      "2080\n",
      "2084\n",
      "2088\n",
      "2092\n",
      "2096\n",
      "2104\n",
      "2108\n",
      "2112\n",
      "2116\n",
      "2120\n",
      "2124\n",
      "2128\n",
      "2132\n",
      "2136\n",
      "2140\n",
      "2144\n",
      "2148\n",
      "2152\n",
      "2156\n",
      "2160\n",
      "2164\n",
      "2168\n",
      "2172\n",
      "2176\n",
      "2180\n",
      "2184\n",
      "2188\n",
      "2192\n",
      "2196\n"
     ]
    }
   ],
   "source": [
    "for _ in range(1800, 2200) :\n",
    "    if (_ % 100 != 0 or _ % 400 == 0) and _ % 4 == 0:\n",
    "        print(_)"
   ]
  },
  {
   "cell_type": "code",
   "execution_count": 53,
   "id": "ba41bd8f-2796-458c-99ce-64683ba1a7f0",
   "metadata": {},
   "outputs": [
    {
     "data": {
      "text/plain": [
       "['__add__',\n",
       " '__class__',\n",
       " '__class_getitem__',\n",
       " '__contains__',\n",
       " '__delattr__',\n",
       " '__delitem__',\n",
       " '__dir__',\n",
       " '__doc__',\n",
       " '__eq__',\n",
       " '__format__',\n",
       " '__ge__',\n",
       " '__getattribute__',\n",
       " '__getitem__',\n",
       " '__gt__',\n",
       " '__hash__',\n",
       " '__iadd__',\n",
       " '__imul__',\n",
       " '__init__',\n",
       " '__init_subclass__',\n",
       " '__iter__',\n",
       " '__le__',\n",
       " '__len__',\n",
       " '__lt__',\n",
       " '__mul__',\n",
       " '__ne__',\n",
       " '__new__',\n",
       " '__reduce__',\n",
       " '__reduce_ex__',\n",
       " '__repr__',\n",
       " '__reversed__',\n",
       " '__rmul__',\n",
       " '__setattr__',\n",
       " '__setitem__',\n",
       " '__sizeof__',\n",
       " '__str__',\n",
       " '__subclasshook__',\n",
       " 'append',\n",
       " 'clear',\n",
       " 'copy',\n",
       " 'count',\n",
       " 'extend',\n",
       " 'index',\n",
       " 'insert',\n",
       " 'pop',\n",
       " 'remove',\n",
       " 'reverse',\n",
       " 'sort']"
      ]
     },
     "execution_count": 53,
     "metadata": {},
     "output_type": "execute_result"
    }
   ],
   "source": [
    "list = []\n",
    "dir(list)"
   ]
  },
  {
   "cell_type": "code",
   "execution_count": 54,
   "id": "cbc096d1-bbf0-49f2-a119-6dee7f172710",
   "metadata": {},
   "outputs": [],
   "source": [
    "import requests\n",
    "\n",
    "url= 'https://www.starbucks.co.kr/store/getStore.do?r=804IUG79N7'\n",
    "\n",
    "payload = {\n",
    "    'in_biz_cds' : '0',\n",
    "    'in_scodes' : '0',\n",
    "    'ins_lat' : '37.5627128',\n",
    "    'ins_lng' : '126.93279869999999',\n",
    "    'search_text' : '',\n",
    "    'p_sido_cd' : '01',\n",
    "    'p_gugun_cd' : '',\n",
    "    'in_distance' : '0',\n",
    "    'in_biz_cd' : '',\n",
    "    'isError' : 'true',\n",
    "    'searchType' : 'C',\n",
    "    'set_date' : '',\n",
    "    'all_store' : '0',\n",
    "    'T03' : '0',\n",
    "    'T01' : '0',\n",
    "    'T12' : '0',\n",
    "    'T09' : '0',\n",
    "    'T30' : '0',\n",
    "    'T05' : '0',\n",
    "    'T22' : '0',\n",
    "    'T21' : '0',\n",
    "    'T10' : '0',\n",
    "    'T36' : '0',\n",
    "    'P10' : '0',\n",
    "    'P50' : '0',\n",
    "    'P20' : '0',\n",
    "    'P60' : '0',\n",
    "    'P30' : '0',\n",
    "    'P70' : '0',\n",
    "    'P40' : '0',\n",
    "    'P80' : '0',\n",
    "    'whcroad_yn' : '0',\n",
    "    'P90' : '0',\n",
    "    'new_bool' : '0',\n",
    "    'iend' : '1000',\n",
    "    'rndCod' : 'V8UNZFKU44',}"
   ]
  },
  {
   "cell_type": "markdown",
   "id": "8ab38e12-769d-470b-9c08-0e4f10ee13ba",
   "metadata": {},
   "source": [
    "# 문제)서울에 있는 스타벅스 리저브 매장을 찾아보세요"
   ]
  },
  {
   "cell_type": "code",
   "execution_count": 55,
   "id": "81af9bb1-6dab-4bfd-9bef-3a32703d107c",
   "metadata": {},
   "outputs": [
    {
     "name": "stdout",
     "output_type": "stream",
     "text": [
      "대치재경빌딩R       \t 서울특별시 강남구 대치동 599 대원빌딩입니다.\n",
      "삼성역섬유센터R      \t 서울특별시 강남구 대치동 944-31 한국섬유산업연합회입니다.\n",
      "압구정R          \t 서울특별시 강남구 신사동 621-1입니다.\n",
      "수서역R          \t 서울특별시 강남구 수서동 715 수서빌딩입니다.\n",
      "양재강남빌딩R       \t 서울특별시 강남구 도곡동 956 LG전자 강남R&D센터입니다.\n",
      "선릉동신빌딩R       \t 서울특별시 강남구 삼성동 141-28 동신빌딩입니다.\n",
      "스타필드코엑스몰R     \t 서울특별시 강남구 삼성동 159 코엑스  A106호입니다.\n",
      "강남R           \t 서울특별시 강남구 역삼동 825 미진프라자 1층 101호입니다.\n",
      "청담스타R         \t 서울특별시 강남구 청담동 89-4입니다.\n",
      "SSG마켓도곡R      \t 서울특별시 강남구 도곡동 467-17 타워팰리스Ⅱ F 지하1층입니다.\n",
      "센터필드R         \t 서울특별시 강남구 역삼동 676 센터필드입니다.\n",
      "마곡사이언스타워R     \t 서울특별시 강서구 마곡동 796-3 마곡사이언스타워입니다.\n",
      "관악서울대입구R      \t 서울특별시 관악구 봉천동 856-6 BS타워입니다.\n",
      "보라매공원R        \t 서울특별시 동작구 신대방동 395-65 파크스퀘어,보라매현대APT입니다.\n",
      "홍대입구역사거리R     \t 서울특별시 마포구 서교동 353-5 경남관광빌딩입니다.\n",
      "합정폴리스R        \t 서울특별시 마포구 서교동 490 메세나폴리스 B189~193입니다.\n",
      "이대R           \t 서울특별시 서대문구 대현동 54-4입니다.\n",
      "강남교보타워R       \t 서울특별시 서초구 서초동 1303-22 교보타워입니다.\n",
      "강남대로논현R       \t 서울특별시 서초구 반포동 736-2 대유빌딩입니다.\n",
      "파미에파크R        \t 서울특별시 서초구 반포동 118-3 센트럴시티 파미에파크돔 BP4-9호입니다.\n",
      "문정법원로R        \t 서울특별시 송파구 문정동 642 송파 테라타워2입니다.\n",
      "잠실대교남단R       \t 서울특별시 송파구 신천동 7-30 타워730 1층입니다.\n",
      "타임스퀘어R        \t 서울특별시 영등포구 영등포동4가 442 타임스퀘어입니다.\n",
      "여의도IFC몰(L1)R  \t 서울특별시 영등포구 여의도동 23 서울 국제금융 센터 지하1층 178호입니다.\n",
      "여의도KBS R      \t 서울특별시 영등포구 여의도동 17-9입니다.\n",
      "여의도공원R        \t 서울특별시 영등포구 여의도동 12 C.C.M.M빌딩입니다.\n",
      "여의도역R         \t 서울특별시 영등포구 여의도동 23-6   1층입니다.\n",
      "더현대서울(B2)R    \t 서울특별시 영등포구 여의도동 22 파크원입니다.\n",
      "더종로R          \t 서울특별시 종로구 종로2가 6 종로타워입니다.\n",
      "정부서울청사R       \t 서울특별시 종로구 적선동 156 광화문플래티넘입니다.\n",
      "대한상공회의소R      \t 서울특별시 중구 남대문로4가 45 대한서울상공회의소 1층입니다.\n",
      "을지로내외빌딩R      \t 서울특별시 중구 을지로2가 6 내외빌딩입니다.\n",
      "레스케이프호텔R      \t 서울특별시 중구 회현동1가 210입니다.\n",
      "한강진역R         \t 서울특별시 용산구 한남동 683-139입니다.\n",
      "용산역써밋R        \t 서울특별시 용산구 한강로2가 391 용산푸르지오써밋입니다.\n",
      "한남동R          \t 서울특별시 용산구 한남동 36-7  1층 ~ 2층입니다.\n"
     ]
    }
   ],
   "source": [
    "r = requests.post(url, data=payload)\n",
    "for _ in r.json()['list']:\n",
    "    # f-string 기법\n",
    "    if _['s_name'][-1] == 'R':\n",
    "        # ljust, rjust는 문자열 길이를 바꾸고 공백으로 채움\n",
    "        print(f\"{_['s_name'].ljust(14)}\\t {_['addr']}입니다.\")"
   ]
  },
  {
   "cell_type": "markdown",
   "id": "4f20ce31-d8df-4658-985d-68b1efcb3b8e",
   "metadata": {},
   "source": [
    "# 금천구에 있는 스타벅스 매장들을 찾아보세요"
   ]
  },
  {
   "cell_type": "code",
   "execution_count": 58,
   "id": "dafb8f26-9b8e-4409-8eb0-1c833d1e7f61",
   "metadata": {},
   "outputs": [
    {
     "name": "stdout",
     "output_type": "stream",
     "text": [
      "금천구청역          서울특별시 금천구 시흥동 1031 엠메디컬타워 112,113,114,115호입니다.\n",
      "가산에스케이        서울특별시 금천구 가산동 371-41 가산 에스케이 브이원 센터입니다.\n",
      "독산사거리          서울특별시 금천구 독산동 159-23 영진빌딩입니다.\n",
      "금천시흥            서울특별시 금천구 시흥동 904-22 더플레이스입니다.\n",
      "가산디지털단지역    서울특별시 금천구 가산동 50-3 대륭포스트타워6차입니다.\n",
      "금천독산            서울특별시 금천구 독산동 291-1입니다.\n",
      "가산디지털          서울특별시 금천구 가산동 371-28입니다.\n",
      "W-Mall              서울특별시 금천구 가산동 60-27 W-MALL내 지하1층입니다.\n",
      "마리오아울렛        서울특별시 금천구 가산동 60-20 ㈜마리오 3관1층입니다.\n",
      "가산브이타워        서울특별시 금천구 가산동 V-TOWER 371-37입니다.\n",
      "가산그레이트        서울특별시 금천구 가산동 60-5 갑을그레이트벨리 1층입니다.\n",
      "독산역              서울특별시 금천구 가산동 673, 107-2, 108, 109호입니다.\n",
      "가산현대아울렛      서울특별시 금천구 가산동 60-8 현대시티아울렛 가산점, 1층 일부입니다.\n"
     ]
    }
   ],
   "source": [
    "import unicodedata\n",
    "\n",
    "def fill_str_with_space(input_s = \"\", max_size=40, fill_char=\" \"):\n",
    "    \"\"\"\n",
    "    - 길이가 긴 문자는 2칸으로 체크하고, 짧으면 1칸으로 체크함. \n",
    "    - 최대 길이(max_size)는 40이며, input_s의 실제 길이가 이보다 짧으면 \n",
    "    남은 문자를 fill_char로 채운다.\n",
    "    \"\"\"\n",
    "    l = 0 \n",
    "    for c in input_s:\n",
    "        if unicodedata.east_asian_width(c) in ['F', 'W']:\n",
    "            l+=2\n",
    "        else: \n",
    "            l+=1\n",
    "    return input_s+fill_char*(max_size-l)\n",
    "\n",
    "r = requests.post(url, data=payload)\n",
    "for _ in r.json()['list']:\n",
    "    # f-string 기법\n",
    "    if '금천구' in _['addr']:\n",
    "        print(f\"{fill_str_with_space(_['s_name'], max_size = 20)}{_['addr']}입니다.\")"
   ]
  },
  {
   "cell_type": "markdown",
   "id": "5c4269c7-2073-4c5a-a9a2-830116d60fe7",
   "metadata": {},
   "source": [
    "# 스타벅스 중에 가장 오래된 매장을 찾아보세요"
   ]
  },
  {
   "cell_type": "code",
   "execution_count": 59,
   "id": "7908b29b-8020-4b89-85d8-9eb08afb93b6",
   "metadata": {},
   "outputs": [
    {
     "name": "stdout",
     "output_type": "stream",
     "text": [
      "19990727\n"
     ]
    }
   ],
   "source": [
    "date_list = []\n",
    "for _ in r.json()['list']:\n",
    "    date_list.append(_['open_dt'])\n",
    "date_list.sort()\n",
    "print(date_list[0])"
   ]
  },
  {
   "cell_type": "markdown",
   "id": "c43165f9-ff95-4ca8-a054-b19f3f89481b",
   "metadata": {},
   "source": [
    "lambda를 이용한 함수"
   ]
  },
  {
   "cell_type": "code",
   "execution_count": 60,
   "id": "4ba640c2-e1e2-4745-8144-872b7d7afda5",
   "metadata": {},
   "outputs": [
    {
     "name": "stdout",
     "output_type": "stream",
     "text": [
      "19990727\n"
     ]
    }
   ],
   "source": [
    "print(sorted(r.json()['list'], key = lambda item: item['open_dt'])[0]['open_dt'])\n",
    "# dictionary 정렬 : https://codechacha.com/ko/python-sorting-dict/\n",
    "# sort vs sorted : https://codinglevelup.tistory.com/85"
   ]
  },
  {
   "cell_type": "code",
   "execution_count": null,
   "id": "898e8566-fb49-4176-91c8-011203d72a44",
   "metadata": {},
   "outputs": [],
   "source": []
  },
  {
   "cell_type": "code",
   "execution_count": null,
   "id": "91c45029-02ec-4c5b-ad64-e9ccb9f387e3",
   "metadata": {},
   "outputs": [],
   "source": []
  }
 ],
 "metadata": {
  "kernelspec": {
   "display_name": "Python 3 (ipykernel)",
   "language": "python",
   "name": "python3"
  },
  "language_info": {
   "codemirror_mode": {
    "name": "ipython",
    "version": 3
   },
   "file_extension": ".py",
   "mimetype": "text/x-python",
   "name": "python",
   "nbconvert_exporter": "python",
   "pygments_lexer": "ipython3",
   "version": "3.9.13"
  }
 },
 "nbformat": 4,
 "nbformat_minor": 5
}
