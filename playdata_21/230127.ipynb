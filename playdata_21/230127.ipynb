{
 "cells": [
  {
   "cell_type": "markdown",
   "id": "1b778ef7-52ad-42c2-931f-e7538d939fb7",
   "metadata": {},
   "source": [
    "# PlayData_21"
   ]
  },
  {
   "cell_type": "code",
   "execution_count": null,
   "id": "df7646d0-8ad0-4d96-92fe-0000328154ba",
   "metadata": {},
   "outputs": [],
   "source": []
  },
  {
   "cell_type": "code",
   "execution_count": null,
   "id": "063f384a-b224-426e-9854-07ae80d771c3",
   "metadata": {},
   "outputs": [],
   "source": []
  },
  {
   "cell_type": "code",
   "execution_count": null,
   "id": "3aeeaa52-7136-4f15-b18b-84850c635670",
   "metadata": {},
   "outputs": [],
   "source": []
  },
  {
   "cell_type": "code",
   "execution_count": null,
   "id": "3d717d92-fd7c-4213-ac90-5267aefa7d99",
   "metadata": {},
   "outputs": [],
   "source": []
  },
  {
   "cell_type": "code",
   "execution_count": 15,
   "id": "79de4f59-7d67-4050-933d-4c7bbab3a0d5",
   "metadata": {},
   "outputs": [
    {
     "name": "stdout",
     "output_type": "stream",
     "text": [
      "Requirement already satisfied: selenium in c:\\users\\user\\anaconda3\\lib\\site-packages (4.8.0)\n",
      "Requirement already satisfied: trio-websocket~=0.9 in c:\\users\\user\\anaconda3\\lib\\site-packages (from selenium) (0.9.2)\n",
      "Requirement already satisfied: trio~=0.17 in c:\\users\\user\\anaconda3\\lib\\site-packages (from selenium) (0.22.0)\n",
      "Requirement already satisfied: certifi>=2021.10.8 in c:\\users\\user\\anaconda3\\lib\\site-packages (from selenium) (2022.9.14)\n",
      "Requirement already satisfied: urllib3[socks]~=1.26 in c:\\users\\user\\anaconda3\\lib\\site-packages (from selenium) (1.26.11)\n",
      "Requirement already satisfied: outcome in c:\\users\\user\\anaconda3\\lib\\site-packages (from trio~=0.17->selenium) (1.2.0)\n",
      "Requirement already satisfied: cffi>=1.14 in c:\\users\\user\\anaconda3\\lib\\site-packages (from trio~=0.17->selenium) (1.15.1)\n",
      "Requirement already satisfied: exceptiongroup>=1.0.0rc9 in c:\\users\\user\\anaconda3\\lib\\site-packages (from trio~=0.17->selenium) (1.1.0)\n",
      "Requirement already satisfied: sortedcontainers in c:\\users\\user\\anaconda3\\lib\\site-packages (from trio~=0.17->selenium) (2.4.0)\n",
      "Requirement already satisfied: idna in c:\\users\\user\\anaconda3\\lib\\site-packages (from trio~=0.17->selenium) (3.3)\n",
      "Requirement already satisfied: sniffio in c:\\users\\user\\anaconda3\\lib\\site-packages (from trio~=0.17->selenium) (1.2.0)\n",
      "Requirement already satisfied: async-generator>=1.9 in c:\\users\\user\\anaconda3\\lib\\site-packages (from trio~=0.17->selenium) (1.10)\n",
      "Requirement already satisfied: attrs>=19.2.0 in c:\\users\\user\\anaconda3\\lib\\site-packages (from trio~=0.17->selenium) (21.4.0)\n",
      "Requirement already satisfied: wsproto>=0.14 in c:\\users\\user\\anaconda3\\lib\\site-packages (from trio-websocket~=0.9->selenium) (1.2.0)\n",
      "Requirement already satisfied: PySocks!=1.5.7,<2.0,>=1.5.6 in c:\\users\\user\\anaconda3\\lib\\site-packages (from urllib3[socks]~=1.26->selenium) (1.7.1)\n",
      "Requirement already satisfied: pycparser in c:\\users\\user\\anaconda3\\lib\\site-packages (from cffi>=1.14->trio~=0.17->selenium) (2.21)\n",
      "Requirement already satisfied: h11<1,>=0.9.0 in c:\\users\\user\\anaconda3\\lib\\site-packages (from wsproto>=0.14->trio-websocket~=0.9->selenium) (0.14.0)\n",
      "Note: you may need to restart the kernel to use updated packages.\n"
     ]
    }
   ],
   "source": [
    "pip install selenium"
   ]
  },
  {
   "cell_type": "code",
   "execution_count": null,
   "id": "08c3f104-a6ae-4e03-b082-e6274bd590ef",
   "metadata": {},
   "outputs": [],
   "source": []
  },
  {
   "cell_type": "code",
   "execution_count": 16,
   "id": "dbee80bc-539e-4ea9-8ca9-381a1d641889",
   "metadata": {},
   "outputs": [],
   "source": [
    "import selenium"
   ]
  },
  {
   "cell_type": "code",
   "execution_count": 17,
   "id": "30b69eeb-9ec9-4eb5-ad48-4b780436c8b2",
   "metadata": {},
   "outputs": [],
   "source": [
    "from selenium.webdriver.common.by import By"
   ]
  },
  {
   "cell_type": "code",
   "execution_count": 18,
   "id": "e645f511-493d-4c74-9b27-ad3f56f29d09",
   "metadata": {},
   "outputs": [],
   "source": [
    "driver = selenium.webdriver.Chrome()"
   ]
  },
  {
   "cell_type": "code",
   "execution_count": 19,
   "id": "413c9acb-9b93-4733-8780-2e8a70be5685",
   "metadata": {},
   "outputs": [],
   "source": [
    "url = \"https://www.koreabaseball.com/\""
   ]
  },
  {
   "cell_type": "code",
   "execution_count": 20,
   "id": "ae05d7b8-7001-47a4-bdf5-d45b64e6b73a",
   "metadata": {},
   "outputs": [],
   "source": [
    "driver.get(url)"
   ]
  },
  {
   "cell_type": "code",
   "execution_count": 21,
   "id": "bf8b987c-5889-4abd-8a74-887147323804",
   "metadata": {},
   "outputs": [],
   "source": [
    "driver.find_element(By.CSS_SELECTOR,\n",
    "                    \"#popupVideo > img\").click()\n",
    "driver.find_element(By.CSS_SELECTOR,\n",
    "                    \"#lnb > li:nth-child(4) > a\").click()"
   ]
  },
  {
   "cell_type": "code",
   "execution_count": null,
   "id": "e4e2a190-7fae-458c-89b5-9e90e4fe11fd",
   "metadata": {},
   "outputs": [],
   "source": []
  },
  {
   "cell_type": "code",
   "execution_count": 23,
   "id": "7dfc73a1-1245-4a21-ab2b-a3ded8237f4f",
   "metadata": {},
   "outputs": [],
   "source": [
    "import pickle\n",
    "with open(\"./kbo.pkl\", \"wb\") as f:\n",
    "    pickle.dump(playid, f)"
   ]
  },
  {
   "cell_type": "code",
   "execution_count": null,
   "id": "1929b0f5-136c-4a83-9fe5-02b707f3d25d",
   "metadata": {},
   "outputs": [],
   "source": []
  },
  {
   "cell_type": "code",
   "execution_count": null,
   "id": "4914165d-c41d-459e-8f13-138af1252a85",
   "metadata": {},
   "outputs": [],
   "source": []
  },
  {
   "cell_type": "code",
   "execution_count": 22,
   "id": "ebba9ed5-76ad-4888-bac1-e99a50c0d96a",
   "metadata": {},
   "outputs": [
    {
     "name": "stdout",
     "output_type": "stream",
     "text": [
      "Message: no such element: Unable to locate element: {\"method\":\"css selector\",\"selector\":\"#cphContents_cphContents_cphContents_ucPager_btnNo5\"}\n",
      "  (Session info: chrome=109.0.5414.120)\n",
      "Stacktrace:\n",
      "Backtrace:\n",
      "\t(No symbol) [0x011D6643]\n",
      "\t(No symbol) [0x0116BE21]\n",
      "\t(No symbol) [0x0106DA9D]\n",
      "\t(No symbol) [0x010A1342]\n",
      "\t(No symbol) [0x010A147B]\n",
      "\t(No symbol) [0x010D8DC2]\n",
      "\t(No symbol) [0x010BFDC4]\n",
      "\t(No symbol) [0x010D6B09]\n",
      "\t(No symbol) [0x010BFB76]\n",
      "\t(No symbol) [0x010949C1]\n",
      "\t(No symbol) [0x01095E5D]\n",
      "\tGetHandleVerifier [0x0144A142+2497106]\n",
      "\tGetHandleVerifier [0x014785D3+2686691]\n",
      "\tGetHandleVerifier [0x0147BB9C+2700460]\n",
      "\tGetHandleVerifier [0x01283B10+635936]\n",
      "\t(No symbol) [0x01174A1F]\n",
      "\t(No symbol) [0x0117A418]\n",
      "\t(No symbol) [0x0117A505]\n",
      "\t(No symbol) [0x0118508B]\n",
      "\tBaseThreadInitThunk [0x75D37D69+25]\n",
      "\tRtlInitializeExceptionChain [0x76FBBB9B+107]\n",
      "\tRtlClearBits [0x76FBBB1F+191]\n",
      "\n"
     ]
    }
   ],
   "source": [
    "import time\n",
    "import re\n",
    "select_team = \"#cphContents_cphContents_cphContents_ddlTeam > option:nth-child({})\"\n",
    "select_page = \"#cphContents_cphContents_cphContents_ucPager_btnNo{}\"\n",
    "pattern = re.compile(\"playerId=([0-9]+)\")\n",
    "playid = []\n",
    "for x in range(2,12):\n",
    "    for_1 = select_team.format(x)\n",
    "    driver.find_element(By.CSS_SELECTOR, for_1).click()\n",
    "    time.sleep(2)\n",
    "    #playid.extend(pattern.findall(driver.page_source))\n",
    "    for y in range(1,6):\n",
    "        f2 = select_page.format(y)\n",
    "        try:\n",
    "            driver.find_element(By.CSS_SELECTOR, f2).click()\n",
    "            time.sleep(1)\n",
    "            playid.extend(pattern.findall(driver.page_source))\n",
    "        except Exception as e:\n",
    "            print (e)\n",
    "        time.sleep(2)"
   ]
  },
  {
   "cell_type": "code",
   "execution_count": 24,
   "id": "23ddeb0f-a4cf-45a4-ae1f-bb770ca5c52b",
   "metadata": {},
   "outputs": [
    {
     "data": {
      "text/plain": [
       "882"
      ]
     },
     "execution_count": 24,
     "metadata": {},
     "output_type": "execute_result"
    }
   ],
   "source": [
    "len(playid)"
   ]
  },
  {
   "cell_type": "code",
   "execution_count": null,
   "id": "aa0a0c3b-dd54-49fc-b665-dc9676d8b060",
   "metadata": {},
   "outputs": [],
   "source": []
  },
  {
   "cell_type": "code",
   "execution_count": null,
   "id": "66847cd0-df9d-41fd-b829-2e801af4840e",
   "metadata": {},
   "outputs": [],
   "source": []
  },
  {
   "cell_type": "code",
   "execution_count": null,
   "id": "0b0e7621-e8ec-45c6-974e-3b7b335f0b4b",
   "metadata": {},
   "outputs": [],
   "source": []
  },
  {
   "cell_type": "code",
   "execution_count": null,
   "id": "f82593aa-b94a-404b-b17b-63c103ba92ca",
   "metadata": {},
   "outputs": [],
   "source": []
  },
  {
   "cell_type": "code",
   "execution_count": null,
   "id": "81ac3706-89fc-4108-ba8e-09fd85c82dce",
   "metadata": {
    "jupyter": {
     "source_hidden": true
    },
    "tags": []
   },
   "outputs": [],
   "source": []
  }
 ],
 "metadata": {
  "kernelspec": {
   "display_name": "Python 3 (ipykernel)",
   "language": "python",
   "name": "python3"
  },
  "language_info": {
   "codemirror_mode": {
    "name": "ipython",
    "version": 3
   },
   "file_extension": ".py",
   "mimetype": "text/x-python",
   "name": "python",
   "nbconvert_exporter": "python",
   "pygments_lexer": "ipython3",
   "version": "3.9.13"
  }
 },
 "nbformat": 4,
 "nbformat_minor": 5
}
