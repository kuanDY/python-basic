{
 "cells": [
  {
   "cell_type": "markdown",
   "id": "f0b29360-5473-4d98-adcc-4a1cd6c31729",
   "metadata": {
    "tags": []
   },
   "source": [
    "# 03 python"
   ]
  },
  {
   "cell_type": "markdown",
   "id": "e49994ab-dd57-43bf-b1d3-44714bf9fec0",
   "metadata": {},
   "source": [
    "[문제1] 13 + (22 - 3) × 4 의 결과를 구해보세요."
   ]
  },
  {
   "cell_type": "markdown",
   "id": "e7aa51c7-1112-4600-87d6-3a8456a0d220",
   "metadata": {
    "tags": []
   },
   "source": [
    "a = 13 + (22 -3) *4  \n",
    "print(a)"
   ]
  },
  {
   "cell_type": "code",
   "execution_count": 4,
   "id": "0604fbeb-500f-48f9-9017-bd7406b15b00",
   "metadata": {
    "tags": []
   },
   "outputs": [
    {
     "name": "stdout",
     "output_type": "stream",
     "text": [
      "89\n"
     ]
    }
   ],
   "source": [
    "a = 13 + (22 -3) *4\n",
    "print(a)"
   ]
  },
  {
   "cell_type": "markdown",
   "id": "b5f0c82b-8ad9-49f7-9992-28135a505d5e",
   "metadata": {},
   "source": [
    "[문제2] 13 + ((22 - 3) × 4) ÷ 5 의 결과를 구해보세요."
   ]
  },
  {
   "cell_type": "markdown",
   "id": "1378af81-7d51-404e-94ee-3c2543728d5c",
   "metadata": {},
   "source": [
    "b = 13 +((22-3) *4)/5  \n",
    "print(b)"
   ]
  },
  {
   "cell_type": "code",
   "execution_count": 6,
   "id": "180ed8cf-695c-4dbb-928e-5abe645cd2d0",
   "metadata": {
    "tags": []
   },
   "outputs": [
    {
     "name": "stdout",
     "output_type": "stream",
     "text": [
      "28.2\n"
     ]
    }
   ],
   "source": [
    "b = 13 +((22-3) *4)/5\n",
    "print(b)"
   ]
  },
  {
   "cell_type": "markdown",
   "id": "dadbc43e-3caf-4967-8c54-b57bb8add747",
   "metadata": {},
   "source": [
    "[문제3] 국립환경과학원에서는 아파트에서 소음이 가장 심한 층수를 구하는 계산식을 \n",
    "발표했습니다. 소음이 가장 심한 층은 0.2467 × 도로와의 거리(m) + 4.159 입니다. 이때 \n",
    "소음이 가장 심한 층수를 구해보세요.(단 층수는 정수로 표기 하세요.)\n",
    "- 도로와의 거리 12m"
   ]
  },
  {
   "cell_type": "markdown",
   "id": "61e0c102-bd08-40ff-971d-a2bc9e3f0435",
   "metadata": {},
   "source": [
    "print(int(0.2467*12+4.159))"
   ]
  },
  {
   "cell_type": "code",
   "execution_count": 1,
   "id": "505697e3-0a11-49f6-a359-6be1765dce60",
   "metadata": {},
   "outputs": [
    {
     "name": "stdout",
     "output_type": "stream",
     "text": [
      "7\n"
     ]
    }
   ],
   "source": [
    "print(int(0.2467*12+4.159))"
   ]
  },
  {
   "cell_type": "markdown",
   "id": "b8b8bfb6-29e5-46ea-a2ad-8d93c870743f",
   "metadata": {},
   "source": [
    "[문제 3-1]  \n",
    "앞선 문제의 결과를 아래와 같이 출력하고자 합니다.  \n",
    "실행 결과:   \n",
    "가장 시끄러운 층은 = 7 층"
   ]
  },
  {
   "cell_type": "markdown",
   "id": "da0f6342-50b4-42fc-9192-2a5d29b5d147",
   "metadata": {},
   "source": [
    "print(\"가장 시끄러운 층은 =\", int(0.2467*12+4.159),\"층\")"
   ]
  },
  {
   "cell_type": "code",
   "execution_count": 6,
   "id": "83d8ba09-0de8-40fb-95d4-7dcd2c7d140f",
   "metadata": {},
   "outputs": [
    {
     "name": "stdout",
     "output_type": "stream",
     "text": [
      "가장 시끄러운 층은 = 7 층\n"
     ]
    }
   ],
   "source": [
    "print(\"가장 시끄러운 층은 =\", int(0.2467*12+4.159),\"층\")"
   ]
  },
  {
   "cell_type": "markdown",
   "id": "6ba86712-474e-41cc-b5cf-5119e8775f53",
   "metadata": {},
   "source": [
    "[문제4] 헬로우마트에서 냉장고를 월 53,000원에 무이자 24개월 할부 조건으로 판매하고 \n",
    "있습니다.  \n",
    "냉장고의 총 금액을 아래와 같이 출력해보세요.  \n",
    "실행 결과: \n",
    "냉장고 가격은 1272000 원 입니다.\n"
   ]
  },
  {
   "cell_type": "markdown",
   "id": "f9d90934-5219-4ad1-8302-ff7bb2ff5393",
   "metadata": {
    "tags": []
   },
   "source": [
    "print(\"냉장고 가격은\", int(53000*24), \"원 입니다.\")"
   ]
  },
  {
   "cell_type": "code",
   "execution_count": 7,
   "id": "8e21e73b-7268-49db-81af-0f648aa33f08",
   "metadata": {
    "tags": []
   },
   "outputs": [
    {
     "name": "stdout",
     "output_type": "stream",
     "text": [
      "냉장고 가격은 1272000 원 입니다.\n"
     ]
    }
   ],
   "source": [
    "print(\"냉장고 가격은\", int(53000*24), \"원 입니다.\")"
   ]
  },
  {
   "cell_type": "markdown",
   "id": "f736430b-4791-479b-9b62-ea3323992cd7",
   "metadata": {},
   "source": [
    "refrig_price = 53000*24\n",
    "print(\"냉장고 가격은\", refrig_price,\"원 입니다.\")"
   ]
  },
  {
   "cell_type": "code",
   "execution_count": 9,
   "id": "70313b11-9022-4ff9-a34b-da244e113ed0",
   "metadata": {
    "tags": []
   },
   "outputs": [
    {
     "name": "stdout",
     "output_type": "stream",
     "text": [
      "냉장고 가격은 1272000 원 입니다.\n"
     ]
    }
   ],
   "source": [
    "refrig_price = 53000*24\n",
    "print(\"냉장고 가격은\", refrig_price,\"원 입니다.\")"
   ]
  },
  {
   "cell_type": "code",
   "execution_count": null,
   "id": "88e3a530-9170-4f6d-be94-a1568dea0696",
   "metadata": {},
   "outputs": [],
   "source": []
  },
  {
   "cell_type": "code",
   "execution_count": null,
   "id": "4525292f-1426-4ef7-aa27-6e8d10f12d89",
   "metadata": {},
   "outputs": [],
   "source": []
  },
  {
   "cell_type": "code",
   "execution_count": null,
   "id": "2db21313-5a25-4f6e-852c-4016d0712217",
   "metadata": {},
   "outputs": [],
   "source": []
  },
  {
   "cell_type": "code",
   "execution_count": null,
   "id": "cfd11af2-8f6c-4d20-9ddc-8dcdc9ae8729",
   "metadata": {},
   "outputs": [],
   "source": []
  }
 ],
 "metadata": {
  "kernelspec": {
   "display_name": "Python 3 (ipykernel)",
   "language": "python",
   "name": "python3"
  },
  "language_info": {
   "codemirror_mode": {
    "name": "ipython",
    "version": 3
   },
   "file_extension": ".py",
   "mimetype": "text/x-python",
   "name": "python",
   "nbconvert_exporter": "python",
   "pygments_lexer": "ipython3",
   "version": "3.9.13"
  }
 },
 "nbformat": 4,
 "nbformat_minor": 5
}
